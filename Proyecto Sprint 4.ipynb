{
 "cells": [
  {
   "cell_type": "markdown",
   "id": "87494983",
   "metadata": {},
   "source": [
    "\n",
    "¡Hola!\n",
    "\n",
    "Mi nombre es Tonatiuh Cruz. Me complace revisar tu proyecto hoy.\n",
    "\n",
    "Al identificar cualquier error inicialmente, simplemente los destacaré. Te animo a localizar y abordar los problemas de forma independiente como parte de tu preparación para un rol como data-scientist. En un entorno profesional, tu líder de equipo seguiría un enfoque similar. Si encuentras la tarea desafiante, proporcionaré una pista más específica en la próxima iteración.\n",
    "\n",
    "Encontrarás mis comentarios a continuación - **por favor no los muevas, modifiques o elimines**.\n",
    "\n",
    "Puedes encontrar mis comentarios en cajas verdes, amarillas o rojas como esta:\n",
    "\n",
    "<div class=\"alert alert-block alert-success\">\n",
    "<b>Comentario del revisor</b> <a class=\"tocSkip\"></a>\n",
    "\n",
    "Éxito. Todo está hecho correctamente.\n",
    "</div>\n",
    "\n",
    "<div class=\"alert alert-block alert-warning\">\n",
    "<b>Comentario del revisor</b> <a class=\"tocSkip\"></a>\n",
    "\n",
    "Observaciones. Algunas recomendaciones.\n",
    "</div>\n",
    "\n",
    "<div class=\"alert alert-block alert-danger\">\n",
    "<b>Comentario del revisor</b> <a class=\"tocSkip\"></a>\n",
    "\n",
    "Necesita corrección. El bloque requiere algunas correcciones. El trabajo no puede ser aceptado con comentarios en rojo.\n",
    "</div>\n",
    "\n",
    "Puedes responderme utilizando esto:\n",
    "\n",
    "<div class=\"alert alert-block alert-info\">\n",
    "<b>Respuesta del estudiante.</b> <a class=\"tocSkip\"></a>\n",
    "</div>"
   ]
  },
  {
   "cell_type": "markdown",
   "id": "3Xg_RQfnafXz",
   "metadata": {
    "id": "3Xg_RQfnafXz"
   },
   "source": [
    "# ¡Llena ese carrito!"
   ]
  },
  {
   "cell_type": "markdown",
   "id": "mhIvmmkW414q",
   "metadata": {
    "id": "mhIvmmkW414q"
   },
   "source": [
    "# Introducción\n",
    "\n",
    "Instacart es una plataforma de entregas de comestibles donde la clientela puede registrar un pedido y hacer que se lo entreguen, similar a Uber Eats y Door Dash.\n",
    "El conjunto de datos que te hemos proporcionado tiene modificaciones del original. Redujimos el tamaño del conjunto para que tus cálculos se hicieran más rápido e introdujimos valores ausentes y duplicados. Tuvimos cuidado de conservar las distribuciones de los datos originales cuando hicimos los cambios.\n",
    "\n",
    "Debes completar tres pasos. Para cada uno de ellos, escribe una breve introducción que refleje con claridad cómo pretendes resolver cada paso, y escribe párrafos explicatorios que justifiquen tus decisiones al tiempo que avanzas en tu solución.  También escribe una conclusión que resuma tus hallazgos y elecciones.\n"
   ]
  },
  {
   "cell_type": "markdown",
   "id": "3MbyzpOQZ5Or",
   "metadata": {
    "id": "3MbyzpOQZ5Or"
   },
   "source": [
    "## Diccionario de datos\n",
    "\n",
    "Hay cinco tablas en el conjunto de datos, y tendrás que usarlas todas para hacer el preprocesamiento de datos y el análisis exploratorio de datos. A continuación se muestra un diccionario de datos que enumera las columnas de cada tabla y describe los datos que contienen.\n",
    "\n",
    "- `instacart_orders.csv`: cada fila corresponde a un pedido en la aplicación Instacart.\n",
    "    - `'order_id'`: número de ID que identifica de manera única cada pedido.\n",
    "    - `'user_id'`: número de ID que identifica de manera única la cuenta de cada cliente.\n",
    "    - `'order_number'`: el número de veces que este cliente ha hecho un pedido.\n",
    "    - `'order_dow'`: día de la semana en que se hizo el pedido (0 si es domingo).\n",
    "    - `'order_hour_of_day'`: hora del día en que se hizo el pedido.\n",
    "    - `'days_since_prior_order'`: número de días transcurridos desde que este cliente hizo su pedido anterior.\n",
    "- `products.csv`: cada fila corresponde a un producto único que pueden comprar los clientes.\n",
    "    - `'product_id'`: número ID que identifica de manera única cada producto.\n",
    "    - `'product_name'`: nombre del producto.\n",
    "    - `'aisle_id'`: número ID que identifica de manera única cada categoría de pasillo de víveres.\n",
    "    - `'department_id'`: número ID que identifica de manera única cada departamento de víveres.\n",
    "- `order_products.csv`: cada fila corresponde a un artículo pedido en un pedido.\n",
    "    - `'order_id'`: número de ID que identifica de manera única cada pedido.\n",
    "    - `'product_id'`: número ID que identifica de manera única cada producto.\n",
    "    - `'add_to_cart_order'`: el orden secuencial en el que se añadió cada artículo en el carrito.\n",
    "    - `'reordered'`: 0 si el cliente nunca ha pedido este producto antes, 1 si lo ha pedido.\n",
    "- `aisles.csv`\n",
    "    - `'aisle_id'`: número ID que identifica de manera única cada categoría de pasillo de víveres.\n",
    "    - `'aisle'`: nombre del pasillo.\n",
    "- `departments.csv`\n",
    "    - `'department_id'`: número ID que identifica de manera única cada departamento de víveres.\n",
    "    - `'department'`: nombre del departamento."
   ]
  },
  {
   "cell_type": "markdown",
   "id": "8dea8704",
   "metadata": {},
   "source": [
    "<div class=\"alert alert-block alert-success\">\n",
    "<b>Comentario del revisor</b> <a class=\"tocSkip\"></a>\n",
    "\n",
    "¡Hola! Excelente trabajo desarrollando la introducción y el diccionario de datos. Esto es crucial para cualquier proyecto, ya que establece una guía clara sobre los pasos a seguir. Tener estos elementos bien definidos desde el principio nos permite trabajar de manera más organizada y eficiente. En un futuro lo podrías complementar con una tabla de contenido.\n",
    "</div>\n"
   ]
  },
  {
   "cell_type": "markdown",
   "id": "n3Ha_cNSZ8lK",
   "metadata": {
    "id": "n3Ha_cNSZ8lK"
   },
   "source": [
    "# Paso 1. Descripción de los datos\n",
    "\n",
    "Lee los archivos de datos (`/datasets/instacart_orders.csv`, `/datasets/products.csv`, `/datasets/aisles.csv`, `/datasets/departments.csv` y `/datasets/order_products.csv`) con `pd.read_csv()` usando los parámetros adecuados para leer los datos correctamente. Verifica la información para cada DataFrame creado.\n"
   ]
  },
  {
   "cell_type": "markdown",
   "id": "OmlQPLlyaAfR",
   "metadata": {
    "id": "OmlQPLlyaAfR"
   },
   "source": [
    "## Plan de solución\n",
    "\n",
    "Escribe aquí tu plan de solución para el Paso 1. Descripción de los datos.\n",
    "\n",
    "Primero importaré las librerias que considero ocuparé a lo largo de todo el proyecto, después verificaré con qué tipo de separación se encuentran los datos de los DataFrames y procederé a colocarles la separación con la que cuentan para que puedan ser leídos correctamente. Posteriormente, llamaré a info() para que pueda analizar los tipos de datos que contiene cada DataFrame y también llamaré a head() para que pueda darme una idea más visual de la información contenida en cada DataFrame para que posteriormente sepa como tratar los datos.\n"
   ]
  },
  {
   "cell_type": "code",
   "execution_count": 1,
   "id": "fbf1adab",
   "metadata": {
    "id": "fbf1adab"
   },
   "outputs": [],
   "source": [
    "import pandas as pd \n",
    "import matplotlib as plt \n",
    "# importar librerías"
   ]
  },
  {
   "cell_type": "code",
   "execution_count": 2,
   "id": "ad36396d",
   "metadata": {
    "id": "ad36396d"
   },
   "outputs": [],
   "source": [
    "instacart_orders = pd.read_csv('/datasets/instacart_orders.csv', sep= ';')\n",
    "products = pd.read_csv('/datasets/products.csv', sep= ';')\n",
    "aisles = pd.read_csv('/datasets/aisles.csv', sep= ';')\n",
    "departments = pd.read_csv('/datasets/departments.csv', sep= ';')\n",
    "order_products = pd.read_csv('/datasets/order_products.csv', sep= ';')\n",
    "# leer conjuntos de datos en los DataFrames"
   ]
  },
  {
   "cell_type": "markdown",
   "id": "2b6e74bf",
   "metadata": {},
   "source": [
    "<div class=\"alert alert-block alert-success\">\n",
    "<b>Comentario del revisor:</b> <a class=\"tocSkip\"></a>\n",
    "    \n",
    "Has realizado un excelente trabajo al importar los datos y las bibliotecas necesarias.\n",
    "\n",
    "</div>"
   ]
  },
  {
   "cell_type": "code",
   "execution_count": 3,
   "id": "ad6a1efa",
   "metadata": {
    "id": "ad6a1efa"
   },
   "outputs": [
    {
     "name": "stdout",
     "output_type": "stream",
     "text": [
      "<class 'pandas.core.frame.DataFrame'>\n",
      "RangeIndex: 478967 entries, 0 to 478966\n",
      "Data columns (total 6 columns):\n",
      " #   Column                  Non-Null Count   Dtype  \n",
      "---  ------                  --------------   -----  \n",
      " 0   order_id                478967 non-null  int64  \n",
      " 1   user_id                 478967 non-null  int64  \n",
      " 2   order_number            478967 non-null  int64  \n",
      " 3   order_dow               478967 non-null  int64  \n",
      " 4   order_hour_of_day       478967 non-null  int64  \n",
      " 5   days_since_prior_order  450148 non-null  float64\n",
      "dtypes: float64(1), int64(5)\n",
      "memory usage: 21.9 MB\n"
     ]
    },
    {
     "data": {
      "text/html": [
       "<div>\n",
       "<style scoped>\n",
       "    .dataframe tbody tr th:only-of-type {\n",
       "        vertical-align: middle;\n",
       "    }\n",
       "\n",
       "    .dataframe tbody tr th {\n",
       "        vertical-align: top;\n",
       "    }\n",
       "\n",
       "    .dataframe thead th {\n",
       "        text-align: right;\n",
       "    }\n",
       "</style>\n",
       "<table border=\"1\" class=\"dataframe\">\n",
       "  <thead>\n",
       "    <tr style=\"text-align: right;\">\n",
       "      <th></th>\n",
       "      <th>order_id</th>\n",
       "      <th>user_id</th>\n",
       "      <th>order_number</th>\n",
       "      <th>order_dow</th>\n",
       "      <th>order_hour_of_day</th>\n",
       "      <th>days_since_prior_order</th>\n",
       "    </tr>\n",
       "  </thead>\n",
       "  <tbody>\n",
       "    <tr>\n",
       "      <th>0</th>\n",
       "      <td>1515936</td>\n",
       "      <td>183418</td>\n",
       "      <td>11</td>\n",
       "      <td>6</td>\n",
       "      <td>13</td>\n",
       "      <td>30.0</td>\n",
       "    </tr>\n",
       "    <tr>\n",
       "      <th>1</th>\n",
       "      <td>1690866</td>\n",
       "      <td>163593</td>\n",
       "      <td>5</td>\n",
       "      <td>5</td>\n",
       "      <td>12</td>\n",
       "      <td>9.0</td>\n",
       "    </tr>\n",
       "    <tr>\n",
       "      <th>2</th>\n",
       "      <td>1454967</td>\n",
       "      <td>39980</td>\n",
       "      <td>4</td>\n",
       "      <td>5</td>\n",
       "      <td>19</td>\n",
       "      <td>2.0</td>\n",
       "    </tr>\n",
       "    <tr>\n",
       "      <th>3</th>\n",
       "      <td>1768857</td>\n",
       "      <td>82516</td>\n",
       "      <td>56</td>\n",
       "      <td>0</td>\n",
       "      <td>20</td>\n",
       "      <td>10.0</td>\n",
       "    </tr>\n",
       "    <tr>\n",
       "      <th>4</th>\n",
       "      <td>3007858</td>\n",
       "      <td>196724</td>\n",
       "      <td>2</td>\n",
       "      <td>4</td>\n",
       "      <td>12</td>\n",
       "      <td>17.0</td>\n",
       "    </tr>\n",
       "  </tbody>\n",
       "</table>\n",
       "</div>"
      ],
      "text/plain": [
       "   order_id  user_id  order_number  order_dow  order_hour_of_day  \\\n",
       "0   1515936   183418            11          6                 13   \n",
       "1   1690866   163593             5          5                 12   \n",
       "2   1454967    39980             4          5                 19   \n",
       "3   1768857    82516            56          0                 20   \n",
       "4   3007858   196724             2          4                 12   \n",
       "\n",
       "   days_since_prior_order  \n",
       "0                    30.0  \n",
       "1                     9.0  \n",
       "2                     2.0  \n",
       "3                    10.0  \n",
       "4                    17.0  "
      ]
     },
     "execution_count": 3,
     "metadata": {},
     "output_type": "execute_result"
    }
   ],
   "source": [
    "# mostrar información del DataFrame Orders\n",
    "instacart_orders.info()\n",
    "instacart_orders.head()\n"
   ]
  },
  {
   "cell_type": "code",
   "execution_count": 4,
   "id": "5130e05e",
   "metadata": {
    "id": "5130e05e"
   },
   "outputs": [
    {
     "name": "stdout",
     "output_type": "stream",
     "text": [
      "<class 'pandas.core.frame.DataFrame'>\n",
      "RangeIndex: 49694 entries, 0 to 49693\n",
      "Data columns (total 4 columns):\n",
      " #   Column         Non-Null Count  Dtype \n",
      "---  ------         --------------  ----- \n",
      " 0   product_id     49694 non-null  int64 \n",
      " 1   product_name   48436 non-null  object\n",
      " 2   aisle_id       49694 non-null  int64 \n",
      " 3   department_id  49694 non-null  int64 \n",
      "dtypes: int64(3), object(1)\n",
      "memory usage: 1.5+ MB\n"
     ]
    },
    {
     "data": {
      "text/html": [
       "<div>\n",
       "<style scoped>\n",
       "    .dataframe tbody tr th:only-of-type {\n",
       "        vertical-align: middle;\n",
       "    }\n",
       "\n",
       "    .dataframe tbody tr th {\n",
       "        vertical-align: top;\n",
       "    }\n",
       "\n",
       "    .dataframe thead th {\n",
       "        text-align: right;\n",
       "    }\n",
       "</style>\n",
       "<table border=\"1\" class=\"dataframe\">\n",
       "  <thead>\n",
       "    <tr style=\"text-align: right;\">\n",
       "      <th></th>\n",
       "      <th>product_id</th>\n",
       "      <th>product_name</th>\n",
       "      <th>aisle_id</th>\n",
       "      <th>department_id</th>\n",
       "    </tr>\n",
       "  </thead>\n",
       "  <tbody>\n",
       "    <tr>\n",
       "      <th>0</th>\n",
       "      <td>1</td>\n",
       "      <td>Chocolate Sandwich Cookies</td>\n",
       "      <td>61</td>\n",
       "      <td>19</td>\n",
       "    </tr>\n",
       "    <tr>\n",
       "      <th>1</th>\n",
       "      <td>2</td>\n",
       "      <td>All-Seasons Salt</td>\n",
       "      <td>104</td>\n",
       "      <td>13</td>\n",
       "    </tr>\n",
       "    <tr>\n",
       "      <th>2</th>\n",
       "      <td>3</td>\n",
       "      <td>Robust Golden Unsweetened Oolong Tea</td>\n",
       "      <td>94</td>\n",
       "      <td>7</td>\n",
       "    </tr>\n",
       "    <tr>\n",
       "      <th>3</th>\n",
       "      <td>4</td>\n",
       "      <td>Smart Ones Classic Favorites Mini Rigatoni Wit...</td>\n",
       "      <td>38</td>\n",
       "      <td>1</td>\n",
       "    </tr>\n",
       "    <tr>\n",
       "      <th>4</th>\n",
       "      <td>5</td>\n",
       "      <td>Green Chile Anytime Sauce</td>\n",
       "      <td>5</td>\n",
       "      <td>13</td>\n",
       "    </tr>\n",
       "  </tbody>\n",
       "</table>\n",
       "</div>"
      ],
      "text/plain": [
       "   product_id                                       product_name  aisle_id  \\\n",
       "0           1                         Chocolate Sandwich Cookies        61   \n",
       "1           2                                   All-Seasons Salt       104   \n",
       "2           3               Robust Golden Unsweetened Oolong Tea        94   \n",
       "3           4  Smart Ones Classic Favorites Mini Rigatoni Wit...        38   \n",
       "4           5                          Green Chile Anytime Sauce         5   \n",
       "\n",
       "   department_id  \n",
       "0             19  \n",
       "1             13  \n",
       "2              7  \n",
       "3              1  \n",
       "4             13  "
      ]
     },
     "execution_count": 4,
     "metadata": {},
     "output_type": "execute_result"
    }
   ],
   "source": [
    "# mostrar información del DataFrame Products\n",
    "products.info()\n",
    "products.head()\n"
   ]
  },
  {
   "cell_type": "code",
   "execution_count": 5,
   "id": "d8370c05",
   "metadata": {
    "id": "d8370c05"
   },
   "outputs": [
    {
     "name": "stdout",
     "output_type": "stream",
     "text": [
      "<class 'pandas.core.frame.DataFrame'>\n",
      "RangeIndex: 134 entries, 0 to 133\n",
      "Data columns (total 2 columns):\n",
      " #   Column    Non-Null Count  Dtype \n",
      "---  ------    --------------  ----- \n",
      " 0   aisle_id  134 non-null    int64 \n",
      " 1   aisle     134 non-null    object\n",
      "dtypes: int64(1), object(1)\n",
      "memory usage: 2.2+ KB\n"
     ]
    },
    {
     "data": {
      "text/html": [
       "<div>\n",
       "<style scoped>\n",
       "    .dataframe tbody tr th:only-of-type {\n",
       "        vertical-align: middle;\n",
       "    }\n",
       "\n",
       "    .dataframe tbody tr th {\n",
       "        vertical-align: top;\n",
       "    }\n",
       "\n",
       "    .dataframe thead th {\n",
       "        text-align: right;\n",
       "    }\n",
       "</style>\n",
       "<table border=\"1\" class=\"dataframe\">\n",
       "  <thead>\n",
       "    <tr style=\"text-align: right;\">\n",
       "      <th></th>\n",
       "      <th>aisle_id</th>\n",
       "      <th>aisle</th>\n",
       "    </tr>\n",
       "  </thead>\n",
       "  <tbody>\n",
       "    <tr>\n",
       "      <th>0</th>\n",
       "      <td>1</td>\n",
       "      <td>prepared soups salads</td>\n",
       "    </tr>\n",
       "    <tr>\n",
       "      <th>1</th>\n",
       "      <td>2</td>\n",
       "      <td>specialty cheeses</td>\n",
       "    </tr>\n",
       "    <tr>\n",
       "      <th>2</th>\n",
       "      <td>3</td>\n",
       "      <td>energy granola bars</td>\n",
       "    </tr>\n",
       "    <tr>\n",
       "      <th>3</th>\n",
       "      <td>4</td>\n",
       "      <td>instant foods</td>\n",
       "    </tr>\n",
       "    <tr>\n",
       "      <th>4</th>\n",
       "      <td>5</td>\n",
       "      <td>marinades meat preparation</td>\n",
       "    </tr>\n",
       "  </tbody>\n",
       "</table>\n",
       "</div>"
      ],
      "text/plain": [
       "   aisle_id                       aisle\n",
       "0         1       prepared soups salads\n",
       "1         2           specialty cheeses\n",
       "2         3         energy granola bars\n",
       "3         4               instant foods\n",
       "4         5  marinades meat preparation"
      ]
     },
     "execution_count": 5,
     "metadata": {},
     "output_type": "execute_result"
    }
   ],
   "source": [
    "# mostrar información del DataFrame Aisles\n",
    "aisles.info()\n",
    "aisles.head()\n"
   ]
  },
  {
   "cell_type": "code",
   "execution_count": 6,
   "id": "59e2090f",
   "metadata": {
    "id": "59e2090f"
   },
   "outputs": [
    {
     "name": "stdout",
     "output_type": "stream",
     "text": [
      "<class 'pandas.core.frame.DataFrame'>\n",
      "RangeIndex: 21 entries, 0 to 20\n",
      "Data columns (total 2 columns):\n",
      " #   Column         Non-Null Count  Dtype \n",
      "---  ------         --------------  ----- \n",
      " 0   department_id  21 non-null     int64 \n",
      " 1   department     21 non-null     object\n",
      "dtypes: int64(1), object(1)\n",
      "memory usage: 464.0+ bytes\n"
     ]
    },
    {
     "data": {
      "text/html": [
       "<div>\n",
       "<style scoped>\n",
       "    .dataframe tbody tr th:only-of-type {\n",
       "        vertical-align: middle;\n",
       "    }\n",
       "\n",
       "    .dataframe tbody tr th {\n",
       "        vertical-align: top;\n",
       "    }\n",
       "\n",
       "    .dataframe thead th {\n",
       "        text-align: right;\n",
       "    }\n",
       "</style>\n",
       "<table border=\"1\" class=\"dataframe\">\n",
       "  <thead>\n",
       "    <tr style=\"text-align: right;\">\n",
       "      <th></th>\n",
       "      <th>department_id</th>\n",
       "      <th>department</th>\n",
       "    </tr>\n",
       "  </thead>\n",
       "  <tbody>\n",
       "    <tr>\n",
       "      <th>0</th>\n",
       "      <td>1</td>\n",
       "      <td>frozen</td>\n",
       "    </tr>\n",
       "    <tr>\n",
       "      <th>1</th>\n",
       "      <td>2</td>\n",
       "      <td>other</td>\n",
       "    </tr>\n",
       "    <tr>\n",
       "      <th>2</th>\n",
       "      <td>3</td>\n",
       "      <td>bakery</td>\n",
       "    </tr>\n",
       "    <tr>\n",
       "      <th>3</th>\n",
       "      <td>4</td>\n",
       "      <td>produce</td>\n",
       "    </tr>\n",
       "    <tr>\n",
       "      <th>4</th>\n",
       "      <td>5</td>\n",
       "      <td>alcohol</td>\n",
       "    </tr>\n",
       "  </tbody>\n",
       "</table>\n",
       "</div>"
      ],
      "text/plain": [
       "   department_id department\n",
       "0              1     frozen\n",
       "1              2      other\n",
       "2              3     bakery\n",
       "3              4    produce\n",
       "4              5    alcohol"
      ]
     },
     "execution_count": 6,
     "metadata": {},
     "output_type": "execute_result"
    }
   ],
   "source": [
    "# mostrar información del DataFrame Departments\n",
    "departments.info()\n",
    "departments.head()"
   ]
  },
  {
   "cell_type": "code",
   "execution_count": 7,
   "id": "6fc81694",
   "metadata": {
    "id": "6fc81694"
   },
   "outputs": [
    {
     "name": "stdout",
     "output_type": "stream",
     "text": [
      "<class 'pandas.core.frame.DataFrame'>\n",
      "RangeIndex: 4545007 entries, 0 to 4545006\n",
      "Data columns (total 4 columns):\n",
      " #   Column             Dtype  \n",
      "---  ------             -----  \n",
      " 0   order_id           int64  \n",
      " 1   product_id         int64  \n",
      " 2   add_to_cart_order  float64\n",
      " 3   reordered          int64  \n",
      "dtypes: float64(1), int64(3)\n",
      "memory usage: 138.7 MB\n"
     ]
    },
    {
     "data": {
      "text/html": [
       "<div>\n",
       "<style scoped>\n",
       "    .dataframe tbody tr th:only-of-type {\n",
       "        vertical-align: middle;\n",
       "    }\n",
       "\n",
       "    .dataframe tbody tr th {\n",
       "        vertical-align: top;\n",
       "    }\n",
       "\n",
       "    .dataframe thead th {\n",
       "        text-align: right;\n",
       "    }\n",
       "</style>\n",
       "<table border=\"1\" class=\"dataframe\">\n",
       "  <thead>\n",
       "    <tr style=\"text-align: right;\">\n",
       "      <th></th>\n",
       "      <th>order_id</th>\n",
       "      <th>product_id</th>\n",
       "      <th>add_to_cart_order</th>\n",
       "      <th>reordered</th>\n",
       "    </tr>\n",
       "  </thead>\n",
       "  <tbody>\n",
       "    <tr>\n",
       "      <th>0</th>\n",
       "      <td>2141543</td>\n",
       "      <td>11440</td>\n",
       "      <td>17.0</td>\n",
       "      <td>0</td>\n",
       "    </tr>\n",
       "    <tr>\n",
       "      <th>1</th>\n",
       "      <td>567889</td>\n",
       "      <td>1560</td>\n",
       "      <td>1.0</td>\n",
       "      <td>1</td>\n",
       "    </tr>\n",
       "    <tr>\n",
       "      <th>2</th>\n",
       "      <td>2261212</td>\n",
       "      <td>26683</td>\n",
       "      <td>1.0</td>\n",
       "      <td>1</td>\n",
       "    </tr>\n",
       "    <tr>\n",
       "      <th>3</th>\n",
       "      <td>491251</td>\n",
       "      <td>8670</td>\n",
       "      <td>35.0</td>\n",
       "      <td>1</td>\n",
       "    </tr>\n",
       "    <tr>\n",
       "      <th>4</th>\n",
       "      <td>2571142</td>\n",
       "      <td>1940</td>\n",
       "      <td>5.0</td>\n",
       "      <td>1</td>\n",
       "    </tr>\n",
       "  </tbody>\n",
       "</table>\n",
       "</div>"
      ],
      "text/plain": [
       "   order_id  product_id  add_to_cart_order  reordered\n",
       "0   2141543       11440               17.0          0\n",
       "1    567889        1560                1.0          1\n",
       "2   2261212       26683                1.0          1\n",
       "3    491251        8670               35.0          1\n",
       "4   2571142        1940                5.0          1"
      ]
     },
     "execution_count": 7,
     "metadata": {},
     "output_type": "execute_result"
    }
   ],
   "source": [
    "# mostrar información del DataFrame Order_products\n",
    "order_products.info()\n",
    "order_products.head()"
   ]
  },
  {
   "cell_type": "markdown",
   "id": "75a5a56e",
   "metadata": {},
   "source": [
    "<div class=\"alert alert-block alert-success\">\n",
    "    <b>Comentario del revisor:</b> <a class=\"tocSkip\"></a>\n",
    "    \n",
    "Realizaste un excelente trabajo presentando la información de la base de datos.\n",
    "</div>"
   ]
  },
  {
   "cell_type": "markdown",
   "id": "t75BD19oaR5f",
   "metadata": {
    "id": "t75BD19oaR5f"
   },
   "source": [
    "## Conclusiones\n",
    "\n",
    "Escribe aquí tus conclusiones intermedias sobre el Paso 1. Descripción de los datos.\n",
    "\n",
    "El plan que se colocó anteriormente fue adecuado, ahora ya podemos darnos cuenta con que tipos de datos cuenta cada DF y cómo manejarlos para obtener la información necesaria, algunos están en flotante, otros en enteros, algunos tienen datos nulos, otros tienen datos con mayúsculas y minúsculas mezcladas. Con la información anterior sabemos como tratar los datos y podemos darnos una idea de los problemas con los que podríamos encontrarnos al procesarlos.\n"
   ]
  },
  {
   "cell_type": "markdown",
   "id": "8RJHqxVmaVsF",
   "metadata": {
    "id": "8RJHqxVmaVsF"
   },
   "source": [
    "# Paso 2. Preprocesamiento de los datos\n",
    "\n",
    "Preprocesa los datos de la siguiente manera:\n",
    "\n",
    "- Verifica y corrige los tipos de datos (por ejemplo, asegúrate de que las columnas de ID sean números enteros).\n",
    "- Identifica y completa los valores ausentes.\n",
    "- Identifica y elimina los valores duplicados.\n",
    "\n",
    "Asegúrate de explicar qué tipos de valores ausentes y duplicados encontraste, cómo los completaste o eliminaste y por qué usaste esos métodos. ¿Por qué crees que estos valores ausentes y duplicados pueden haber estado presentes en el conjunto de datos?"
   ]
  },
  {
   "cell_type": "markdown",
   "id": "p6poABZQaZYb",
   "metadata": {
    "id": "p6poABZQaZYb"
   },
   "source": [
    "## Plan de solución\n",
    "\n",
    "Escribe aquí tu plan para el Paso 2. Preprocesamiento de los datos.\n",
    "Realizar la limpieza de los datos eliminando datos duplicados, datos nulos y revisando la uniformidad. "
   ]
  },
  {
   "cell_type": "markdown",
   "id": "07357848-dc64-4156-9cc3-01ff4365226d",
   "metadata": {
    "id": "07357848-dc64-4156-9cc3-01ff4365226d"
   },
   "source": [
    "## Encuentra y elimina los valores duplicados (y describe cómo tomaste tus decisiones)."
   ]
  },
  {
   "cell_type": "markdown",
   "id": "f179f0a9",
   "metadata": {
    "id": "f179f0a9"
   },
   "source": [
    "### `instacart_orders` data frame"
   ]
  },
  {
   "cell_type": "code",
   "execution_count": 8,
   "id": "3a26a8a7",
   "metadata": {},
   "outputs": [
    {
     "data": {
      "text/plain": [
       "15"
      ]
     },
     "execution_count": 8,
     "metadata": {},
     "output_type": "execute_result"
    }
   ],
   "source": [
    "# Revisa si hay pedidos duplicados\n",
    "instacart_orders.duplicated().sum()"
   ]
  },
  {
   "cell_type": "code",
   "execution_count": 9,
   "id": "b99297a5-405a-463d-8535-9adc3da4ad74",
   "metadata": {
    "id": "b99297a5-405a-463d-8535-9adc3da4ad74"
   },
   "outputs": [
    {
     "data": {
      "text/html": [
       "<div>\n",
       "<style scoped>\n",
       "    .dataframe tbody tr th:only-of-type {\n",
       "        vertical-align: middle;\n",
       "    }\n",
       "\n",
       "    .dataframe tbody tr th {\n",
       "        vertical-align: top;\n",
       "    }\n",
       "\n",
       "    .dataframe thead th {\n",
       "        text-align: right;\n",
       "    }\n",
       "</style>\n",
       "<table border=\"1\" class=\"dataframe\">\n",
       "  <thead>\n",
       "    <tr style=\"text-align: right;\">\n",
       "      <th></th>\n",
       "      <th>order_id</th>\n",
       "      <th>user_id</th>\n",
       "      <th>order_number</th>\n",
       "      <th>order_dow</th>\n",
       "      <th>order_hour_of_day</th>\n",
       "      <th>days_since_prior_order</th>\n",
       "    </tr>\n",
       "  </thead>\n",
       "  <tbody>\n",
       "    <tr>\n",
       "      <th>145574</th>\n",
       "      <td>794638</td>\n",
       "      <td>50898</td>\n",
       "      <td>24</td>\n",
       "      <td>3</td>\n",
       "      <td>2</td>\n",
       "      <td>2.0</td>\n",
       "    </tr>\n",
       "    <tr>\n",
       "      <th>223105</th>\n",
       "      <td>2160484</td>\n",
       "      <td>107525</td>\n",
       "      <td>16</td>\n",
       "      <td>3</td>\n",
       "      <td>2</td>\n",
       "      <td>30.0</td>\n",
       "    </tr>\n",
       "    <tr>\n",
       "      <th>230807</th>\n",
       "      <td>1918001</td>\n",
       "      <td>188546</td>\n",
       "      <td>14</td>\n",
       "      <td>3</td>\n",
       "      <td>2</td>\n",
       "      <td>16.0</td>\n",
       "    </tr>\n",
       "    <tr>\n",
       "      <th>266232</th>\n",
       "      <td>1782114</td>\n",
       "      <td>106752</td>\n",
       "      <td>1</td>\n",
       "      <td>3</td>\n",
       "      <td>2</td>\n",
       "      <td>NaN</td>\n",
       "    </tr>\n",
       "    <tr>\n",
       "      <th>273805</th>\n",
       "      <td>1112182</td>\n",
       "      <td>202304</td>\n",
       "      <td>84</td>\n",
       "      <td>3</td>\n",
       "      <td>2</td>\n",
       "      <td>6.0</td>\n",
       "    </tr>\n",
       "    <tr>\n",
       "      <th>284038</th>\n",
       "      <td>2845099</td>\n",
       "      <td>31189</td>\n",
       "      <td>11</td>\n",
       "      <td>3</td>\n",
       "      <td>2</td>\n",
       "      <td>7.0</td>\n",
       "    </tr>\n",
       "    <tr>\n",
       "      <th>311713</th>\n",
       "      <td>1021560</td>\n",
       "      <td>53767</td>\n",
       "      <td>3</td>\n",
       "      <td>3</td>\n",
       "      <td>2</td>\n",
       "      <td>9.0</td>\n",
       "    </tr>\n",
       "    <tr>\n",
       "      <th>321100</th>\n",
       "      <td>408114</td>\n",
       "      <td>68324</td>\n",
       "      <td>4</td>\n",
       "      <td>3</td>\n",
       "      <td>2</td>\n",
       "      <td>18.0</td>\n",
       "    </tr>\n",
       "    <tr>\n",
       "      <th>323900</th>\n",
       "      <td>1919531</td>\n",
       "      <td>191501</td>\n",
       "      <td>32</td>\n",
       "      <td>3</td>\n",
       "      <td>2</td>\n",
       "      <td>7.0</td>\n",
       "    </tr>\n",
       "    <tr>\n",
       "      <th>345917</th>\n",
       "      <td>2232988</td>\n",
       "      <td>82565</td>\n",
       "      <td>1</td>\n",
       "      <td>3</td>\n",
       "      <td>2</td>\n",
       "      <td>NaN</td>\n",
       "    </tr>\n",
       "    <tr>\n",
       "      <th>371905</th>\n",
       "      <td>391768</td>\n",
       "      <td>57671</td>\n",
       "      <td>19</td>\n",
       "      <td>3</td>\n",
       "      <td>2</td>\n",
       "      <td>10.0</td>\n",
       "    </tr>\n",
       "    <tr>\n",
       "      <th>394347</th>\n",
       "      <td>467134</td>\n",
       "      <td>63189</td>\n",
       "      <td>21</td>\n",
       "      <td>3</td>\n",
       "      <td>2</td>\n",
       "      <td>2.0</td>\n",
       "    </tr>\n",
       "    <tr>\n",
       "      <th>411408</th>\n",
       "      <td>1286742</td>\n",
       "      <td>183220</td>\n",
       "      <td>48</td>\n",
       "      <td>3</td>\n",
       "      <td>2</td>\n",
       "      <td>4.0</td>\n",
       "    </tr>\n",
       "    <tr>\n",
       "      <th>415163</th>\n",
       "      <td>2282673</td>\n",
       "      <td>86751</td>\n",
       "      <td>49</td>\n",
       "      <td>3</td>\n",
       "      <td>2</td>\n",
       "      <td>2.0</td>\n",
       "    </tr>\n",
       "    <tr>\n",
       "      <th>441599</th>\n",
       "      <td>2125197</td>\n",
       "      <td>14050</td>\n",
       "      <td>48</td>\n",
       "      <td>3</td>\n",
       "      <td>2</td>\n",
       "      <td>3.0</td>\n",
       "    </tr>\n",
       "  </tbody>\n",
       "</table>\n",
       "</div>"
      ],
      "text/plain": [
       "        order_id  user_id  order_number  order_dow  order_hour_of_day  \\\n",
       "145574    794638    50898            24          3                  2   \n",
       "223105   2160484   107525            16          3                  2   \n",
       "230807   1918001   188546            14          3                  2   \n",
       "266232   1782114   106752             1          3                  2   \n",
       "273805   1112182   202304            84          3                  2   \n",
       "284038   2845099    31189            11          3                  2   \n",
       "311713   1021560    53767             3          3                  2   \n",
       "321100    408114    68324             4          3                  2   \n",
       "323900   1919531   191501            32          3                  2   \n",
       "345917   2232988    82565             1          3                  2   \n",
       "371905    391768    57671            19          3                  2   \n",
       "394347    467134    63189            21          3                  2   \n",
       "411408   1286742   183220            48          3                  2   \n",
       "415163   2282673    86751            49          3                  2   \n",
       "441599   2125197    14050            48          3                  2   \n",
       "\n",
       "        days_since_prior_order  \n",
       "145574                     2.0  \n",
       "223105                    30.0  \n",
       "230807                    16.0  \n",
       "266232                     NaN  \n",
       "273805                     6.0  \n",
       "284038                     7.0  \n",
       "311713                     9.0  \n",
       "321100                    18.0  \n",
       "323900                     7.0  \n",
       "345917                     NaN  \n",
       "371905                    10.0  \n",
       "394347                     2.0  \n",
       "411408                     4.0  \n",
       "415163                     2.0  \n",
       "441599                     3.0  "
      ]
     },
     "execution_count": 9,
     "metadata": {},
     "output_type": "execute_result"
    }
   ],
   "source": [
    "instacart_orders[instacart_orders.duplicated()]\n"
   ]
  },
  {
   "cell_type": "markdown",
   "id": "PEkwUX_gvt5A",
   "metadata": {
    "id": "PEkwUX_gvt5A"
   },
   "source": [
    "¿Tienes líneas duplicadas? Si sí, ¿qué tienen en común?\n",
    "\n",
    "El dia y la hora en la que se realizo la compra"
   ]
  },
  {
   "cell_type": "code",
   "execution_count": 10,
   "id": "0d44de5d",
   "metadata": {
    "id": "0d44de5d"
   },
   "outputs": [
    {
     "data": {
      "text/plain": [
       "121"
      ]
     },
     "execution_count": 10,
     "metadata": {},
     "output_type": "execute_result"
    }
   ],
   "source": [
    "# Basándote en tus hallazgos,\n",
    "# Verifica todos los pedidos que se hicieron el miércoles a las 2:00 a.m.\n",
    "instacart_orders[(instacart_orders['order_dow']==3) & (instacart_orders['order_hour_of_day' ]== 2)].shape[0]"
   ]
  },
  {
   "cell_type": "code",
   "execution_count": 11,
   "id": "f812b980",
   "metadata": {},
   "outputs": [
    {
     "data": {
      "text/html": [
       "<div>\n",
       "<style scoped>\n",
       "    .dataframe tbody tr th:only-of-type {\n",
       "        vertical-align: middle;\n",
       "    }\n",
       "\n",
       "    .dataframe tbody tr th {\n",
       "        vertical-align: top;\n",
       "    }\n",
       "\n",
       "    .dataframe thead th {\n",
       "        text-align: right;\n",
       "    }\n",
       "</style>\n",
       "<table border=\"1\" class=\"dataframe\">\n",
       "  <thead>\n",
       "    <tr style=\"text-align: right;\">\n",
       "      <th></th>\n",
       "      <th>order_id</th>\n",
       "      <th>user_id</th>\n",
       "      <th>order_number</th>\n",
       "      <th>order_dow</th>\n",
       "      <th>order_hour_of_day</th>\n",
       "      <th>days_since_prior_order</th>\n",
       "    </tr>\n",
       "  </thead>\n",
       "  <tbody>\n",
       "    <tr>\n",
       "      <th>4838</th>\n",
       "      <td>2766110</td>\n",
       "      <td>162084</td>\n",
       "      <td>41</td>\n",
       "      <td>3</td>\n",
       "      <td>2</td>\n",
       "      <td>16.0</td>\n",
       "    </tr>\n",
       "    <tr>\n",
       "      <th>5156</th>\n",
       "      <td>2190225</td>\n",
       "      <td>138285</td>\n",
       "      <td>18</td>\n",
       "      <td>3</td>\n",
       "      <td>2</td>\n",
       "      <td>11.0</td>\n",
       "    </tr>\n",
       "    <tr>\n",
       "      <th>15506</th>\n",
       "      <td>553049</td>\n",
       "      <td>58599</td>\n",
       "      <td>13</td>\n",
       "      <td>3</td>\n",
       "      <td>2</td>\n",
       "      <td>7.0</td>\n",
       "    </tr>\n",
       "    <tr>\n",
       "      <th>18420</th>\n",
       "      <td>382357</td>\n",
       "      <td>120200</td>\n",
       "      <td>19</td>\n",
       "      <td>3</td>\n",
       "      <td>2</td>\n",
       "      <td>11.0</td>\n",
       "    </tr>\n",
       "    <tr>\n",
       "      <th>24691</th>\n",
       "      <td>690242</td>\n",
       "      <td>77357</td>\n",
       "      <td>2</td>\n",
       "      <td>3</td>\n",
       "      <td>2</td>\n",
       "      <td>9.0</td>\n",
       "    </tr>\n",
       "    <tr>\n",
       "      <th>...</th>\n",
       "      <td>...</td>\n",
       "      <td>...</td>\n",
       "      <td>...</td>\n",
       "      <td>...</td>\n",
       "      <td>...</td>\n",
       "      <td>...</td>\n",
       "    </tr>\n",
       "    <tr>\n",
       "      <th>457013</th>\n",
       "      <td>3384021</td>\n",
       "      <td>14881</td>\n",
       "      <td>6</td>\n",
       "      <td>3</td>\n",
       "      <td>2</td>\n",
       "      <td>30.0</td>\n",
       "    </tr>\n",
       "    <tr>\n",
       "      <th>458816</th>\n",
       "      <td>910166</td>\n",
       "      <td>164782</td>\n",
       "      <td>18</td>\n",
       "      <td>3</td>\n",
       "      <td>2</td>\n",
       "      <td>4.0</td>\n",
       "    </tr>\n",
       "    <tr>\n",
       "      <th>459635</th>\n",
       "      <td>1680532</td>\n",
       "      <td>106435</td>\n",
       "      <td>6</td>\n",
       "      <td>3</td>\n",
       "      <td>2</td>\n",
       "      <td>21.0</td>\n",
       "    </tr>\n",
       "    <tr>\n",
       "      <th>468324</th>\n",
       "      <td>222962</td>\n",
       "      <td>54979</td>\n",
       "      <td>59</td>\n",
       "      <td>3</td>\n",
       "      <td>2</td>\n",
       "      <td>3.0</td>\n",
       "    </tr>\n",
       "    <tr>\n",
       "      <th>477526</th>\n",
       "      <td>2592344</td>\n",
       "      <td>46860</td>\n",
       "      <td>38</td>\n",
       "      <td>3</td>\n",
       "      <td>2</td>\n",
       "      <td>3.0</td>\n",
       "    </tr>\n",
       "  </tbody>\n",
       "</table>\n",
       "<p>121 rows × 6 columns</p>\n",
       "</div>"
      ],
      "text/plain": [
       "        order_id  user_id  order_number  order_dow  order_hour_of_day  \\\n",
       "4838     2766110   162084            41          3                  2   \n",
       "5156     2190225   138285            18          3                  2   \n",
       "15506     553049    58599            13          3                  2   \n",
       "18420     382357   120200            19          3                  2   \n",
       "24691     690242    77357             2          3                  2   \n",
       "...          ...      ...           ...        ...                ...   \n",
       "457013   3384021    14881             6          3                  2   \n",
       "458816    910166   164782            18          3                  2   \n",
       "459635   1680532   106435             6          3                  2   \n",
       "468324    222962    54979            59          3                  2   \n",
       "477526   2592344    46860            38          3                  2   \n",
       "\n",
       "        days_since_prior_order  \n",
       "4838                      16.0  \n",
       "5156                      11.0  \n",
       "15506                      7.0  \n",
       "18420                     11.0  \n",
       "24691                      9.0  \n",
       "...                        ...  \n",
       "457013                    30.0  \n",
       "458816                     4.0  \n",
       "459635                    21.0  \n",
       "468324                     3.0  \n",
       "477526                     3.0  \n",
       "\n",
       "[121 rows x 6 columns]"
      ]
     },
     "execution_count": 11,
     "metadata": {},
     "output_type": "execute_result"
    }
   ],
   "source": [
    "instacart_orders[(instacart_orders['order_dow']==3) & (instacart_orders['order_hour_of_day' ]== 2)]"
   ]
  },
  {
   "cell_type": "code",
   "execution_count": 12,
   "id": "be2cb2f6",
   "metadata": {},
   "outputs": [
    {
     "data": {
      "text/html": [
       "<div>\n",
       "<style scoped>\n",
       "    .dataframe tbody tr th:only-of-type {\n",
       "        vertical-align: middle;\n",
       "    }\n",
       "\n",
       "    .dataframe tbody tr th {\n",
       "        vertical-align: top;\n",
       "    }\n",
       "\n",
       "    .dataframe thead th {\n",
       "        text-align: right;\n",
       "    }\n",
       "</style>\n",
       "<table border=\"1\" class=\"dataframe\">\n",
       "  <thead>\n",
       "    <tr style=\"text-align: right;\">\n",
       "      <th></th>\n",
       "      <th>order_id</th>\n",
       "      <th>user_id</th>\n",
       "      <th>order_number</th>\n",
       "      <th>order_dow</th>\n",
       "      <th>order_hour_of_day</th>\n",
       "      <th>days_since_prior_order</th>\n",
       "    </tr>\n",
       "  </thead>\n",
       "  <tbody>\n",
       "    <tr>\n",
       "      <th>145574</th>\n",
       "      <td>794638</td>\n",
       "      <td>50898</td>\n",
       "      <td>24</td>\n",
       "      <td>3</td>\n",
       "      <td>2</td>\n",
       "      <td>2.0</td>\n",
       "    </tr>\n",
       "    <tr>\n",
       "      <th>223105</th>\n",
       "      <td>2160484</td>\n",
       "      <td>107525</td>\n",
       "      <td>16</td>\n",
       "      <td>3</td>\n",
       "      <td>2</td>\n",
       "      <td>30.0</td>\n",
       "    </tr>\n",
       "    <tr>\n",
       "      <th>230807</th>\n",
       "      <td>1918001</td>\n",
       "      <td>188546</td>\n",
       "      <td>14</td>\n",
       "      <td>3</td>\n",
       "      <td>2</td>\n",
       "      <td>16.0</td>\n",
       "    </tr>\n",
       "    <tr>\n",
       "      <th>266232</th>\n",
       "      <td>1782114</td>\n",
       "      <td>106752</td>\n",
       "      <td>1</td>\n",
       "      <td>3</td>\n",
       "      <td>2</td>\n",
       "      <td>NaN</td>\n",
       "    </tr>\n",
       "    <tr>\n",
       "      <th>273805</th>\n",
       "      <td>1112182</td>\n",
       "      <td>202304</td>\n",
       "      <td>84</td>\n",
       "      <td>3</td>\n",
       "      <td>2</td>\n",
       "      <td>6.0</td>\n",
       "    </tr>\n",
       "    <tr>\n",
       "      <th>284038</th>\n",
       "      <td>2845099</td>\n",
       "      <td>31189</td>\n",
       "      <td>11</td>\n",
       "      <td>3</td>\n",
       "      <td>2</td>\n",
       "      <td>7.0</td>\n",
       "    </tr>\n",
       "    <tr>\n",
       "      <th>311713</th>\n",
       "      <td>1021560</td>\n",
       "      <td>53767</td>\n",
       "      <td>3</td>\n",
       "      <td>3</td>\n",
       "      <td>2</td>\n",
       "      <td>9.0</td>\n",
       "    </tr>\n",
       "    <tr>\n",
       "      <th>321100</th>\n",
       "      <td>408114</td>\n",
       "      <td>68324</td>\n",
       "      <td>4</td>\n",
       "      <td>3</td>\n",
       "      <td>2</td>\n",
       "      <td>18.0</td>\n",
       "    </tr>\n",
       "    <tr>\n",
       "      <th>323900</th>\n",
       "      <td>1919531</td>\n",
       "      <td>191501</td>\n",
       "      <td>32</td>\n",
       "      <td>3</td>\n",
       "      <td>2</td>\n",
       "      <td>7.0</td>\n",
       "    </tr>\n",
       "    <tr>\n",
       "      <th>345917</th>\n",
       "      <td>2232988</td>\n",
       "      <td>82565</td>\n",
       "      <td>1</td>\n",
       "      <td>3</td>\n",
       "      <td>2</td>\n",
       "      <td>NaN</td>\n",
       "    </tr>\n",
       "    <tr>\n",
       "      <th>371905</th>\n",
       "      <td>391768</td>\n",
       "      <td>57671</td>\n",
       "      <td>19</td>\n",
       "      <td>3</td>\n",
       "      <td>2</td>\n",
       "      <td>10.0</td>\n",
       "    </tr>\n",
       "    <tr>\n",
       "      <th>394347</th>\n",
       "      <td>467134</td>\n",
       "      <td>63189</td>\n",
       "      <td>21</td>\n",
       "      <td>3</td>\n",
       "      <td>2</td>\n",
       "      <td>2.0</td>\n",
       "    </tr>\n",
       "    <tr>\n",
       "      <th>411408</th>\n",
       "      <td>1286742</td>\n",
       "      <td>183220</td>\n",
       "      <td>48</td>\n",
       "      <td>3</td>\n",
       "      <td>2</td>\n",
       "      <td>4.0</td>\n",
       "    </tr>\n",
       "    <tr>\n",
       "      <th>415163</th>\n",
       "      <td>2282673</td>\n",
       "      <td>86751</td>\n",
       "      <td>49</td>\n",
       "      <td>3</td>\n",
       "      <td>2</td>\n",
       "      <td>2.0</td>\n",
       "    </tr>\n",
       "    <tr>\n",
       "      <th>441599</th>\n",
       "      <td>2125197</td>\n",
       "      <td>14050</td>\n",
       "      <td>48</td>\n",
       "      <td>3</td>\n",
       "      <td>2</td>\n",
       "      <td>3.0</td>\n",
       "    </tr>\n",
       "  </tbody>\n",
       "</table>\n",
       "</div>"
      ],
      "text/plain": [
       "        order_id  user_id  order_number  order_dow  order_hour_of_day  \\\n",
       "145574    794638    50898            24          3                  2   \n",
       "223105   2160484   107525            16          3                  2   \n",
       "230807   1918001   188546            14          3                  2   \n",
       "266232   1782114   106752             1          3                  2   \n",
       "273805   1112182   202304            84          3                  2   \n",
       "284038   2845099    31189            11          3                  2   \n",
       "311713   1021560    53767             3          3                  2   \n",
       "321100    408114    68324             4          3                  2   \n",
       "323900   1919531   191501            32          3                  2   \n",
       "345917   2232988    82565             1          3                  2   \n",
       "371905    391768    57671            19          3                  2   \n",
       "394347    467134    63189            21          3                  2   \n",
       "411408   1286742   183220            48          3                  2   \n",
       "415163   2282673    86751            49          3                  2   \n",
       "441599   2125197    14050            48          3                  2   \n",
       "\n",
       "        days_since_prior_order  \n",
       "145574                     2.0  \n",
       "223105                    30.0  \n",
       "230807                    16.0  \n",
       "266232                     NaN  \n",
       "273805                     6.0  \n",
       "284038                     7.0  \n",
       "311713                     9.0  \n",
       "321100                    18.0  \n",
       "323900                     7.0  \n",
       "345917                     NaN  \n",
       "371905                    10.0  \n",
       "394347                     2.0  \n",
       "411408                     4.0  \n",
       "415163                     2.0  \n",
       "441599                     3.0  "
      ]
     },
     "execution_count": 12,
     "metadata": {},
     "output_type": "execute_result"
    }
   ],
   "source": [
    "instacart_orders[instacart_orders.duplicated(subset='order_id')]"
   ]
  },
  {
   "cell_type": "markdown",
   "id": "vu2OWyoqwOx5",
   "metadata": {
    "id": "vu2OWyoqwOx5"
   },
   "source": [
    "¿Qué sugiere este resultado?\n",
    "Que los duplicados solo corresponden a las columnas compras por día y hora del día, no existen duplicados con otras características."
   ]
  },
  {
   "cell_type": "code",
   "execution_count": 13,
   "id": "480563c7",
   "metadata": {
    "id": "480563c7"
   },
   "outputs": [],
   "source": [
    "# Elimina los pedidos duplicados\n",
    "instacart_orders = instacart_orders.drop_duplicates()"
   ]
  },
  {
   "cell_type": "code",
   "execution_count": 14,
   "id": "0b2396a2",
   "metadata": {
    "id": "0b2396a2"
   },
   "outputs": [
    {
     "data": {
      "text/html": [
       "<div>\n",
       "<style scoped>\n",
       "    .dataframe tbody tr th:only-of-type {\n",
       "        vertical-align: middle;\n",
       "    }\n",
       "\n",
       "    .dataframe tbody tr th {\n",
       "        vertical-align: top;\n",
       "    }\n",
       "\n",
       "    .dataframe thead th {\n",
       "        text-align: right;\n",
       "    }\n",
       "</style>\n",
       "<table border=\"1\" class=\"dataframe\">\n",
       "  <thead>\n",
       "    <tr style=\"text-align: right;\">\n",
       "      <th></th>\n",
       "      <th>order_id</th>\n",
       "      <th>user_id</th>\n",
       "      <th>order_number</th>\n",
       "      <th>order_dow</th>\n",
       "      <th>order_hour_of_day</th>\n",
       "      <th>days_since_prior_order</th>\n",
       "    </tr>\n",
       "  </thead>\n",
       "  <tbody>\n",
       "  </tbody>\n",
       "</table>\n",
       "</div>"
      ],
      "text/plain": [
       "Empty DataFrame\n",
       "Columns: [order_id, user_id, order_number, order_dow, order_hour_of_day, days_since_prior_order]\n",
       "Index: []"
      ]
     },
     "execution_count": 14,
     "metadata": {},
     "output_type": "execute_result"
    }
   ],
   "source": [
    "# Vuelve a verificar si hay filas duplicadas\n",
    "instacart_orders[instacart_orders.duplicated()]"
   ]
  },
  {
   "cell_type": "code",
   "execution_count": 15,
   "id": "f6113ef1",
   "metadata": {
    "id": "f6113ef1"
   },
   "outputs": [
    {
     "data": {
      "text/html": [
       "<div>\n",
       "<style scoped>\n",
       "    .dataframe tbody tr th:only-of-type {\n",
       "        vertical-align: middle;\n",
       "    }\n",
       "\n",
       "    .dataframe tbody tr th {\n",
       "        vertical-align: top;\n",
       "    }\n",
       "\n",
       "    .dataframe thead th {\n",
       "        text-align: right;\n",
       "    }\n",
       "</style>\n",
       "<table border=\"1\" class=\"dataframe\">\n",
       "  <thead>\n",
       "    <tr style=\"text-align: right;\">\n",
       "      <th></th>\n",
       "      <th>order_id</th>\n",
       "      <th>user_id</th>\n",
       "      <th>order_number</th>\n",
       "      <th>order_dow</th>\n",
       "      <th>order_hour_of_day</th>\n",
       "      <th>days_since_prior_order</th>\n",
       "    </tr>\n",
       "  </thead>\n",
       "  <tbody>\n",
       "  </tbody>\n",
       "</table>\n",
       "</div>"
      ],
      "text/plain": [
       "Empty DataFrame\n",
       "Columns: [order_id, user_id, order_number, order_dow, order_hour_of_day, days_since_prior_order]\n",
       "Index: []"
      ]
     },
     "execution_count": 15,
     "metadata": {},
     "output_type": "execute_result"
    }
   ],
   "source": [
    "# Vuelve a verificar únicamente si hay IDs duplicados de pedidos\n",
    "instacart_orders[instacart_orders.duplicated()]"
   ]
  },
  {
   "cell_type": "markdown",
   "id": "5e8905ae",
   "metadata": {
    "id": "5e8905ae"
   },
   "source": [
    "Describe brevemente tus hallazgos y lo que hiciste con ellos\n",
    "\n",
    "En el DataFrame instacart_orders, al corroborar que no existieran duplicados, nos percatamos de que las columnas que aparecían duplicadas que son: día de la semana y hora del día en que se realizó la compra, no existió ningún otro duplicado que pudiera perjudicar el análisis de los datos, sólo nos percatamos de que el día miércoles se realizan muchas compras.\n"
   ]
  },
  {
   "cell_type": "markdown",
   "id": "427e2e7e",
   "metadata": {},
   "source": [
    "<div class=\"alert alert-block alert-success\">\n",
    "<b>Comentario del revisor</b> <a class=\"tocSkip\"></a>\n",
    "\n",
    "Muy buen trabajo!! Desarrollaste de manera excelente el análisis de duplicados y eliminaste esos casos. \n",
    "    \n",
    "</div>"
   ]
  },
  {
   "cell_type": "markdown",
   "id": "45e6bc46",
   "metadata": {
    "id": "45e6bc46"
   },
   "source": [
    "### `products` data frame"
   ]
  },
  {
   "cell_type": "code",
   "execution_count": 16,
   "id": "5f526b5b-8175-46fa-a0fd-441767d50e64",
   "metadata": {
    "id": "5f526b5b-8175-46fa-a0fd-441767d50e64"
   },
   "outputs": [
    {
     "data": {
      "text/html": [
       "<div>\n",
       "<style scoped>\n",
       "    .dataframe tbody tr th:only-of-type {\n",
       "        vertical-align: middle;\n",
       "    }\n",
       "\n",
       "    .dataframe tbody tr th {\n",
       "        vertical-align: top;\n",
       "    }\n",
       "\n",
       "    .dataframe thead th {\n",
       "        text-align: right;\n",
       "    }\n",
       "</style>\n",
       "<table border=\"1\" class=\"dataframe\">\n",
       "  <thead>\n",
       "    <tr style=\"text-align: right;\">\n",
       "      <th></th>\n",
       "      <th>product_id</th>\n",
       "      <th>product_name</th>\n",
       "      <th>aisle_id</th>\n",
       "      <th>department_id</th>\n",
       "    </tr>\n",
       "  </thead>\n",
       "  <tbody>\n",
       "  </tbody>\n",
       "</table>\n",
       "</div>"
      ],
      "text/plain": [
       "Empty DataFrame\n",
       "Columns: [product_id, product_name, aisle_id, department_id]\n",
       "Index: []"
      ]
     },
     "execution_count": 16,
     "metadata": {},
     "output_type": "execute_result"
    }
   ],
   "source": [
    "# Verifica si hay filas totalmente duplicadas\n",
    "products[products.duplicated()]"
   ]
  },
  {
   "cell_type": "code",
   "execution_count": 17,
   "id": "7b99780a",
   "metadata": {},
   "outputs": [
    {
     "data": {
      "text/plain": [
       "0"
      ]
     },
     "execution_count": 17,
     "metadata": {},
     "output_type": "execute_result"
    }
   ],
   "source": [
    "products.duplicated().sum()"
   ]
  },
  {
   "cell_type": "code",
   "execution_count": 18,
   "id": "88daa4f4",
   "metadata": {
    "id": "88daa4f4"
   },
   "outputs": [
    {
     "data": {
      "text/html": [
       "<div>\n",
       "<style scoped>\n",
       "    .dataframe tbody tr th:only-of-type {\n",
       "        vertical-align: middle;\n",
       "    }\n",
       "\n",
       "    .dataframe tbody tr th {\n",
       "        vertical-align: top;\n",
       "    }\n",
       "\n",
       "    .dataframe thead th {\n",
       "        text-align: right;\n",
       "    }\n",
       "</style>\n",
       "<table border=\"1\" class=\"dataframe\">\n",
       "  <thead>\n",
       "    <tr style=\"text-align: right;\">\n",
       "      <th></th>\n",
       "      <th>product_id</th>\n",
       "      <th>product_name</th>\n",
       "      <th>aisle_id</th>\n",
       "      <th>department_id</th>\n",
       "    </tr>\n",
       "  </thead>\n",
       "  <tbody>\n",
       "    <tr>\n",
       "      <th>4</th>\n",
       "      <td>5</td>\n",
       "      <td>Green Chile Anytime Sauce</td>\n",
       "      <td>5</td>\n",
       "      <td>13</td>\n",
       "    </tr>\n",
       "    <tr>\n",
       "      <th>6</th>\n",
       "      <td>7</td>\n",
       "      <td>Pure Coconut Water With Orange</td>\n",
       "      <td>98</td>\n",
       "      <td>7</td>\n",
       "    </tr>\n",
       "    <tr>\n",
       "      <th>7</th>\n",
       "      <td>8</td>\n",
       "      <td>Cut Russet Potatoes Steam N' Mash</td>\n",
       "      <td>116</td>\n",
       "      <td>1</td>\n",
       "    </tr>\n",
       "    <tr>\n",
       "      <th>9</th>\n",
       "      <td>10</td>\n",
       "      <td>Sparkling Orange Juice &amp; Prickly Pear Beverage</td>\n",
       "      <td>115</td>\n",
       "      <td>7</td>\n",
       "    </tr>\n",
       "    <tr>\n",
       "      <th>10</th>\n",
       "      <td>11</td>\n",
       "      <td>Peach Mango Juice</td>\n",
       "      <td>31</td>\n",
       "      <td>7</td>\n",
       "    </tr>\n",
       "    <tr>\n",
       "      <th>...</th>\n",
       "      <td>...</td>\n",
       "      <td>...</td>\n",
       "      <td>...</td>\n",
       "      <td>...</td>\n",
       "    </tr>\n",
       "    <tr>\n",
       "      <th>49689</th>\n",
       "      <td>49690</td>\n",
       "      <td>HIGH PERFORMANCE ENERGY DRINK</td>\n",
       "      <td>64</td>\n",
       "      <td>7</td>\n",
       "    </tr>\n",
       "    <tr>\n",
       "      <th>49690</th>\n",
       "      <td>49691</td>\n",
       "      <td>ORIGINAL PANCAKE &amp; WAFFLE MIX</td>\n",
       "      <td>130</td>\n",
       "      <td>14</td>\n",
       "    </tr>\n",
       "    <tr>\n",
       "      <th>49691</th>\n",
       "      <td>49692</td>\n",
       "      <td>ORGANIC INSTANT OATMEAL LIGHT MAPLE BROWN SUGAR</td>\n",
       "      <td>130</td>\n",
       "      <td>14</td>\n",
       "    </tr>\n",
       "    <tr>\n",
       "      <th>49692</th>\n",
       "      <td>49693</td>\n",
       "      <td>SPRING WATER BODY WASH</td>\n",
       "      <td>127</td>\n",
       "      <td>11</td>\n",
       "    </tr>\n",
       "    <tr>\n",
       "      <th>49693</th>\n",
       "      <td>49694</td>\n",
       "      <td>BURRITO- STEAK &amp; CHEESE</td>\n",
       "      <td>38</td>\n",
       "      <td>1</td>\n",
       "    </tr>\n",
       "  </tbody>\n",
       "</table>\n",
       "<p>49673 rows × 4 columns</p>\n",
       "</div>"
      ],
      "text/plain": [
       "       product_id                                     product_name  aisle_id  \\\n",
       "4               5                        Green Chile Anytime Sauce         5   \n",
       "6               7                   Pure Coconut Water With Orange        98   \n",
       "7               8                Cut Russet Potatoes Steam N' Mash       116   \n",
       "9              10   Sparkling Orange Juice & Prickly Pear Beverage       115   \n",
       "10             11                                Peach Mango Juice        31   \n",
       "...           ...                                              ...       ...   \n",
       "49689       49690                    HIGH PERFORMANCE ENERGY DRINK        64   \n",
       "49690       49691                    ORIGINAL PANCAKE & WAFFLE MIX       130   \n",
       "49691       49692  ORGANIC INSTANT OATMEAL LIGHT MAPLE BROWN SUGAR       130   \n",
       "49692       49693                           SPRING WATER BODY WASH       127   \n",
       "49693       49694                          BURRITO- STEAK & CHEESE        38   \n",
       "\n",
       "       department_id  \n",
       "4                 13  \n",
       "6                  7  \n",
       "7                  1  \n",
       "9                  7  \n",
       "10                 7  \n",
       "...              ...  \n",
       "49689              7  \n",
       "49690             14  \n",
       "49691             14  \n",
       "49692             11  \n",
       "49693              1  \n",
       "\n",
       "[49673 rows x 4 columns]"
      ]
     },
     "execution_count": 18,
     "metadata": {},
     "output_type": "execute_result"
    }
   ],
   "source": [
    "# Revisa únicamente si hay ID de departamentos duplicados\n",
    "products[products.duplicated(subset='department_id')]\n"
   ]
  },
  {
   "cell_type": "code",
   "execution_count": 19,
   "id": "c773f0bf",
   "metadata": {
    "id": "c773f0bf"
   },
   "outputs": [
    {
     "data": {
      "text/plain": [
       "<bound method Series.duplicated of 0                               CHOCOLATE SANDWICH COOKIES\n",
       "1                                         ALL-SEASONS SALT\n",
       "2                     ROBUST GOLDEN UNSWEETENED OOLONG TEA\n",
       "3        SMART ONES CLASSIC FAVORITES MINI RIGATONI WIT...\n",
       "4                                GREEN CHILE ANYTIME SAUCE\n",
       "                               ...                        \n",
       "49689                        HIGH PERFORMANCE ENERGY DRINK\n",
       "49690                        ORIGINAL PANCAKE & WAFFLE MIX\n",
       "49691      ORGANIC INSTANT OATMEAL LIGHT MAPLE BROWN SUGAR\n",
       "49692                               SPRING WATER BODY WASH\n",
       "49693                              BURRITO- STEAK & CHEESE\n",
       "Name: product_name, Length: 49694, dtype: object>"
      ]
     },
     "execution_count": 19,
     "metadata": {},
     "output_type": "execute_result"
    }
   ],
   "source": [
    "# Revisa únicamente si hay nombres duplicados de productos (convierte los nombres a letras mayúsculas para compararlos mejor)\n",
    "products['product_name'].str.upper().duplicated"
   ]
  },
  {
   "cell_type": "code",
   "execution_count": 20,
   "id": "fba40a6e",
   "metadata": {},
   "outputs": [
    {
     "data": {
      "text/plain": [
       "1361"
      ]
     },
     "execution_count": 20,
     "metadata": {},
     "output_type": "execute_result"
    }
   ],
   "source": [
    "products['product_name'].str.upper().duplicated().sum()"
   ]
  },
  {
   "cell_type": "code",
   "execution_count": 21,
   "id": "01efd02e",
   "metadata": {
    "id": "01efd02e"
   },
   "outputs": [
    {
     "data": {
      "text/html": [
       "<div>\n",
       "<style scoped>\n",
       "    .dataframe tbody tr th:only-of-type {\n",
       "        vertical-align: middle;\n",
       "    }\n",
       "\n",
       "    .dataframe tbody tr th {\n",
       "        vertical-align: top;\n",
       "    }\n",
       "\n",
       "    .dataframe thead th {\n",
       "        text-align: right;\n",
       "    }\n",
       "</style>\n",
       "<table border=\"1\" class=\"dataframe\">\n",
       "  <thead>\n",
       "    <tr style=\"text-align: right;\">\n",
       "      <th></th>\n",
       "      <th>product_id</th>\n",
       "      <th>product_name</th>\n",
       "      <th>aisle_id</th>\n",
       "      <th>department_id</th>\n",
       "    </tr>\n",
       "  </thead>\n",
       "  <tbody>\n",
       "    <tr>\n",
       "      <th>2058</th>\n",
       "      <td>2059</td>\n",
       "      <td>Biotin 1000 Mcg</td>\n",
       "      <td>47</td>\n",
       "      <td>11</td>\n",
       "    </tr>\n",
       "    <tr>\n",
       "      <th>5455</th>\n",
       "      <td>5456</td>\n",
       "      <td>Green Tea With Ginseng and Honey</td>\n",
       "      <td>96</td>\n",
       "      <td>20</td>\n",
       "    </tr>\n",
       "    <tr>\n",
       "      <th>5558</th>\n",
       "      <td>5559</td>\n",
       "      <td>Cream Of Mushroom Soup</td>\n",
       "      <td>69</td>\n",
       "      <td>15</td>\n",
       "    </tr>\n",
       "    <tr>\n",
       "      <th>7558</th>\n",
       "      <td>7559</td>\n",
       "      <td>Cinnamon Rolls with Icing</td>\n",
       "      <td>105</td>\n",
       "      <td>13</td>\n",
       "    </tr>\n",
       "    <tr>\n",
       "      <th>9037</th>\n",
       "      <td>9038</td>\n",
       "      <td>American Cheese slices</td>\n",
       "      <td>21</td>\n",
       "      <td>16</td>\n",
       "    </tr>\n",
       "    <tr>\n",
       "      <th>...</th>\n",
       "      <td>...</td>\n",
       "      <td>...</td>\n",
       "      <td>...</td>\n",
       "      <td>...</td>\n",
       "    </tr>\n",
       "    <tr>\n",
       "      <th>49689</th>\n",
       "      <td>49690</td>\n",
       "      <td>HIGH PERFORMANCE ENERGY DRINK</td>\n",
       "      <td>64</td>\n",
       "      <td>7</td>\n",
       "    </tr>\n",
       "    <tr>\n",
       "      <th>49690</th>\n",
       "      <td>49691</td>\n",
       "      <td>ORIGINAL PANCAKE &amp; WAFFLE MIX</td>\n",
       "      <td>130</td>\n",
       "      <td>14</td>\n",
       "    </tr>\n",
       "    <tr>\n",
       "      <th>49691</th>\n",
       "      <td>49692</td>\n",
       "      <td>ORGANIC INSTANT OATMEAL LIGHT MAPLE BROWN SUGAR</td>\n",
       "      <td>130</td>\n",
       "      <td>14</td>\n",
       "    </tr>\n",
       "    <tr>\n",
       "      <th>49692</th>\n",
       "      <td>49693</td>\n",
       "      <td>SPRING WATER BODY WASH</td>\n",
       "      <td>127</td>\n",
       "      <td>11</td>\n",
       "    </tr>\n",
       "    <tr>\n",
       "      <th>49693</th>\n",
       "      <td>49694</td>\n",
       "      <td>BURRITO- STEAK &amp; CHEESE</td>\n",
       "      <td>38</td>\n",
       "      <td>1</td>\n",
       "    </tr>\n",
       "  </tbody>\n",
       "</table>\n",
       "<p>104 rows × 4 columns</p>\n",
       "</div>"
      ],
      "text/plain": [
       "       product_id                                     product_name  aisle_id  \\\n",
       "2058         2059                                  Biotin 1000 Mcg        47   \n",
       "5455         5456                 Green Tea With Ginseng and Honey        96   \n",
       "5558         5559                           Cream Of Mushroom Soup        69   \n",
       "7558         7559                        Cinnamon Rolls with Icing       105   \n",
       "9037         9038                           American Cheese slices        21   \n",
       "...           ...                                              ...       ...   \n",
       "49689       49690                    HIGH PERFORMANCE ENERGY DRINK        64   \n",
       "49690       49691                    ORIGINAL PANCAKE & WAFFLE MIX       130   \n",
       "49691       49692  ORGANIC INSTANT OATMEAL LIGHT MAPLE BROWN SUGAR       130   \n",
       "49692       49693                           SPRING WATER BODY WASH       127   \n",
       "49693       49694                          BURRITO- STEAK & CHEESE        38   \n",
       "\n",
       "       department_id  \n",
       "2058              11  \n",
       "5455              20  \n",
       "5558              15  \n",
       "7558              13  \n",
       "9037              16  \n",
       "...              ...  \n",
       "49689              7  \n",
       "49690             14  \n",
       "49691             14  \n",
       "49692             11  \n",
       "49693              1  \n",
       "\n",
       "[104 rows x 4 columns]"
      ]
     },
     "execution_count": 21,
     "metadata": {},
     "output_type": "execute_result"
    }
   ],
   "source": [
    "# Revisa si hay nombres duplicados de productos no faltantes\n",
    "products[(~products['product_name'].isna()) & (products['product_name'].str.upper().duplicated())]\n"
   ]
  },
  {
   "cell_type": "markdown",
   "id": "9da8d293",
   "metadata": {
    "id": "9da8d293"
   },
   "source": [
    "Describe brevemente tus hallazgos y lo que hiciste con ellos.\n",
    "\n",
    "En el Data Frame products, los nombres de los productos se repetían, procedimos a cambiar todas las letras a mayúscula para que los datos fueran más uniformes.\n"
   ]
  },
  {
   "cell_type": "markdown",
   "id": "3c2b3053",
   "metadata": {},
   "source": [
    "\n",
    "<div class=\"alert alert-block alert-success\">\n",
    "<b>Comentario del revisor</b> <a class=\"tocSkip\"></a>\n",
    "\n",
    "Muy buen trabajo!! Desarrollaste de manera excelente el análisis de duplicados. Para complementar el análisis, qué podríamos decir de estos 104 productos duplicados? \n",
    "    \n",
    "</div>"
   ]
  },
  {
   "cell_type": "markdown",
   "id": "60f30db1",
   "metadata": {
    "id": "60f30db1"
   },
   "source": [
    "### `departments` data frame"
   ]
  },
  {
   "cell_type": "code",
   "execution_count": 22,
   "id": "fb410ad4-0fbf-4b80-bb09-23fdea79afe3",
   "metadata": {
    "id": "fb410ad4-0fbf-4b80-bb09-23fdea79afe3"
   },
   "outputs": [
    {
     "data": {
      "text/plain": [
       "0"
      ]
     },
     "execution_count": 22,
     "metadata": {},
     "output_type": "execute_result"
    }
   ],
   "source": [
    "# Revisa si hay filas totalmente duplicadas\n",
    "departments.duplicated().sum()"
   ]
  },
  {
   "cell_type": "code",
   "execution_count": 23,
   "id": "9d0dcaf6",
   "metadata": {},
   "outputs": [
    {
     "data": {
      "text/html": [
       "<div>\n",
       "<style scoped>\n",
       "    .dataframe tbody tr th:only-of-type {\n",
       "        vertical-align: middle;\n",
       "    }\n",
       "\n",
       "    .dataframe tbody tr th {\n",
       "        vertical-align: top;\n",
       "    }\n",
       "\n",
       "    .dataframe thead th {\n",
       "        text-align: right;\n",
       "    }\n",
       "</style>\n",
       "<table border=\"1\" class=\"dataframe\">\n",
       "  <thead>\n",
       "    <tr style=\"text-align: right;\">\n",
       "      <th></th>\n",
       "      <th>department_id</th>\n",
       "      <th>department</th>\n",
       "    </tr>\n",
       "  </thead>\n",
       "  <tbody>\n",
       "  </tbody>\n",
       "</table>\n",
       "</div>"
      ],
      "text/plain": [
       "Empty DataFrame\n",
       "Columns: [department_id, department]\n",
       "Index: []"
      ]
     },
     "execution_count": 23,
     "metadata": {},
     "output_type": "execute_result"
    }
   ],
   "source": [
    "departments[departments.duplicated()]"
   ]
  },
  {
   "cell_type": "code",
   "execution_count": 24,
   "id": "332b12bb",
   "metadata": {
    "id": "332b12bb"
   },
   "outputs": [
    {
     "data": {
      "text/html": [
       "<div>\n",
       "<style scoped>\n",
       "    .dataframe tbody tr th:only-of-type {\n",
       "        vertical-align: middle;\n",
       "    }\n",
       "\n",
       "    .dataframe tbody tr th {\n",
       "        vertical-align: top;\n",
       "    }\n",
       "\n",
       "    .dataframe thead th {\n",
       "        text-align: right;\n",
       "    }\n",
       "</style>\n",
       "<table border=\"1\" class=\"dataframe\">\n",
       "  <thead>\n",
       "    <tr style=\"text-align: right;\">\n",
       "      <th></th>\n",
       "      <th>department_id</th>\n",
       "      <th>department</th>\n",
       "    </tr>\n",
       "  </thead>\n",
       "  <tbody>\n",
       "  </tbody>\n",
       "</table>\n",
       "</div>"
      ],
      "text/plain": [
       "Empty DataFrame\n",
       "Columns: [department_id, department]\n",
       "Index: []"
      ]
     },
     "execution_count": 24,
     "metadata": {},
     "output_type": "execute_result"
    }
   ],
   "source": [
    "# Revisa únicamente si hay IDs duplicadas de productos\n",
    "departments[departments.duplicated(subset='department_id')]"
   ]
  },
  {
   "cell_type": "markdown",
   "id": "bd30d78e",
   "metadata": {
    "id": "bd30d78e"
   },
   "source": [
    "Describe brevemente tus hallazgos y lo que hiciste con ellos.\n",
    "\n",
    "No se encontraron duplicados, también procedimos a usar subset para corroborar que no existieran duplicados en otra columna.\n"
   ]
  },
  {
   "cell_type": "markdown",
   "id": "889349c1",
   "metadata": {
    "id": "889349c1"
   },
   "source": [
    "### `aisles` data frame"
   ]
  },
  {
   "cell_type": "code",
   "execution_count": 25,
   "id": "9da89fb9-4679-40f5-ad0d-c34df753a3f8",
   "metadata": {
    "id": "9da89fb9-4679-40f5-ad0d-c34df753a3f8"
   },
   "outputs": [
    {
     "data": {
      "text/plain": [
       "0"
      ]
     },
     "execution_count": 25,
     "metadata": {},
     "output_type": "execute_result"
    }
   ],
   "source": [
    "# Revisa si hay filas totalmente duplicadas\n",
    "aisles.duplicated().sum()"
   ]
  },
  {
   "cell_type": "code",
   "execution_count": 26,
   "id": "b1d6e2a1",
   "metadata": {},
   "outputs": [
    {
     "data": {
      "text/html": [
       "<div>\n",
       "<style scoped>\n",
       "    .dataframe tbody tr th:only-of-type {\n",
       "        vertical-align: middle;\n",
       "    }\n",
       "\n",
       "    .dataframe tbody tr th {\n",
       "        vertical-align: top;\n",
       "    }\n",
       "\n",
       "    .dataframe thead th {\n",
       "        text-align: right;\n",
       "    }\n",
       "</style>\n",
       "<table border=\"1\" class=\"dataframe\">\n",
       "  <thead>\n",
       "    <tr style=\"text-align: right;\">\n",
       "      <th></th>\n",
       "      <th>aisle_id</th>\n",
       "      <th>aisle</th>\n",
       "    </tr>\n",
       "  </thead>\n",
       "  <tbody>\n",
       "  </tbody>\n",
       "</table>\n",
       "</div>"
      ],
      "text/plain": [
       "Empty DataFrame\n",
       "Columns: [aisle_id, aisle]\n",
       "Index: []"
      ]
     },
     "execution_count": 26,
     "metadata": {},
     "output_type": "execute_result"
    }
   ],
   "source": [
    "aisles[aisles.duplicated()]"
   ]
  },
  {
   "cell_type": "code",
   "execution_count": 27,
   "id": "da7c2822",
   "metadata": {
    "id": "da7c2822"
   },
   "outputs": [
    {
     "data": {
      "text/html": [
       "<div>\n",
       "<style scoped>\n",
       "    .dataframe tbody tr th:only-of-type {\n",
       "        vertical-align: middle;\n",
       "    }\n",
       "\n",
       "    .dataframe tbody tr th {\n",
       "        vertical-align: top;\n",
       "    }\n",
       "\n",
       "    .dataframe thead th {\n",
       "        text-align: right;\n",
       "    }\n",
       "</style>\n",
       "<table border=\"1\" class=\"dataframe\">\n",
       "  <thead>\n",
       "    <tr style=\"text-align: right;\">\n",
       "      <th></th>\n",
       "      <th>aisle_id</th>\n",
       "      <th>aisle</th>\n",
       "    </tr>\n",
       "  </thead>\n",
       "  <tbody>\n",
       "  </tbody>\n",
       "</table>\n",
       "</div>"
      ],
      "text/plain": [
       "Empty DataFrame\n",
       "Columns: [aisle_id, aisle]\n",
       "Index: []"
      ]
     },
     "execution_count": 27,
     "metadata": {},
     "output_type": "execute_result"
    }
   ],
   "source": [
    "# Revisa únicamente si hay IDs duplicadas de productos\n",
    "aisles[aisles.duplicated(subset='aisle_id')]"
   ]
  },
  {
   "cell_type": "markdown",
   "id": "ac63826f",
   "metadata": {
    "id": "ac63826f"
   },
   "source": [
    "Describe brevemente tus hallazgos y lo que hiciste con ellos.\n",
    "\n",
    "Tampoco se encontraron duplicados.\n"
   ]
  },
  {
   "cell_type": "markdown",
   "id": "274cd06a",
   "metadata": {
    "id": "274cd06a"
   },
   "source": [
    "### `order_products` data frame"
   ]
  },
  {
   "cell_type": "code",
   "execution_count": 28,
   "id": "52326689-84a8-4b8f-a881-7c68780f62c9",
   "metadata": {
    "id": "52326689-84a8-4b8f-a881-7c68780f62c9"
   },
   "outputs": [
    {
     "data": {
      "text/plain": [
       "0"
      ]
     },
     "execution_count": 28,
     "metadata": {},
     "output_type": "execute_result"
    }
   ],
   "source": [
    "# Revisa si hay filas totalmente duplicadas\n",
    "order_products.duplicated().sum()"
   ]
  },
  {
   "cell_type": "code",
   "execution_count": 29,
   "id": "e17d6aad",
   "metadata": {},
   "outputs": [
    {
     "data": {
      "text/html": [
       "<div>\n",
       "<style scoped>\n",
       "    .dataframe tbody tr th:only-of-type {\n",
       "        vertical-align: middle;\n",
       "    }\n",
       "\n",
       "    .dataframe tbody tr th {\n",
       "        vertical-align: top;\n",
       "    }\n",
       "\n",
       "    .dataframe thead th {\n",
       "        text-align: right;\n",
       "    }\n",
       "</style>\n",
       "<table border=\"1\" class=\"dataframe\">\n",
       "  <thead>\n",
       "    <tr style=\"text-align: right;\">\n",
       "      <th></th>\n",
       "      <th>order_id</th>\n",
       "      <th>product_id</th>\n",
       "      <th>add_to_cart_order</th>\n",
       "      <th>reordered</th>\n",
       "    </tr>\n",
       "  </thead>\n",
       "  <tbody>\n",
       "  </tbody>\n",
       "</table>\n",
       "</div>"
      ],
      "text/plain": [
       "Empty DataFrame\n",
       "Columns: [order_id, product_id, add_to_cart_order, reordered]\n",
       "Index: []"
      ]
     },
     "execution_count": 29,
     "metadata": {},
     "output_type": "execute_result"
    }
   ],
   "source": [
    "order_products[order_products.duplicated()]"
   ]
  },
  {
   "cell_type": "code",
   "execution_count": 30,
   "id": "7b861391",
   "metadata": {
    "id": "7b861391"
   },
   "outputs": [
    {
     "data": {
      "text/html": [
       "<div>\n",
       "<style scoped>\n",
       "    .dataframe tbody tr th:only-of-type {\n",
       "        vertical-align: middle;\n",
       "    }\n",
       "\n",
       "    .dataframe tbody tr th {\n",
       "        vertical-align: top;\n",
       "    }\n",
       "\n",
       "    .dataframe thead th {\n",
       "        text-align: right;\n",
       "    }\n",
       "</style>\n",
       "<table border=\"1\" class=\"dataframe\">\n",
       "  <thead>\n",
       "    <tr style=\"text-align: right;\">\n",
       "      <th></th>\n",
       "      <th>order_id</th>\n",
       "      <th>product_id</th>\n",
       "      <th>add_to_cart_order</th>\n",
       "      <th>reordered</th>\n",
       "    </tr>\n",
       "  </thead>\n",
       "  <tbody>\n",
       "  </tbody>\n",
       "</table>\n",
       "</div>"
      ],
      "text/plain": [
       "Empty DataFrame\n",
       "Columns: [order_id, product_id, add_to_cart_order, reordered]\n",
       "Index: []"
      ]
     },
     "execution_count": 30,
     "metadata": {},
     "output_type": "execute_result"
    }
   ],
   "source": [
    "# Vuelve a verificar si hay cualquier otro duplicado engañoso\n",
    "order_products[order_products.duplicated(subset=['order_id','product_id'])]\n"
   ]
  },
  {
   "cell_type": "markdown",
   "id": "0b890492",
   "metadata": {
    "id": "0b890492"
   },
   "source": [
    "Describe brevemente tus hallazgos y lo que hiciste con ellos.\n",
    "\n",
    "No se encontraron duplicados y también procedimos a hacer un análisis más detallado usando subset para corroborarlo.\n"
   ]
  },
  {
   "cell_type": "markdown",
   "id": "1e46de76",
   "metadata": {
    "id": "1e46de76"
   },
   "source": [
    "## Encuentra y elimina los valores ausentes\n",
    "\n",
    "Al trabajar con valores duplicados, pudimos observar que también nos falta investigar valores ausentes:\n",
    "\n",
    "* La columna `'product_name'` de la tabla products.\n",
    "* La columna `'days_since_prior_order'` de la tabla orders.\n",
    "* La columna `'add_to_cart_order'` de la tabla order_productos."
   ]
  },
  {
   "cell_type": "markdown",
   "id": "c0aebd78",
   "metadata": {
    "id": "c0aebd78"
   },
   "source": [
    "### `products` data frame"
   ]
  },
  {
   "cell_type": "code",
   "execution_count": 31,
   "id": "fe4a8b0f",
   "metadata": {
    "id": "fe4a8b0f"
   },
   "outputs": [
    {
     "data": {
      "text/plain": [
       "product_id          0\n",
       "product_name     1258\n",
       "aisle_id            0\n",
       "department_id       0\n",
       "dtype: int64"
      ]
     },
     "execution_count": 31,
     "metadata": {},
     "output_type": "execute_result"
    }
   ],
   "source": [
    "# Encuentra los valores ausentes en la columna 'product_name'\n",
    "products.isna().sum()"
   ]
  },
  {
   "cell_type": "code",
   "execution_count": 32,
   "id": "14bf0b23",
   "metadata": {},
   "outputs": [
    {
     "data": {
      "text/html": [
       "<div>\n",
       "<style scoped>\n",
       "    .dataframe tbody tr th:only-of-type {\n",
       "        vertical-align: middle;\n",
       "    }\n",
       "\n",
       "    .dataframe tbody tr th {\n",
       "        vertical-align: top;\n",
       "    }\n",
       "\n",
       "    .dataframe thead th {\n",
       "        text-align: right;\n",
       "    }\n",
       "</style>\n",
       "<table border=\"1\" class=\"dataframe\">\n",
       "  <thead>\n",
       "    <tr style=\"text-align: right;\">\n",
       "      <th></th>\n",
       "      <th>product_id</th>\n",
       "      <th>product_name</th>\n",
       "      <th>aisle_id</th>\n",
       "      <th>department_id</th>\n",
       "    </tr>\n",
       "  </thead>\n",
       "  <tbody>\n",
       "    <tr>\n",
       "      <th>37</th>\n",
       "      <td>38</td>\n",
       "      <td>NaN</td>\n",
       "      <td>100</td>\n",
       "      <td>21</td>\n",
       "    </tr>\n",
       "    <tr>\n",
       "      <th>71</th>\n",
       "      <td>72</td>\n",
       "      <td>NaN</td>\n",
       "      <td>100</td>\n",
       "      <td>21</td>\n",
       "    </tr>\n",
       "    <tr>\n",
       "      <th>109</th>\n",
       "      <td>110</td>\n",
       "      <td>NaN</td>\n",
       "      <td>100</td>\n",
       "      <td>21</td>\n",
       "    </tr>\n",
       "    <tr>\n",
       "      <th>296</th>\n",
       "      <td>297</td>\n",
       "      <td>NaN</td>\n",
       "      <td>100</td>\n",
       "      <td>21</td>\n",
       "    </tr>\n",
       "    <tr>\n",
       "      <th>416</th>\n",
       "      <td>417</td>\n",
       "      <td>NaN</td>\n",
       "      <td>100</td>\n",
       "      <td>21</td>\n",
       "    </tr>\n",
       "    <tr>\n",
       "      <th>...</th>\n",
       "      <td>...</td>\n",
       "      <td>...</td>\n",
       "      <td>...</td>\n",
       "      <td>...</td>\n",
       "    </tr>\n",
       "    <tr>\n",
       "      <th>49552</th>\n",
       "      <td>49553</td>\n",
       "      <td>NaN</td>\n",
       "      <td>100</td>\n",
       "      <td>21</td>\n",
       "    </tr>\n",
       "    <tr>\n",
       "      <th>49574</th>\n",
       "      <td>49575</td>\n",
       "      <td>NaN</td>\n",
       "      <td>100</td>\n",
       "      <td>21</td>\n",
       "    </tr>\n",
       "    <tr>\n",
       "      <th>49640</th>\n",
       "      <td>49641</td>\n",
       "      <td>NaN</td>\n",
       "      <td>100</td>\n",
       "      <td>21</td>\n",
       "    </tr>\n",
       "    <tr>\n",
       "      <th>49663</th>\n",
       "      <td>49664</td>\n",
       "      <td>NaN</td>\n",
       "      <td>100</td>\n",
       "      <td>21</td>\n",
       "    </tr>\n",
       "    <tr>\n",
       "      <th>49668</th>\n",
       "      <td>49669</td>\n",
       "      <td>NaN</td>\n",
       "      <td>100</td>\n",
       "      <td>21</td>\n",
       "    </tr>\n",
       "  </tbody>\n",
       "</table>\n",
       "<p>1258 rows × 4 columns</p>\n",
       "</div>"
      ],
      "text/plain": [
       "       product_id product_name  aisle_id  department_id\n",
       "37             38          NaN       100             21\n",
       "71             72          NaN       100             21\n",
       "109           110          NaN       100             21\n",
       "296           297          NaN       100             21\n",
       "416           417          NaN       100             21\n",
       "...           ...          ...       ...            ...\n",
       "49552       49553          NaN       100             21\n",
       "49574       49575          NaN       100             21\n",
       "49640       49641          NaN       100             21\n",
       "49663       49664          NaN       100             21\n",
       "49668       49669          NaN       100             21\n",
       "\n",
       "[1258 rows x 4 columns]"
      ]
     },
     "execution_count": 32,
     "metadata": {},
     "output_type": "execute_result"
    }
   ],
   "source": [
    "#  ¿Todos los nombres de productos ausentes están relacionados con el pasillo con ID 100?\n",
    "products[products['product_name'].isna()]"
   ]
  },
  {
   "cell_type": "markdown",
   "id": "-A6x1AbJhjkp",
   "metadata": {
    "id": "-A6x1AbJhjkp"
   },
   "source": [
    "Describe brevemente cuáles son tus hallazgos.\n",
    "\n",
    "Se encontraron valores ausentes en la columna product_name, que además coinciden en los datos con las columnas aisle_id=100 y department_id=21.\n"
   ]
  },
  {
   "cell_type": "code",
   "execution_count": 33,
   "id": "e96167bc",
   "metadata": {
    "id": "e96167bc"
   },
   "outputs": [
    {
     "data": {
      "text/plain": [
       "product_id       0\n",
       "product_name     0\n",
       "aisle_id         0\n",
       "department_id    0\n",
       "dtype: int64"
      ]
     },
     "execution_count": 33,
     "metadata": {},
     "output_type": "execute_result"
    }
   ],
   "source": [
    "products[(products['product_name'].isna()) & (products['aisle_id'] != 100)].count()"
   ]
  },
  {
   "cell_type": "markdown",
   "id": "WRpIfXRphpSL",
   "metadata": {
    "id": "WRpIfXRphpSL"
   },
   "source": [
    "Describe brevemente cuáles son tus hallazgos.\n",
    "\n",
    "No se encontraron valores ausentes que fueran diferentes a 100 en la columna aisle_id."
   ]
  },
  {
   "cell_type": "code",
   "execution_count": 34,
   "id": "8fd0a541",
   "metadata": {
    "id": "8fd0a541"
   },
   "outputs": [
    {
     "data": {
      "text/plain": [
       "product_id       0\n",
       "product_name     0\n",
       "aisle_id         0\n",
       "department_id    0\n",
       "dtype: int64"
      ]
     },
     "execution_count": 34,
     "metadata": {},
     "output_type": "execute_result"
    }
   ],
   "source": [
    "# ¿Todos los nombres de productos ausentes están relacionados con el departamento con ID 21?\n",
    "products[(products['product_name'].isna()) & (products['department_id'] != 21)].count()"
   ]
  },
  {
   "cell_type": "markdown",
   "id": "qDpdYn1Fht_I",
   "metadata": {
    "id": "qDpdYn1Fht_I"
   },
   "source": [
    "Describe brevemente cuáles son tus hallazgos.\n",
    "\n",
    "No se encontraron valores ausentes que fueran diferentes a 21 en la columna department_id."
   ]
  },
  {
   "cell_type": "code",
   "execution_count": 35,
   "id": "325c3464",
   "metadata": {
    "id": "325c3464"
   },
   "outputs": [
    {
     "data": {
      "text/html": [
       "<div>\n",
       "<style scoped>\n",
       "    .dataframe tbody tr th:only-of-type {\n",
       "        vertical-align: middle;\n",
       "    }\n",
       "\n",
       "    .dataframe tbody tr th {\n",
       "        vertical-align: top;\n",
       "    }\n",
       "\n",
       "    .dataframe thead th {\n",
       "        text-align: right;\n",
       "    }\n",
       "</style>\n",
       "<table border=\"1\" class=\"dataframe\">\n",
       "  <thead>\n",
       "    <tr style=\"text-align: right;\">\n",
       "      <th></th>\n",
       "      <th>aisle_id</th>\n",
       "      <th>aisle</th>\n",
       "    </tr>\n",
       "  </thead>\n",
       "  <tbody>\n",
       "    <tr>\n",
       "      <th>99</th>\n",
       "      <td>100</td>\n",
       "      <td>missing</td>\n",
       "    </tr>\n",
       "  </tbody>\n",
       "</table>\n",
       "</div>"
      ],
      "text/plain": [
       "    aisle_id    aisle\n",
       "99       100  missing"
      ]
     },
     "execution_count": 35,
     "metadata": {},
     "output_type": "execute_result"
    }
   ],
   "source": [
    "# Usa las tablas department y aisle para revisar los datos del pasillo con ID 100 y el departamento con ID 21.\n",
    "aisles[aisles['aisle_id'] == 100]\n"
   ]
  },
  {
   "cell_type": "code",
   "execution_count": 36,
   "id": "82d95680",
   "metadata": {},
   "outputs": [
    {
     "data": {
      "text/html": [
       "<div>\n",
       "<style scoped>\n",
       "    .dataframe tbody tr th:only-of-type {\n",
       "        vertical-align: middle;\n",
       "    }\n",
       "\n",
       "    .dataframe tbody tr th {\n",
       "        vertical-align: top;\n",
       "    }\n",
       "\n",
       "    .dataframe thead th {\n",
       "        text-align: right;\n",
       "    }\n",
       "</style>\n",
       "<table border=\"1\" class=\"dataframe\">\n",
       "  <thead>\n",
       "    <tr style=\"text-align: right;\">\n",
       "      <th></th>\n",
       "      <th>department_id</th>\n",
       "      <th>department</th>\n",
       "    </tr>\n",
       "  </thead>\n",
       "  <tbody>\n",
       "    <tr>\n",
       "      <th>20</th>\n",
       "      <td>21</td>\n",
       "      <td>missing</td>\n",
       "    </tr>\n",
       "  </tbody>\n",
       "</table>\n",
       "</div>"
      ],
      "text/plain": [
       "    department_id department\n",
       "20             21    missing"
      ]
     },
     "execution_count": 36,
     "metadata": {},
     "output_type": "execute_result"
    }
   ],
   "source": [
    "\n",
    "departments[departments['department_id'] == 21]"
   ]
  },
  {
   "cell_type": "markdown",
   "id": "nqhSTUPhhvEJ",
   "metadata": {
    "id": "nqhSTUPhhvEJ"
   },
   "source": [
    "Describe brevemente cuáles son tus hallazgos.\n",
    "\n",
    "Todos los datos ausentes coinciden con el mismo pasillo y el mismo departamento, se trata de información con la que no se cuenta. "
   ]
  },
  {
   "cell_type": "code",
   "execution_count": 37,
   "id": "6b295120",
   "metadata": {
    "id": "6b295120"
   },
   "outputs": [],
   "source": [
    "# Completa los nombres de productos ausentes con 'Unknown'\n",
    "products.fillna('Unknown', inplace=True)"
   ]
  },
  {
   "cell_type": "code",
   "execution_count": 38,
   "id": "184b04df",
   "metadata": {},
   "outputs": [
    {
     "data": {
      "text/plain": [
       "product_id       0\n",
       "product_name     0\n",
       "aisle_id         0\n",
       "department_id    0\n",
       "dtype: int64"
      ]
     },
     "execution_count": 38,
     "metadata": {},
     "output_type": "execute_result"
    }
   ],
   "source": [
    "products.isna().sum()"
   ]
  },
  {
   "cell_type": "markdown",
   "id": "fc70e5ad",
   "metadata": {
    "id": "fc70e5ad"
   },
   "source": [
    "Describe brevemente tus hallazgos y lo que hiciste con ellos.\n",
    "\n",
    "En product_name se habían encontrado datos ausentes que fueron sustituidos por 'Unknown', después de realizar procedimos a corroborar que no existieran datos nulos."
   ]
  },
  {
   "cell_type": "markdown",
   "id": "20a0c6ea",
   "metadata": {},
   "source": [
    "<div class=\"alert alert-block alert-success\">\n",
    "<b>Comentario del revisor</b> <a class=\"tocSkip\"></a>\n",
    "\n",
    "Muy buen trabajo!! Desarrollaste de manera excelente el análisis de valores faltantes y los llenaste con \"unknown\".\n",
    "    \n",
    "</div>"
   ]
  },
  {
   "cell_type": "markdown",
   "id": "7eb45c86",
   "metadata": {
    "id": "7eb45c86"
   },
   "source": [
    "### `orders` data frame"
   ]
  },
  {
   "cell_type": "code",
   "execution_count": 39,
   "id": "93e41d96",
   "metadata": {
    "id": "93e41d96"
   },
   "outputs": [
    {
     "data": {
      "text/plain": [
       "order_id                      0\n",
       "user_id                       0\n",
       "order_number                  0\n",
       "order_dow                     0\n",
       "order_hour_of_day             0\n",
       "days_since_prior_order    28817\n",
       "dtype: int64"
      ]
     },
     "execution_count": 39,
     "metadata": {},
     "output_type": "execute_result"
    }
   ],
   "source": [
    "# Encuentra los valores ausentes\\\n",
    "instacart_orders.isna().sum()"
   ]
  },
  {
   "cell_type": "code",
   "execution_count": 40,
   "id": "166e5a86",
   "metadata": {
    "id": "166e5a86"
   },
   "outputs": [
    {
     "data": {
      "text/plain": [
       "array([1])"
      ]
     },
     "execution_count": 40,
     "metadata": {},
     "output_type": "execute_result"
    }
   ],
   "source": [
    "# ¿Hay algún valor ausente que no sea el primer pedido del cliente?\n",
    "instacart_orders[instacart_orders['days_since_prior_order'].isna()]['order_number'].unique()\n",
    "# "
   ]
  },
  {
   "cell_type": "code",
   "execution_count": 41,
   "id": "238a8969",
   "metadata": {},
   "outputs": [
    {
     "data": {
      "text/html": [
       "<div>\n",
       "<style scoped>\n",
       "    .dataframe tbody tr th:only-of-type {\n",
       "        vertical-align: middle;\n",
       "    }\n",
       "\n",
       "    .dataframe tbody tr th {\n",
       "        vertical-align: top;\n",
       "    }\n",
       "\n",
       "    .dataframe thead th {\n",
       "        text-align: right;\n",
       "    }\n",
       "</style>\n",
       "<table border=\"1\" class=\"dataframe\">\n",
       "  <thead>\n",
       "    <tr style=\"text-align: right;\">\n",
       "      <th></th>\n",
       "      <th>order_id</th>\n",
       "      <th>user_id</th>\n",
       "      <th>order_number</th>\n",
       "      <th>order_dow</th>\n",
       "      <th>order_hour_of_day</th>\n",
       "      <th>days_since_prior_order</th>\n",
       "    </tr>\n",
       "  </thead>\n",
       "  <tbody>\n",
       "    <tr>\n",
       "      <th>28</th>\n",
       "      <td>133707</td>\n",
       "      <td>182261</td>\n",
       "      <td>1</td>\n",
       "      <td>3</td>\n",
       "      <td>10</td>\n",
       "      <td>NaN</td>\n",
       "    </tr>\n",
       "    <tr>\n",
       "      <th>96</th>\n",
       "      <td>787445</td>\n",
       "      <td>25685</td>\n",
       "      <td>1</td>\n",
       "      <td>6</td>\n",
       "      <td>18</td>\n",
       "      <td>NaN</td>\n",
       "    </tr>\n",
       "    <tr>\n",
       "      <th>100</th>\n",
       "      <td>294410</td>\n",
       "      <td>111449</td>\n",
       "      <td>1</td>\n",
       "      <td>0</td>\n",
       "      <td>19</td>\n",
       "      <td>NaN</td>\n",
       "    </tr>\n",
       "    <tr>\n",
       "      <th>103</th>\n",
       "      <td>2869915</td>\n",
       "      <td>123958</td>\n",
       "      <td>1</td>\n",
       "      <td>4</td>\n",
       "      <td>16</td>\n",
       "      <td>NaN</td>\n",
       "    </tr>\n",
       "    <tr>\n",
       "      <th>104</th>\n",
       "      <td>2521921</td>\n",
       "      <td>42286</td>\n",
       "      <td>1</td>\n",
       "      <td>3</td>\n",
       "      <td>18</td>\n",
       "      <td>NaN</td>\n",
       "    </tr>\n",
       "    <tr>\n",
       "      <th>...</th>\n",
       "      <td>...</td>\n",
       "      <td>...</td>\n",
       "      <td>...</td>\n",
       "      <td>...</td>\n",
       "      <td>...</td>\n",
       "      <td>...</td>\n",
       "    </tr>\n",
       "    <tr>\n",
       "      <th>478895</th>\n",
       "      <td>2589657</td>\n",
       "      <td>205028</td>\n",
       "      <td>1</td>\n",
       "      <td>0</td>\n",
       "      <td>16</td>\n",
       "      <td>NaN</td>\n",
       "    </tr>\n",
       "    <tr>\n",
       "      <th>478896</th>\n",
       "      <td>2222353</td>\n",
       "      <td>141211</td>\n",
       "      <td>1</td>\n",
       "      <td>2</td>\n",
       "      <td>13</td>\n",
       "      <td>NaN</td>\n",
       "    </tr>\n",
       "    <tr>\n",
       "      <th>478922</th>\n",
       "      <td>2272807</td>\n",
       "      <td>204154</td>\n",
       "      <td>1</td>\n",
       "      <td>1</td>\n",
       "      <td>15</td>\n",
       "      <td>NaN</td>\n",
       "    </tr>\n",
       "    <tr>\n",
       "      <th>478926</th>\n",
       "      <td>2499542</td>\n",
       "      <td>68810</td>\n",
       "      <td>1</td>\n",
       "      <td>4</td>\n",
       "      <td>19</td>\n",
       "      <td>NaN</td>\n",
       "    </tr>\n",
       "    <tr>\n",
       "      <th>478945</th>\n",
       "      <td>1387033</td>\n",
       "      <td>22496</td>\n",
       "      <td>1</td>\n",
       "      <td>5</td>\n",
       "      <td>14</td>\n",
       "      <td>NaN</td>\n",
       "    </tr>\n",
       "  </tbody>\n",
       "</table>\n",
       "<p>28817 rows × 6 columns</p>\n",
       "</div>"
      ],
      "text/plain": [
       "        order_id  user_id  order_number  order_dow  order_hour_of_day  \\\n",
       "28        133707   182261             1          3                 10   \n",
       "96        787445    25685             1          6                 18   \n",
       "100       294410   111449             1          0                 19   \n",
       "103      2869915   123958             1          4                 16   \n",
       "104      2521921    42286             1          3                 18   \n",
       "...          ...      ...           ...        ...                ...   \n",
       "478895   2589657   205028             1          0                 16   \n",
       "478896   2222353   141211             1          2                 13   \n",
       "478922   2272807   204154             1          1                 15   \n",
       "478926   2499542    68810             1          4                 19   \n",
       "478945   1387033    22496             1          5                 14   \n",
       "\n",
       "        days_since_prior_order  \n",
       "28                         NaN  \n",
       "96                         NaN  \n",
       "100                        NaN  \n",
       "103                        NaN  \n",
       "104                        NaN  \n",
       "...                        ...  \n",
       "478895                     NaN  \n",
       "478896                     NaN  \n",
       "478922                     NaN  \n",
       "478926                     NaN  \n",
       "478945                     NaN  \n",
       "\n",
       "[28817 rows x 6 columns]"
      ]
     },
     "execution_count": 41,
     "metadata": {},
     "output_type": "execute_result"
    }
   ],
   "source": [
    "instacart_orders[instacart_orders['days_since_prior_order'].isna()]"
   ]
  },
  {
   "cell_type": "code",
   "execution_count": 42,
   "id": "f7e109fe",
   "metadata": {},
   "outputs": [],
   "source": [
    "instacart_orders.fillna(0, inplace=True)"
   ]
  },
  {
   "cell_type": "code",
   "execution_count": 43,
   "id": "8f135a48",
   "metadata": {},
   "outputs": [
    {
     "data": {
      "text/plain": [
       "order_id                  0\n",
       "user_id                   0\n",
       "order_number              0\n",
       "order_dow                 0\n",
       "order_hour_of_day         0\n",
       "days_since_prior_order    0\n",
       "dtype: int64"
      ]
     },
     "execution_count": 43,
     "metadata": {},
     "output_type": "execute_result"
    }
   ],
   "source": [
    "instacart_orders.isna().sum()"
   ]
  },
  {
   "cell_type": "markdown",
   "id": "4e23d089",
   "metadata": {
    "id": "4e23d089"
   },
   "source": [
    "Describe brevemente tus hallazgos y lo que hiciste con ellos.\n",
    "\n",
    "Encontramos datos ausentes en la columna days_since_prior_order, esto de debe a que no ha vuelto a realizar otra compra, por eso es que no se cuenta con esos datos, por consiguiente esos datos fueron rellenados con el 0."
   ]
  },
  {
   "cell_type": "markdown",
   "id": "69dc9ca4",
   "metadata": {
    "id": "69dc9ca4"
   },
   "source": [
    "### `order_products` data frame"
   ]
  },
  {
   "cell_type": "code",
   "execution_count": 44,
   "id": "b8240253",
   "metadata": {
    "id": "b8240253"
   },
   "outputs": [
    {
     "data": {
      "text/plain": [
       "order_id               0\n",
       "product_id             0\n",
       "add_to_cart_order    836\n",
       "reordered              0\n",
       "dtype: int64"
      ]
     },
     "execution_count": 44,
     "metadata": {},
     "output_type": "execute_result"
    }
   ],
   "source": [
    "# Encuentra los valores ausentes\n",
    "order_products.isna().sum()"
   ]
  },
  {
   "cell_type": "code",
   "execution_count": 45,
   "id": "9a78e5ee",
   "metadata": {
    "id": "9a78e5ee"
   },
   "outputs": [
    {
     "data": {
      "text/plain": [
       "1.0"
      ]
     },
     "execution_count": 45,
     "metadata": {},
     "output_type": "execute_result"
    }
   ],
   "source": [
    "# ¿Cuáles son los valores mínimos y máximos en esta columna?\n",
    "order_products['add_to_cart_order'].min()\n"
   ]
  },
  {
   "cell_type": "code",
   "execution_count": 46,
   "id": "cd0aa214",
   "metadata": {},
   "outputs": [
    {
     "data": {
      "text/plain": [
       "64.0"
      ]
     },
     "execution_count": 46,
     "metadata": {},
     "output_type": "execute_result"
    }
   ],
   "source": [
    "order_products['add_to_cart_order'].max()"
   ]
  },
  {
   "cell_type": "markdown",
   "id": "-Z2Ja215jW78",
   "metadata": {
    "id": "-Z2Ja215jW78"
   },
   "source": [
    "Describe brevemente cuáles son tus hallazgos.\n",
    "\n",
    "Se encontraron datos duplicados en la columna add_to_cart_order, imagino que no afecta al demás análisis por que solo hace referencia al orden secuencial en el que se añadió cada artículo en el carrito, pero procederemos a hacer un análisis más detallado."
   ]
  },
  {
   "cell_type": "code",
   "execution_count": 47,
   "id": "ab9d0c2b",
   "metadata": {
    "id": "ab9d0c2b"
   },
   "outputs": [
    {
     "data": {
      "text/plain": [
       "0          False\n",
       "1          False\n",
       "2          False\n",
       "3          False\n",
       "4          False\n",
       "           ...  \n",
       "4545002    False\n",
       "4545003    False\n",
       "4545004    False\n",
       "4545005    False\n",
       "4545006    False\n",
       "Name: add_to_cart_order, Length: 4545007, dtype: bool"
      ]
     },
     "execution_count": 47,
     "metadata": {},
     "output_type": "execute_result"
    }
   ],
   "source": [
    "# Guarda todas las IDs de pedidos que tengan un valor ausente en 'add_to_cart_order'\n",
    "order_products['add_to_cart_order'].isna()"
   ]
  },
  {
   "cell_type": "code",
   "execution_count": 48,
   "id": "54c31695",
   "metadata": {
    "id": "54c31695"
   },
   "outputs": [],
   "source": [
    "# ¿Todos los pedidos con valores ausentes tienen más de 64 productos?\n",
    "# Agrupa todos los pedidos con datos ausentes por su ID de pedido.\n",
    "# Cuenta el número de 'product_id' en cada pedido y revisa el valor mínimo del conteo.\n"
   ]
  },
  {
   "cell_type": "code",
   "execution_count": 49,
   "id": "b4973e13",
   "metadata": {},
   "outputs": [
    {
     "data": {
      "text/plain": [
       "order_id\n",
       "61355      127\n",
       "3308010    115\n",
       "2136777    108\n",
       "171934     104\n",
       "1959075     98\n",
       "          ... \n",
       "2231165      1\n",
       "816908       1\n",
       "2230951      1\n",
       "112056       1\n",
       "3421079      1\n",
       "Name: product_id, Length: 450046, dtype: int64"
      ]
     },
     "execution_count": 49,
     "metadata": {},
     "output_type": "execute_result"
    }
   ],
   "source": [
    "order_products.groupby('order_id')['product_id'].count().sort_values(ascending = False)"
   ]
  },
  {
   "cell_type": "code",
   "execution_count": 50,
   "id": "15fae09e",
   "metadata": {},
   "outputs": [
    {
     "data": {
      "text/plain": [
       "[9310,\n",
       " 61355,\n",
       " 102236,\n",
       " 129627,\n",
       " 165801,\n",
       " 171934,\n",
       " 180546,\n",
       " 264710,\n",
       " 293169,\n",
       " 388234,\n",
       " 404157,\n",
       " 678116,\n",
       " 733526,\n",
       " 747668,\n",
       " 813364,\n",
       " 844733,\n",
       " 854647,\n",
       " 871281,\n",
       " 888470,\n",
       " 903110,\n",
       " 936852,\n",
       " 1021563,\n",
       " 1038146,\n",
       " 1169835,\n",
       " 1183255,\n",
       " 1220886,\n",
       " 1302315,\n",
       " 1308785,\n",
       " 1386261,\n",
       " 1477139,\n",
       " 1529171,\n",
       " 1564093,\n",
       " 1598369,\n",
       " 1625713,\n",
       " 1633337,\n",
       " 1648217,\n",
       " 1673227,\n",
       " 1677118,\n",
       " 1713430,\n",
       " 1717990,\n",
       " 1730767,\n",
       " 1800005,\n",
       " 1832957,\n",
       " 1888628,\n",
       " 1916118,\n",
       " 1959075,\n",
       " 1961723,\n",
       " 1968313,\n",
       " 2094761,\n",
       " 2136777,\n",
       " 2170451,\n",
       " 2256933,\n",
       " 2409109,\n",
       " 2449164,\n",
       " 2470674,\n",
       " 2479011,\n",
       " 2621907,\n",
       " 2625444,\n",
       " 2652650,\n",
       " 2721963,\n",
       " 2729254,\n",
       " 2849370,\n",
       " 2926893,\n",
       " 2979697,\n",
       " 2997021,\n",
       " 2999801,\n",
       " 3125735,\n",
       " 3308010,\n",
       " 3347453,\n",
       " 3383594]"
      ]
     },
     "execution_count": 50,
     "metadata": {},
     "output_type": "execute_result"
    }
   ],
   "source": [
    "orders_ids_faltantes = order_products[order_products['add_to_cart_order'].isna()]['order_id'].unique()\n",
    "orders_ids_faltantes = sorted(list(orders_ids_faltantes))\n",
    "orders_ids_faltantes"
   ]
  },
  {
   "cell_type": "code",
   "execution_count": 51,
   "id": "df6e321e",
   "metadata": {},
   "outputs": [
    {
     "data": {
      "text/plain": [
       "order_id\n",
       "61355      127\n",
       "3308010    115\n",
       "2136777    108\n",
       "171934     104\n",
       "1959075     98\n",
       "          ... \n",
       "888470      65\n",
       "1598369     65\n",
       "747668      65\n",
       "1677118     65\n",
       "9310        65\n",
       "Name: product_id, Length: 70, dtype: int64"
      ]
     },
     "execution_count": 51,
     "metadata": {},
     "output_type": "execute_result"
    }
   ],
   "source": [
    "order_products[order_products['order_id'].isin(orders_ids_faltantes)].groupby('order_id')['product_id'].count().sort_values(ascending = False)"
   ]
  },
  {
   "cell_type": "code",
   "execution_count": 52,
   "id": "038989bb",
   "metadata": {},
   "outputs": [
    {
     "name": "stdout",
     "output_type": "stream",
     "text": [
      "Las órdenes mayores a 64 productos solo representan el: 0.02% del total\n"
     ]
    }
   ],
   "source": [
    "ordenes_mayores_pct= round(len(order_products[order_products['order_id'].isin(orders_ids_faltantes)].groupby('order_id')['product_id'].count().sort_values(ascending = False))*100/len(order_products['order_id'].unique()),2)\n",
    "print('Las órdenes mayores a 64 productos solo representan el: {}% del total'.format(ordenes_mayores_pct))"
   ]
  },
  {
   "cell_type": "markdown",
   "id": "c44e0446",
   "metadata": {},
   "source": [
    "<div class=\"alert alert-block alert-info\">\n",
    "<b>Como se muestra anteriormente, las órdenes que sobrepasan los 64 productos solo representan el 0.02% del total, lo cual no afecta el análisis de manera significativa.</b> <a class=\"tocSkip\"></a>\n",
    "</div>"
   ]
  },
  {
   "cell_type": "markdown",
   "id": "p9V6pddtjglj",
   "metadata": {
    "id": "p9V6pddtjglj"
   },
   "source": [
    "Describe brevemente cuáles son tus hallazgos.\n",
    "Existen muy pocos 'order_id' en los que se realizaron compras de más de 64 productos, los que superan esa cantidad comienza a colocarlos como datos nulos."
   ]
  },
  {
   "cell_type": "code",
   "execution_count": 53,
   "id": "7a987d08",
   "metadata": {
    "id": "7a987d08"
   },
   "outputs": [
    {
     "data": {
      "text/plain": [
       "order_id             0\n",
       "product_id           0\n",
       "add_to_cart_order    0\n",
       "reordered            0\n",
       "dtype: int64"
      ]
     },
     "execution_count": 53,
     "metadata": {},
     "output_type": "execute_result"
    }
   ],
   "source": [
    "# Remplaza los valores ausentes en la columna 'add_to_cart? con 999 y convierte la columna al tipo entero\n",
    "order_products['add_to_cart_order'] = order_products['add_to_cart_order'].fillna(999).astype('int')\n",
    "order_products.isna().sum()"
   ]
  },
  {
   "cell_type": "markdown",
   "id": "fea4bcc7",
   "metadata": {
    "id": "fea4bcc7"
   },
   "source": [
    "Describe brevemente tus hallazgos y lo que hiciste con ellos.\n",
    "\n",
    "El máximo valor era 127, pero al estar muy lejos del resto de los datos, donde el máximo aparece de 64, comienza a colocar los datos como ausentes para los que superan esa cantidad, sin embargo no lo están realmente, por eso, siguiendo los lineamientos de este proyecto se procedió a rellenar esos valores con el 999 y además se pasaron los datos a enteros por que se encontraban en flotante.\n"
   ]
  },
  {
   "cell_type": "markdown",
   "id": "e18607d1",
   "metadata": {},
   "source": [
    "<div class=\"alert alert-block alert-warning\">\n",
    "<b>Comentario revisor</b> <a class=\"tocSkip\"></a>\n",
    "\n",
    "\n",
    "Muy buena conclusión de esta base. Pero qué podríamos decir de los pedidos que tienen más de 64 productos?\n",
    "</div>"
   ]
  },
  {
   "cell_type": "markdown",
   "id": "RnplPFY1gSrb",
   "metadata": {
    "id": "RnplPFY1gSrb"
   },
   "source": [
    "## Conclusiones\n",
    "\n",
    "Escribe aquí tus conclusiones intermedias sobre el Paso 2. Preprocesamiento de los datos\n",
    "\n",
    "Al realizar la búsqueda de valores ausentes, pudimos percatarnos de ciertas cosas que de no haberlas hecho hubiera complicado nuestro análisis de datos. Ahora la información se encuentra limpia y lista para un análisis más complejo.\n"
   ]
  },
  {
   "cell_type": "markdown",
   "id": "UjrOIwTcz3ri",
   "metadata": {
    "id": "UjrOIwTcz3ri"
   },
   "source": [
    "# Paso 3. Análisis de los datos\n",
    "\n",
    "Una vez los datos estén procesados y listos, haz el siguiente análisis:"
   ]
  },
  {
   "cell_type": "markdown",
   "id": "turkish-kidney",
   "metadata": {
    "id": "turkish-kidney"
   },
   "source": [
    "# [A] Fácil (deben completarse todos para aprobar)\n",
    "\n",
    "1. Verifica que los valores en las columnas `'order_hour_of_day'` y `'order_dow'` en la tabla orders sean razonables (es decir, `'order_hour_of_day'` oscile entre 0 y 23 y `'order_dow'` oscile entre 0 y 6).\n",
    "2. Crea un gráfico que muestre el número de personas que hacen pedidos dependiendo de la hora del día.\n",
    "3. Crea un gráfico que muestre qué día de la semana la gente hace sus compras.\n",
    "4. Crea un gráfico que muestre el tiempo que la gente espera hasta hacer su siguiente pedido, y comenta sobre los valores mínimos y máximos.\n"
   ]
  },
  {
   "cell_type": "markdown",
   "id": "short-capability",
   "metadata": {
    "id": "short-capability"
   },
   "source": [
    "### [A1] Verifica que los valores sean sensibles"
   ]
  },
  {
   "cell_type": "code",
   "execution_count": 54,
   "id": "growing-fruit",
   "metadata": {
    "id": "growing-fruit"
   },
   "outputs": [
    {
     "data": {
      "text/plain": [
       "0      3180\n",
       "1      1763\n",
       "2       989\n",
       "3       770\n",
       "4       765\n",
       "5      1371\n",
       "6      4215\n",
       "7     13043\n",
       "8     25024\n",
       "9     35896\n",
       "10    40578\n",
       "11    40032\n",
       "12    38034\n",
       "13    39007\n",
       "14    39631\n",
       "15    39789\n",
       "16    38112\n",
       "17    31930\n",
       "18    25510\n",
       "19    19547\n",
       "20    14624\n",
       "21    11019\n",
       "22     8512\n",
       "23     5611\n",
       "Name: order_hour_of_day, dtype: int64"
      ]
     },
     "execution_count": 54,
     "metadata": {},
     "output_type": "execute_result"
    }
   ],
   "source": [
    "#Análisis de compras que se realizan por hora\n",
    "\n",
    "compras_hora_del_dia = instacart_orders['order_hour_of_day'].value_counts().sort_index()\n",
    "compras_hora_del_dia"
   ]
  },
  {
   "cell_type": "code",
   "execution_count": 96,
   "id": "184400f2",
   "metadata": {},
   "outputs": [
    {
     "data": {
      "text/plain": [
       "<AxesSubplot:title={'center':'Ordenes por hora del día'}, xlabel='Hora del día', ylabel='Número de órdenes'>"
      ]
     },
     "execution_count": 96,
     "metadata": {},
     "output_type": "execute_result"
    },
    {
     "data": {
      "image/png": "[encoded data removed]",
      "text/plain": [
       "<Figure size 640x480 with 1 Axes>"
      ]
     },
     "metadata": {},
     "output_type": "display_data"
    }
   ],
   "source": [
    "#Gráfica que mostrará la información de compras por hora \n",
    "\n",
    "compras_hora_del_dia.plot(\n",
    "    kind= 'bar',\n",
    "    color= 'orange',\n",
    "    title= 'Ordenes por hora del día',\n",
    "    xlabel= 'Hora del día',\n",
    "    ylabel= 'Número de órdenes'\n",
    ")\n"
   ]
  },
  {
   "cell_type": "code",
   "execution_count": 56,
   "id": "accessory-malaysia",
   "metadata": {
    "id": "accessory-malaysia"
   },
   "outputs": [
    {
     "data": {
      "text/plain": [
       "0    84090\n",
       "1    82185\n",
       "2    65833\n",
       "3    60897\n",
       "4    59810\n",
       "5    63488\n",
       "6    62649\n",
       "Name: order_dow, dtype: int64"
      ]
     },
     "execution_count": 56,
     "metadata": {},
     "output_type": "execute_result"
    }
   ],
   "source": [
    "#Procedemos a analizar las compras que se realizan por día de la semana\n",
    "\n",
    "compras_por_dia = instacart_orders['order_dow'].value_counts().sort_index()\n",
    "compras_por_dia"
   ]
  },
  {
   "cell_type": "code",
   "execution_count": 57,
   "id": "9e9864d9",
   "metadata": {},
   "outputs": [
    {
     "data": {
      "text/plain": [
       "<AxesSubplot:title={'center':'Ordenes por día'}, xlabel='Día de la semana', ylabel='Número de órdenes'>"
      ]
     },
     "execution_count": 57,
     "metadata": {},
     "output_type": "execute_result"
    },
    {
     "data": {
      "image/png": "[encoded data removed]",
      "text/plain": [
       "<Figure size 640x480 with 1 Axes>"
      ]
     },
     "metadata": {},
     "output_type": "display_data"
    }
   ],
   "source": [
    "#Gráfica que mostrará la información de compras por día\n",
    "\n",
    "compras_por_dia.plot(\n",
    "    kind= 'bar',\n",
    "    color= 'orange',\n",
    "    title= 'Ordenes por día',\n",
    "    xlabel= 'Día de la semana',\n",
    "    ylabel= 'Número de órdenes'\n",
    ")"
   ]
  },
  {
   "cell_type": "markdown",
   "id": "hmR2GNQ6lCsX",
   "metadata": {
    "id": "hmR2GNQ6lCsX"
   },
   "source": [
    "Escribe aquí tus conclusiones.\n",
    "\n",
    "Al realizar en análisis de las compras por día de la semana y por hora del día pudimos percatarnos de que el día domingo es el día en que más compras se realizan y que las hora pico son entre las 10 am y 3 pm.\n",
    "Las gráficas ayudan a comprender mejor una mayor cantidad de información."
   ]
  },
  {
   "cell_type": "markdown",
   "id": "a6743a70",
   "metadata": {
    "id": "a6743a70"
   },
   "source": [
    "### [A2] Para cada hora del día, ¿cuántas personas hacen órdenes?"
   ]
  },
  {
   "cell_type": "code",
   "execution_count": 58,
   "id": "a36cca27",
   "metadata": {
    "id": "a36cca27"
   },
   "outputs": [
    {
     "data": {
      "text/plain": [
       "0      3180\n",
       "1      1763\n",
       "2       989\n",
       "3       770\n",
       "4       765\n",
       "5      1371\n",
       "6      4215\n",
       "7     13043\n",
       "8     25024\n",
       "9     35896\n",
       "10    40578\n",
       "11    40032\n",
       "12    38034\n",
       "13    39007\n",
       "14    39631\n",
       "15    39789\n",
       "16    38112\n",
       "17    31930\n",
       "18    25510\n",
       "19    19547\n",
       "20    14624\n",
       "21    11019\n",
       "22     8512\n",
       "23     5611\n",
       "Name: order_hour_of_day, dtype: int64"
      ]
     },
     "execution_count": 58,
     "metadata": {},
     "output_type": "execute_result"
    }
   ],
   "source": [
    "compras_hora_del_dia"
   ]
  },
  {
   "cell_type": "code",
   "execution_count": 97,
   "id": "1c24d37b",
   "metadata": {},
   "outputs": [
    {
     "data": {
      "text/plain": [
       "<AxesSubplot:title={'center':'Ordenes por hora del día'}, xlabel='Hora del día', ylabel='Número de órdenes'>"
      ]
     },
     "execution_count": 97,
     "metadata": {},
     "output_type": "execute_result"
    },
    {
     "data": {
      "image/png": "[encoded data removed]",
      "text/plain": [
       "<Figure size 640x480 with 1 Axes>"
      ]
     },
     "metadata": {},
     "output_type": "display_data"
    }
   ],
   "source": [
    "compras_hora_del_dia.plot(\n",
    "    kind= 'bar',\n",
    "    color= 'blue',\n",
    "    title= 'Ordenes por hora del día',\n",
    "    xlabel= 'Hora del día',\n",
    "    ylabel= 'Número de órdenes'\n",
    ")\n"
   ]
  },
  {
   "cell_type": "markdown",
   "id": "d6579bec",
   "metadata": {},
   "source": [
    "<div class=\"alert alert-block alert-info\">\n",
    "<b>En la gráfica anterior se muestran cuantas personas hacen órdenes por cada hora del día.</b> <a class=\"tocSkip\"></a>\n",
    "</div>"
   ]
  },
  {
   "cell_type": "markdown",
   "id": "11270eed",
   "metadata": {
    "id": "11270eed"
   },
   "source": [
    "Escribe aquí tus conclusiones\n",
    "\n",
    "Entre las 10 y 11 am es cuando más personas realizan órdenes. \n",
    "\n",
    "En el horario laboral es cuando más personas realizan órdenes."
   ]
  },
  {
   "cell_type": "markdown",
   "id": "f81e017b",
   "metadata": {},
   "source": [
    "<div class=\"alert alert-block alert-warning\">\n",
    "<b>Comentario Revisor</b> <a class=\"tocSkip\"></a>\n",
    "\n",
    "Si bien en los datos que muestras se puede ver un poco la distribución de los datos. Te recomiendo hacer uso de una gráfica de barras para ver de forma más claro estos resultados. \n",
    "</div>"
   ]
  },
  {
   "cell_type": "markdown",
   "id": "documented-command",
   "metadata": {
    "id": "documented-command"
   },
   "source": [
    "### [A3] ¿Qué día de la semana compran víveres las personas?"
   ]
  },
  {
   "cell_type": "code",
   "execution_count": 59,
   "id": "c71e581d",
   "metadata": {},
   "outputs": [
    {
     "data": {
      "text/html": [
       "<div>\n",
       "<style scoped>\n",
       "    .dataframe tbody tr th:only-of-type {\n",
       "        vertical-align: middle;\n",
       "    }\n",
       "\n",
       "    .dataframe tbody tr th {\n",
       "        vertical-align: top;\n",
       "    }\n",
       "\n",
       "    .dataframe thead th {\n",
       "        text-align: right;\n",
       "    }\n",
       "</style>\n",
       "<table border=\"1\" class=\"dataframe\">\n",
       "  <thead>\n",
       "    <tr style=\"text-align: right;\">\n",
       "      <th></th>\n",
       "      <th>order_id</th>\n",
       "    </tr>\n",
       "  </thead>\n",
       "  <tbody>\n",
       "    <tr>\n",
       "      <th>0</th>\n",
       "      <td>2456893</td>\n",
       "    </tr>\n",
       "    <tr>\n",
       "      <th>1</th>\n",
       "      <td>644579</td>\n",
       "    </tr>\n",
       "    <tr>\n",
       "      <th>2</th>\n",
       "      <td>2397389</td>\n",
       "    </tr>\n",
       "    <tr>\n",
       "      <th>3</th>\n",
       "      <td>2500729</td>\n",
       "    </tr>\n",
       "    <tr>\n",
       "      <th>4</th>\n",
       "      <td>2905625</td>\n",
       "    </tr>\n",
       "  </tbody>\n",
       "</table>\n",
       "</div>"
      ],
      "text/plain": [
       "   order_id\n",
       "0   2456893\n",
       "1    644579\n",
       "2   2397389\n",
       "3   2500729\n",
       "4   2905625"
      ]
     },
     "execution_count": 59,
     "metadata": {},
     "output_type": "execute_result"
    }
   ],
   "source": [
    "viveres = order_products.merge(products, on='product_id',how='left')\n",
    "viveres = viveres[viveres['department_id']==4]\n",
    "viveres = pd.DataFrame(viveres['order_id'].unique(), columns = ['order_id'])\n",
    "viveres.head()"
   ]
  },
  {
   "cell_type": "code",
   "execution_count": 60,
   "id": "08f204c2",
   "metadata": {},
   "outputs": [],
   "source": [
    "viveres = viveres.merge(instacart_orders, on = 'order_id', how = 'left')"
   ]
  },
  {
   "cell_type": "code",
   "execution_count": 61,
   "id": "b6621996",
   "metadata": {},
   "outputs": [
    {
     "data": {
      "text/plain": [
       "0    63326\n",
       "1    59246\n",
       "2    45070\n",
       "3    41031\n",
       "4    40107\n",
       "5    43502\n",
       "6    45461\n",
       "Name: order_dow, dtype: int64"
      ]
     },
     "execution_count": 61,
     "metadata": {},
     "output_type": "execute_result"
    }
   ],
   "source": [
    "viveres['order_dow'].value_counts().sort_index()"
   ]
  },
  {
   "cell_type": "markdown",
   "id": "dominant-lightning",
   "metadata": {
    "id": "dominant-lightning"
   },
   "source": [
    "Escribe aquí tus conclusiones\n",
    "\n",
    "La pregunta es un poco ambigua, por que todos los días se compran víveres, además que no vienen especificados en un solo departamento y los nombres de los víveres puede variar según cada país. Por eso se procedió a analizar sólo el pasillo 4 que es dónde aparentemente se encuentran la mayoría de ellos. Al realizar ese análisis se concluyó con que los días domingo es cuando se compran mayormente, tiene sentido por que se preparan para comenzar la semana laboral."
   ]
  },
  {
   "cell_type": "markdown",
   "id": "cutting-concert",
   "metadata": {
    "id": "cutting-concert"
   },
   "source": [
    "### [A4] ¿Cuánto tiempo esperan las personas hasta hacer otro pedido? Comenta sobre los valores mínimos y máximos."
   ]
  },
  {
   "cell_type": "code",
   "execution_count": 62,
   "id": "c231f523",
   "metadata": {
    "id": "c231f523"
   },
   "outputs": [
    {
     "data": {
      "text/plain": [
       "0.0"
      ]
     },
     "execution_count": 62,
     "metadata": {},
     "output_type": "execute_result"
    }
   ],
   "source": [
    "min_dias = instacart_orders['days_since_prior_order'].min()\n",
    "min_dias"
   ]
  },
  {
   "cell_type": "code",
   "execution_count": 63,
   "id": "64e40fcc",
   "metadata": {},
   "outputs": [
    {
     "data": {
      "text/plain": [
       "30.0"
      ]
     },
     "execution_count": 63,
     "metadata": {},
     "output_type": "execute_result"
    }
   ],
   "source": [
    "max_dias = instacart_orders['days_since_prior_order'].max()\n",
    "max_dias"
   ]
  },
  {
   "cell_type": "markdown",
   "id": "discrete-vertex",
   "metadata": {
    "id": "discrete-vertex"
   },
   "source": [
    "Escribe aquí tus conclusiones\n",
    "\n",
    "Esta información tiene una variación muy grande, pero no es sorprendente, dado que puede variar según las necesidades de cada cliente."
   ]
  },
  {
   "cell_type": "code",
   "execution_count": 104,
   "id": "83baa8b4",
   "metadata": {},
   "outputs": [
    {
     "data": {
      "text/plain": [
       "<AxesSubplot:title={'center':'Días desde la última orden'}, xlabel='Días transcurridos', ylabel='Número de órdenes'>"
      ]
     },
     "execution_count": 104,
     "metadata": {},
     "output_type": "execute_result"
    },
    {
     "data": {
      "image/png": "[encoded data removed]",
      "text/plain": [
       "<Figure size 640x480 with 1 Axes>"
      ]
     },
     "metadata": {},
     "output_type": "display_data"
    }
   ],
   "source": [
    "instacart_orders['days_since_prior_order'].value_counts().sort_index().plot(\n",
    "    kind= 'bar',\n",
    "    color= 'pink',\n",
    "    title= 'Días desde la última orden',\n",
    "    xlabel= 'Días transcurridos',\n",
    "    ylabel= 'Número de órdenes'\n",
    ")\n"
   ]
  },
  {
   "cell_type": "markdown",
   "id": "e3317f18",
   "metadata": {},
   "source": [
    "<div class=\"alert alert-block alert-info\">\n",
    "<b>En la gráfica anterior se muestran los días transcurridos desde la última orden.</b> <a class=\"tocSkip\"></a>\n",
    "</div>"
   ]
  },
  {
   "cell_type": "markdown",
   "id": "0eb39257",
   "metadata": {},
   "source": [
    "<div class=\"alert alert-block alert-danger\">\n",
    "<b>Comentario Revisor</b> <a class=\"tocSkip\"></a>\n",
    "\n",
    "En este caso la variable que nos interesa graficar es 'days_since_prior_order'.\n",
    "</div>"
   ]
  },
  {
   "cell_type": "markdown",
   "id": "tight-staff",
   "metadata": {
    "id": "tight-staff"
   },
   "source": [
    "# [B] Intermedio (deben completarse todos para aprobar)\n",
    "\n",
    "1. ¿Existe alguna diferencia entre las distribuciones `'order_hour_of_day'` de los miércoles y los sábados? Traza gráficos de barra de `'order_hour_of_day'` para ambos días en la misma figura y describe las diferencias que observes.\n",
    "2. Grafica la distribución para el número de órdenes que hacen los clientes (es decir, cuántos clientes hicieron solo 1 pedido, cuántos hicieron 2, cuántos 3, y así sucesivamente...).\n",
    "3. ¿Cuáles son los 20 principales productos que se piden con más frecuencia (muestra su identificación y nombre)?"
   ]
  },
  {
   "cell_type": "markdown",
   "id": "packed-classic",
   "metadata": {
    "id": "packed-classic"
   },
   "source": [
    "### [B1] Diferencia entre miércoles y sábados para  `'order_hour_of_day'`. Traza gráficos de barra para los dos días y describe las diferencias que veas."
   ]
  },
  {
   "cell_type": "code",
   "execution_count": 64,
   "id": "d89b8403",
   "metadata": {
    "id": "d89b8403"
   },
   "outputs": [],
   "source": [
    "# Analizaremos cuántas compras se hacen por hora el miércoles\n",
    "\n",
    "filtro_miercoles = instacart_orders['order_dow']==3"
   ]
  },
  {
   "cell_type": "code",
   "execution_count": 65,
   "id": "94e54e8a",
   "metadata": {
    "id": "94e54e8a"
   },
   "outputs": [
    {
     "data": {
      "text/plain": [
       "0      373\n",
       "1      215\n",
       "2      106\n",
       "3      101\n",
       "4      108\n",
       "5      170\n",
       "6      643\n",
       "7     1732\n",
       "8     3125\n",
       "9     4490\n",
       "10    5026\n",
       "11    5004\n",
       "12    4688\n",
       "13    4674\n",
       "14    4774\n",
       "15    5163\n",
       "16    4976\n",
       "17    4175\n",
       "18    3463\n",
       "19    2652\n",
       "20    1917\n",
       "21    1450\n",
       "22    1154\n",
       "23     718\n",
       "Name: order_hour_of_day, dtype: int64"
      ]
     },
     "execution_count": 65,
     "metadata": {},
     "output_type": "execute_result"
    }
   ],
   "source": [
    "ordenes_miercoles = instacart_orders[filtro_miercoles]['order_hour_of_day'].value_counts().sort_index()\n",
    "ordenes_miercoles"
   ]
  },
  {
   "cell_type": "code",
   "execution_count": 66,
   "id": "797c90a8",
   "metadata": {
    "id": "797c90a8"
   },
   "outputs": [],
   "source": [
    "# Analizaremos cuántas compras se hacen por hora el sábado\n",
    "\n",
    "filtro_sabado = instacart_orders['order_dow']==6"
   ]
  },
  {
   "cell_type": "code",
   "execution_count": 67,
   "id": "35bcea30",
   "metadata": {
    "id": "35bcea30"
   },
   "outputs": [
    {
     "data": {
      "text/plain": [
       "0      464\n",
       "1      254\n",
       "2      177\n",
       "3      125\n",
       "4      118\n",
       "5      161\n",
       "6      451\n",
       "7     1619\n",
       "8     3246\n",
       "9     4311\n",
       "10    4919\n",
       "11    5116\n",
       "12    5132\n",
       "13    5323\n",
       "14    5375\n",
       "15    5188\n",
       "16    5029\n",
       "17    4295\n",
       "18    3338\n",
       "19    2610\n",
       "20    1847\n",
       "21    1473\n",
       "22    1185\n",
       "23     893\n",
       "Name: order_hour_of_day, dtype: int64"
      ]
     },
     "execution_count": 67,
     "metadata": {},
     "output_type": "execute_result"
    }
   ],
   "source": [
    "ordenes_sabado = instacart_orders[filtro_sabado]['order_hour_of_day'].value_counts().sort_index()\n",
    "ordenes_sabado"
   ]
  },
  {
   "cell_type": "code",
   "execution_count": 68,
   "id": "36bf94f9",
   "metadata": {},
   "outputs": [
    {
     "data": {
      "text/html": [
       "<div>\n",
       "<style scoped>\n",
       "    .dataframe tbody tr th:only-of-type {\n",
       "        vertical-align: middle;\n",
       "    }\n",
       "\n",
       "    .dataframe tbody tr th {\n",
       "        vertical-align: top;\n",
       "    }\n",
       "\n",
       "    .dataframe thead th {\n",
       "        text-align: right;\n",
       "    }\n",
       "</style>\n",
       "<table border=\"1\" class=\"dataframe\">\n",
       "  <thead>\n",
       "    <tr style=\"text-align: right;\">\n",
       "      <th></th>\n",
       "      <th>Miércoles</th>\n",
       "      <th>Sábado</th>\n",
       "    </tr>\n",
       "  </thead>\n",
       "  <tbody>\n",
       "    <tr>\n",
       "      <th>0</th>\n",
       "      <td>373</td>\n",
       "      <td>464</td>\n",
       "    </tr>\n",
       "    <tr>\n",
       "      <th>1</th>\n",
       "      <td>215</td>\n",
       "      <td>254</td>\n",
       "    </tr>\n",
       "    <tr>\n",
       "      <th>2</th>\n",
       "      <td>106</td>\n",
       "      <td>177</td>\n",
       "    </tr>\n",
       "    <tr>\n",
       "      <th>3</th>\n",
       "      <td>101</td>\n",
       "      <td>125</td>\n",
       "    </tr>\n",
       "    <tr>\n",
       "      <th>4</th>\n",
       "      <td>108</td>\n",
       "      <td>118</td>\n",
       "    </tr>\n",
       "    <tr>\n",
       "      <th>5</th>\n",
       "      <td>170</td>\n",
       "      <td>161</td>\n",
       "    </tr>\n",
       "    <tr>\n",
       "      <th>6</th>\n",
       "      <td>643</td>\n",
       "      <td>451</td>\n",
       "    </tr>\n",
       "    <tr>\n",
       "      <th>7</th>\n",
       "      <td>1732</td>\n",
       "      <td>1619</td>\n",
       "    </tr>\n",
       "    <tr>\n",
       "      <th>8</th>\n",
       "      <td>3125</td>\n",
       "      <td>3246</td>\n",
       "    </tr>\n",
       "    <tr>\n",
       "      <th>9</th>\n",
       "      <td>4490</td>\n",
       "      <td>4311</td>\n",
       "    </tr>\n",
       "    <tr>\n",
       "      <th>10</th>\n",
       "      <td>5026</td>\n",
       "      <td>4919</td>\n",
       "    </tr>\n",
       "    <tr>\n",
       "      <th>11</th>\n",
       "      <td>5004</td>\n",
       "      <td>5116</td>\n",
       "    </tr>\n",
       "    <tr>\n",
       "      <th>12</th>\n",
       "      <td>4688</td>\n",
       "      <td>5132</td>\n",
       "    </tr>\n",
       "    <tr>\n",
       "      <th>13</th>\n",
       "      <td>4674</td>\n",
       "      <td>5323</td>\n",
       "    </tr>\n",
       "    <tr>\n",
       "      <th>14</th>\n",
       "      <td>4774</td>\n",
       "      <td>5375</td>\n",
       "    </tr>\n",
       "    <tr>\n",
       "      <th>15</th>\n",
       "      <td>5163</td>\n",
       "      <td>5188</td>\n",
       "    </tr>\n",
       "    <tr>\n",
       "      <th>16</th>\n",
       "      <td>4976</td>\n",
       "      <td>5029</td>\n",
       "    </tr>\n",
       "    <tr>\n",
       "      <th>17</th>\n",
       "      <td>4175</td>\n",
       "      <td>4295</td>\n",
       "    </tr>\n",
       "    <tr>\n",
       "      <th>18</th>\n",
       "      <td>3463</td>\n",
       "      <td>3338</td>\n",
       "    </tr>\n",
       "    <tr>\n",
       "      <th>19</th>\n",
       "      <td>2652</td>\n",
       "      <td>2610</td>\n",
       "    </tr>\n",
       "    <tr>\n",
       "      <th>20</th>\n",
       "      <td>1917</td>\n",
       "      <td>1847</td>\n",
       "    </tr>\n",
       "    <tr>\n",
       "      <th>21</th>\n",
       "      <td>1450</td>\n",
       "      <td>1473</td>\n",
       "    </tr>\n",
       "    <tr>\n",
       "      <th>22</th>\n",
       "      <td>1154</td>\n",
       "      <td>1185</td>\n",
       "    </tr>\n",
       "    <tr>\n",
       "      <th>23</th>\n",
       "      <td>718</td>\n",
       "      <td>893</td>\n",
       "    </tr>\n",
       "  </tbody>\n",
       "</table>\n",
       "</div>"
      ],
      "text/plain": [
       "    Miércoles  Sábado\n",
       "0         373     464\n",
       "1         215     254\n",
       "2         106     177\n",
       "3         101     125\n",
       "4         108     118\n",
       "5         170     161\n",
       "6         643     451\n",
       "7        1732    1619\n",
       "8        3125    3246\n",
       "9        4490    4311\n",
       "10       5026    4919\n",
       "11       5004    5116\n",
       "12       4688    5132\n",
       "13       4674    5323\n",
       "14       4774    5375\n",
       "15       5163    5188\n",
       "16       4976    5029\n",
       "17       4175    4295\n",
       "18       3463    3338\n",
       "19       2652    2610\n",
       "20       1917    1847\n",
       "21       1450    1473\n",
       "22       1154    1185\n",
       "23        718     893"
      ]
     },
     "execution_count": 68,
     "metadata": {},
     "output_type": "execute_result"
    }
   ],
   "source": [
    "compras_miercoles_y_sabado = pd.concat([ordenes_miercoles, ordenes_sabado], axis=1)\n",
    "compras_miercoles_y_sabado.columns = ['Miércoles', 'Sábado']\n",
    "compras_miercoles_y_sabado"
   ]
  },
  {
   "cell_type": "code",
   "execution_count": 69,
   "id": "e8f415fc",
   "metadata": {},
   "outputs": [
    {
     "data": {
      "text/plain": [
       "<AxesSubplot:title={'center':'Compración de compras entre los días miércoles y sábado'}, xlabel='Hora del día', ylabel='Número de órdenes'>"
      ]
     },
     "execution_count": 69,
     "metadata": {},
     "output_type": "execute_result"
    },
    {
     "data": {
      "image/png": "[encoded data removed]",
      "text/plain": [
       "<Figure size 640x480 with 1 Axes>"
      ]
     },
     "metadata": {},
     "output_type": "display_data"
    }
   ],
   "source": [
    "compras_miercoles_y_sabado.plot(\n",
    "    kind= 'bar',\n",
    "    title= 'Compración de compras entre los días miércoles y sábado',\n",
    "    xlabel= 'Hora del día',\n",
    "    ylabel= 'Número de órdenes'\n",
    ")"
   ]
  },
  {
   "cell_type": "markdown",
   "id": "charitable-congo",
   "metadata": {
    "id": "charitable-congo"
   },
   "source": [
    "Escribe aquí tus conclusiones\n",
    "\n",
    "Los días miércoles y sábado es cuando existe similitud en las compras, además de que tienen similitud también en las horas en las que los clientes realizan las compras, excepto en aquellas que se realizan al rededor del medio día."
   ]
  },
  {
   "cell_type": "markdown",
   "id": "e3891143",
   "metadata": {
    "id": "e3891143"
   },
   "source": [
    "### [B2] ¿Cuál es la distribución para el número de pedidos por cliente?"
   ]
  },
  {
   "cell_type": "code",
   "execution_count": 70,
   "id": "d8c26c23",
   "metadata": {
    "id": "d8c26c23"
   },
   "outputs": [
    {
     "data": {
      "text/plain": [
       "user_id\n",
       "2         2\n",
       "4         2\n",
       "5         1\n",
       "6         2\n",
       "7         2\n",
       "         ..\n",
       "206203    1\n",
       "206206    7\n",
       "206207    5\n",
       "206208    9\n",
       "206209    2\n",
       "Name: order_id, Length: 157437, dtype: int64"
      ]
     },
     "execution_count": 70,
     "metadata": {},
     "output_type": "execute_result"
    }
   ],
   "source": [
    "pedidos_por_cliente = instacart_orders.groupby('user_id')['order_id'].count()\n",
    "pedidos_por_cliente"
   ]
  },
  {
   "cell_type": "code",
   "execution_count": 71,
   "id": "00e69a66",
   "metadata": {
    "id": "00e69a66"
   },
   "outputs": [
    {
     "data": {
      "text/plain": [
       "1     55357\n",
       "2     36508\n",
       "3     21547\n",
       "4     13498\n",
       "5      8777\n",
       "6      6012\n",
       "7      4240\n",
       "8      3019\n",
       "9      2152\n",
       "10     1645\n",
       "11     1308\n",
       "12      947\n",
       "13      703\n",
       "14      512\n",
       "15      437\n",
       "16      263\n",
       "17      184\n",
       "18      121\n",
       "19       85\n",
       "20       52\n",
       "21       22\n",
       "22       23\n",
       "23       19\n",
       "24        3\n",
       "25        1\n",
       "26        1\n",
       "28        1\n",
       "Name: order_id, dtype: int64"
      ]
     },
     "execution_count": 71,
     "metadata": {},
     "output_type": "execute_result"
    }
   ],
   "source": [
    "distribucion = pedidos_por_cliente.value_counts().sort_index()\n",
    "distribucion"
   ]
  },
  {
   "cell_type": "code",
   "execution_count": 72,
   "id": "7def8167",
   "metadata": {},
   "outputs": [
    {
     "data": {
      "text/plain": [
       "<AxesSubplot:title={'center':'CANTIDAD DE PEDIDOS POR CLIENTE'}, xlabel='Número de Pedidos', ylabel='Número de Clientes'>"
      ]
     },
     "execution_count": 72,
     "metadata": {},
     "output_type": "execute_result"
    },
    {
     "data": {
      "image/png": "[encoded data removed]",
      "text/plain": [
       "<Figure size 640x480 with 1 Axes>"
      ]
     },
     "metadata": {},
     "output_type": "display_data"
    }
   ],
   "source": [
    "distribucion.plot(\n",
    "    kind= 'bar',\n",
    "    title= 'CANTIDAD DE PEDIDOS POR CLIENTE',\n",
    "    xlabel= 'Número de Pedidos',\n",
    "    ylabel= 'Número de Clientes'\n",
    ")"
   ]
  },
  {
   "cell_type": "markdown",
   "id": "d2eff7d5",
   "metadata": {
    "id": "d2eff7d5"
   },
   "source": [
    "Escribe aquí tus conclusiones.\n",
    "\n",
    "La gran mayoría de los clientes solo realizan una compra, puede que en esa ocasión decidan probar como funciona la plataforma. Las compras comienzan a bajar exponencialmente y son contados los clientes que realizan más de 20 compras."
   ]
  },
  {
   "cell_type": "markdown",
   "id": "54a0319c",
   "metadata": {
    "id": "54a0319c"
   },
   "source": [
    "### [B3] ¿Cuáles son los 20 productos más populares (muestra su ID y nombre)?"
   ]
  },
  {
   "cell_type": "code",
   "execution_count": 73,
   "id": "exterior-arizona",
   "metadata": {
    "id": "exterior-arizona",
    "scrolled": true
   },
   "outputs": [
    {
     "data": {
      "text/html": [
       "<div>\n",
       "<style scoped>\n",
       "    .dataframe tbody tr th:only-of-type {\n",
       "        vertical-align: middle;\n",
       "    }\n",
       "\n",
       "    .dataframe tbody tr th {\n",
       "        vertical-align: top;\n",
       "    }\n",
       "\n",
       "    .dataframe thead th {\n",
       "        text-align: right;\n",
       "    }\n",
       "</style>\n",
       "<table border=\"1\" class=\"dataframe\">\n",
       "  <thead>\n",
       "    <tr style=\"text-align: right;\">\n",
       "      <th></th>\n",
       "      <th>product_id</th>\n",
       "      <th>count</th>\n",
       "    </tr>\n",
       "  </thead>\n",
       "  <tbody>\n",
       "    <tr>\n",
       "      <th>0</th>\n",
       "      <td>24852</td>\n",
       "      <td>66050</td>\n",
       "    </tr>\n",
       "    <tr>\n",
       "      <th>1</th>\n",
       "      <td>13176</td>\n",
       "      <td>53297</td>\n",
       "    </tr>\n",
       "    <tr>\n",
       "      <th>2</th>\n",
       "      <td>21137</td>\n",
       "      <td>37039</td>\n",
       "    </tr>\n",
       "    <tr>\n",
       "      <th>3</th>\n",
       "      <td>21903</td>\n",
       "      <td>33971</td>\n",
       "    </tr>\n",
       "    <tr>\n",
       "      <th>4</th>\n",
       "      <td>47209</td>\n",
       "      <td>29773</td>\n",
       "    </tr>\n",
       "    <tr>\n",
       "      <th>...</th>\n",
       "      <td>...</td>\n",
       "      <td>...</td>\n",
       "    </tr>\n",
       "    <tr>\n",
       "      <th>45568</th>\n",
       "      <td>10543</td>\n",
       "      <td>1</td>\n",
       "    </tr>\n",
       "    <tr>\n",
       "      <th>45569</th>\n",
       "      <td>5222</td>\n",
       "      <td>1</td>\n",
       "    </tr>\n",
       "    <tr>\n",
       "      <th>45570</th>\n",
       "      <td>2347</td>\n",
       "      <td>1</td>\n",
       "    </tr>\n",
       "    <tr>\n",
       "      <th>45571</th>\n",
       "      <td>11893</td>\n",
       "      <td>1</td>\n",
       "    </tr>\n",
       "    <tr>\n",
       "      <th>45572</th>\n",
       "      <td>32074</td>\n",
       "      <td>1</td>\n",
       "    </tr>\n",
       "  </tbody>\n",
       "</table>\n",
       "<p>45573 rows × 2 columns</p>\n",
       "</div>"
      ],
      "text/plain": [
       "       product_id  count\n",
       "0           24852  66050\n",
       "1           13176  53297\n",
       "2           21137  37039\n",
       "3           21903  33971\n",
       "4           47209  29773\n",
       "...           ...    ...\n",
       "45568       10543      1\n",
       "45569        5222      1\n",
       "45570        2347      1\n",
       "45571       11893      1\n",
       "45572       32074      1\n",
       "\n",
       "[45573 rows x 2 columns]"
      ]
     },
     "execution_count": 73,
     "metadata": {},
     "output_type": "execute_result"
    }
   ],
   "source": [
    "cantidad_productos = order_products['product_id'].value_counts().reset_index()\n",
    "cantidad_productos.columns = ['product_id', 'count']\n",
    "cantidad_productos"
   ]
  },
  {
   "cell_type": "code",
   "execution_count": 74,
   "id": "universal-facial",
   "metadata": {
    "id": "universal-facial"
   },
   "outputs": [
    {
     "data": {
      "text/html": [
       "<div>\n",
       "<style scoped>\n",
       "    .dataframe tbody tr th:only-of-type {\n",
       "        vertical-align: middle;\n",
       "    }\n",
       "\n",
       "    .dataframe tbody tr th {\n",
       "        vertical-align: top;\n",
       "    }\n",
       "\n",
       "    .dataframe thead th {\n",
       "        text-align: right;\n",
       "    }\n",
       "</style>\n",
       "<table border=\"1\" class=\"dataframe\">\n",
       "  <thead>\n",
       "    <tr style=\"text-align: right;\">\n",
       "      <th></th>\n",
       "      <th>product_id</th>\n",
       "      <th>count</th>\n",
       "    </tr>\n",
       "  </thead>\n",
       "  <tbody>\n",
       "    <tr>\n",
       "      <th>0</th>\n",
       "      <td>24852</td>\n",
       "      <td>66050</td>\n",
       "    </tr>\n",
       "    <tr>\n",
       "      <th>1</th>\n",
       "      <td>13176</td>\n",
       "      <td>53297</td>\n",
       "    </tr>\n",
       "    <tr>\n",
       "      <th>2</th>\n",
       "      <td>21137</td>\n",
       "      <td>37039</td>\n",
       "    </tr>\n",
       "    <tr>\n",
       "      <th>3</th>\n",
       "      <td>21903</td>\n",
       "      <td>33971</td>\n",
       "    </tr>\n",
       "    <tr>\n",
       "      <th>4</th>\n",
       "      <td>47209</td>\n",
       "      <td>29773</td>\n",
       "    </tr>\n",
       "    <tr>\n",
       "      <th>5</th>\n",
       "      <td>47766</td>\n",
       "      <td>24689</td>\n",
       "    </tr>\n",
       "    <tr>\n",
       "      <th>6</th>\n",
       "      <td>47626</td>\n",
       "      <td>21495</td>\n",
       "    </tr>\n",
       "    <tr>\n",
       "      <th>7</th>\n",
       "      <td>16797</td>\n",
       "      <td>20018</td>\n",
       "    </tr>\n",
       "    <tr>\n",
       "      <th>8</th>\n",
       "      <td>26209</td>\n",
       "      <td>19690</td>\n",
       "    </tr>\n",
       "    <tr>\n",
       "      <th>9</th>\n",
       "      <td>27845</td>\n",
       "      <td>19600</td>\n",
       "    </tr>\n",
       "    <tr>\n",
       "      <th>10</th>\n",
       "      <td>27966</td>\n",
       "      <td>19197</td>\n",
       "    </tr>\n",
       "    <tr>\n",
       "      <th>11</th>\n",
       "      <td>22935</td>\n",
       "      <td>15898</td>\n",
       "    </tr>\n",
       "    <tr>\n",
       "      <th>12</th>\n",
       "      <td>24964</td>\n",
       "      <td>15292</td>\n",
       "    </tr>\n",
       "    <tr>\n",
       "      <th>13</th>\n",
       "      <td>45007</td>\n",
       "      <td>14584</td>\n",
       "    </tr>\n",
       "    <tr>\n",
       "      <th>14</th>\n",
       "      <td>39275</td>\n",
       "      <td>13879</td>\n",
       "    </tr>\n",
       "    <tr>\n",
       "      <th>15</th>\n",
       "      <td>49683</td>\n",
       "      <td>13675</td>\n",
       "    </tr>\n",
       "    <tr>\n",
       "      <th>16</th>\n",
       "      <td>28204</td>\n",
       "      <td>12544</td>\n",
       "    </tr>\n",
       "    <tr>\n",
       "      <th>17</th>\n",
       "      <td>5876</td>\n",
       "      <td>12232</td>\n",
       "    </tr>\n",
       "    <tr>\n",
       "      <th>18</th>\n",
       "      <td>8277</td>\n",
       "      <td>11993</td>\n",
       "    </tr>\n",
       "    <tr>\n",
       "      <th>19</th>\n",
       "      <td>40706</td>\n",
       "      <td>11781</td>\n",
       "    </tr>\n",
       "  </tbody>\n",
       "</table>\n",
       "</div>"
      ],
      "text/plain": [
       "    product_id  count\n",
       "0        24852  66050\n",
       "1        13176  53297\n",
       "2        21137  37039\n",
       "3        21903  33971\n",
       "4        47209  29773\n",
       "5        47766  24689\n",
       "6        47626  21495\n",
       "7        16797  20018\n",
       "8        26209  19690\n",
       "9        27845  19600\n",
       "10       27966  19197\n",
       "11       22935  15898\n",
       "12       24964  15292\n",
       "13       45007  14584\n",
       "14       39275  13879\n",
       "15       49683  13675\n",
       "16       28204  12544\n",
       "17        5876  12232\n",
       "18        8277  11993\n",
       "19       40706  11781"
      ]
     },
     "execution_count": 74,
     "metadata": {},
     "output_type": "execute_result"
    }
   ],
   "source": [
    "top_20_productos = cantidad_productos.head(20)\n",
    "top_20_productos"
   ]
  },
  {
   "cell_type": "code",
   "execution_count": 75,
   "id": "bbcdd20b",
   "metadata": {
    "id": "bbcdd20b"
   },
   "outputs": [
    {
     "data": {
      "text/html": [
       "<div>\n",
       "<style scoped>\n",
       "    .dataframe tbody tr th:only-of-type {\n",
       "        vertical-align: middle;\n",
       "    }\n",
       "\n",
       "    .dataframe tbody tr th {\n",
       "        vertical-align: top;\n",
       "    }\n",
       "\n",
       "    .dataframe thead th {\n",
       "        text-align: right;\n",
       "    }\n",
       "</style>\n",
       "<table border=\"1\" class=\"dataframe\">\n",
       "  <thead>\n",
       "    <tr style=\"text-align: right;\">\n",
       "      <th></th>\n",
       "      <th>product_id</th>\n",
       "      <th>count</th>\n",
       "      <th>product_name</th>\n",
       "      <th>aisle_id</th>\n",
       "      <th>department_id</th>\n",
       "    </tr>\n",
       "  </thead>\n",
       "  <tbody>\n",
       "    <tr>\n",
       "      <th>0</th>\n",
       "      <td>24852</td>\n",
       "      <td>66050</td>\n",
       "      <td>Banana</td>\n",
       "      <td>24</td>\n",
       "      <td>4</td>\n",
       "    </tr>\n",
       "    <tr>\n",
       "      <th>1</th>\n",
       "      <td>13176</td>\n",
       "      <td>53297</td>\n",
       "      <td>Bag of Organic Bananas</td>\n",
       "      <td>24</td>\n",
       "      <td>4</td>\n",
       "    </tr>\n",
       "    <tr>\n",
       "      <th>2</th>\n",
       "      <td>21137</td>\n",
       "      <td>37039</td>\n",
       "      <td>Organic Strawberries</td>\n",
       "      <td>24</td>\n",
       "      <td>4</td>\n",
       "    </tr>\n",
       "    <tr>\n",
       "      <th>3</th>\n",
       "      <td>21903</td>\n",
       "      <td>33971</td>\n",
       "      <td>Organic Baby Spinach</td>\n",
       "      <td>123</td>\n",
       "      <td>4</td>\n",
       "    </tr>\n",
       "    <tr>\n",
       "      <th>4</th>\n",
       "      <td>47209</td>\n",
       "      <td>29773</td>\n",
       "      <td>Organic Hass Avocado</td>\n",
       "      <td>24</td>\n",
       "      <td>4</td>\n",
       "    </tr>\n",
       "    <tr>\n",
       "      <th>5</th>\n",
       "      <td>47766</td>\n",
       "      <td>24689</td>\n",
       "      <td>Organic Avocado</td>\n",
       "      <td>24</td>\n",
       "      <td>4</td>\n",
       "    </tr>\n",
       "    <tr>\n",
       "      <th>6</th>\n",
       "      <td>47626</td>\n",
       "      <td>21495</td>\n",
       "      <td>Large Lemon</td>\n",
       "      <td>24</td>\n",
       "      <td>4</td>\n",
       "    </tr>\n",
       "    <tr>\n",
       "      <th>7</th>\n",
       "      <td>16797</td>\n",
       "      <td>20018</td>\n",
       "      <td>Strawberries</td>\n",
       "      <td>24</td>\n",
       "      <td>4</td>\n",
       "    </tr>\n",
       "    <tr>\n",
       "      <th>8</th>\n",
       "      <td>26209</td>\n",
       "      <td>19690</td>\n",
       "      <td>Limes</td>\n",
       "      <td>24</td>\n",
       "      <td>4</td>\n",
       "    </tr>\n",
       "    <tr>\n",
       "      <th>9</th>\n",
       "      <td>27845</td>\n",
       "      <td>19600</td>\n",
       "      <td>Organic Whole Milk</td>\n",
       "      <td>84</td>\n",
       "      <td>16</td>\n",
       "    </tr>\n",
       "    <tr>\n",
       "      <th>10</th>\n",
       "      <td>27966</td>\n",
       "      <td>19197</td>\n",
       "      <td>Organic Raspberries</td>\n",
       "      <td>123</td>\n",
       "      <td>4</td>\n",
       "    </tr>\n",
       "    <tr>\n",
       "      <th>11</th>\n",
       "      <td>22935</td>\n",
       "      <td>15898</td>\n",
       "      <td>Organic Yellow Onion</td>\n",
       "      <td>83</td>\n",
       "      <td>4</td>\n",
       "    </tr>\n",
       "    <tr>\n",
       "      <th>12</th>\n",
       "      <td>24964</td>\n",
       "      <td>15292</td>\n",
       "      <td>Organic Garlic</td>\n",
       "      <td>83</td>\n",
       "      <td>4</td>\n",
       "    </tr>\n",
       "    <tr>\n",
       "      <th>13</th>\n",
       "      <td>45007</td>\n",
       "      <td>14584</td>\n",
       "      <td>Organic Zucchini</td>\n",
       "      <td>83</td>\n",
       "      <td>4</td>\n",
       "    </tr>\n",
       "    <tr>\n",
       "      <th>14</th>\n",
       "      <td>39275</td>\n",
       "      <td>13879</td>\n",
       "      <td>Organic Blueberries</td>\n",
       "      <td>123</td>\n",
       "      <td>4</td>\n",
       "    </tr>\n",
       "    <tr>\n",
       "      <th>15</th>\n",
       "      <td>49683</td>\n",
       "      <td>13675</td>\n",
       "      <td>Cucumber Kirby</td>\n",
       "      <td>83</td>\n",
       "      <td>4</td>\n",
       "    </tr>\n",
       "    <tr>\n",
       "      <th>16</th>\n",
       "      <td>28204</td>\n",
       "      <td>12544</td>\n",
       "      <td>Organic Fuji Apple</td>\n",
       "      <td>24</td>\n",
       "      <td>4</td>\n",
       "    </tr>\n",
       "    <tr>\n",
       "      <th>17</th>\n",
       "      <td>5876</td>\n",
       "      <td>12232</td>\n",
       "      <td>Organic Lemon</td>\n",
       "      <td>24</td>\n",
       "      <td>4</td>\n",
       "    </tr>\n",
       "    <tr>\n",
       "      <th>18</th>\n",
       "      <td>8277</td>\n",
       "      <td>11993</td>\n",
       "      <td>Apple Honeycrisp Organic</td>\n",
       "      <td>24</td>\n",
       "      <td>4</td>\n",
       "    </tr>\n",
       "    <tr>\n",
       "      <th>19</th>\n",
       "      <td>40706</td>\n",
       "      <td>11781</td>\n",
       "      <td>Organic Grape Tomatoes</td>\n",
       "      <td>123</td>\n",
       "      <td>4</td>\n",
       "    </tr>\n",
       "  </tbody>\n",
       "</table>\n",
       "</div>"
      ],
      "text/plain": [
       "    product_id  count              product_name  aisle_id  department_id\n",
       "0        24852  66050                    Banana        24              4\n",
       "1        13176  53297    Bag of Organic Bananas        24              4\n",
       "2        21137  37039      Organic Strawberries        24              4\n",
       "3        21903  33971      Organic Baby Spinach       123              4\n",
       "4        47209  29773      Organic Hass Avocado        24              4\n",
       "5        47766  24689           Organic Avocado        24              4\n",
       "6        47626  21495               Large Lemon        24              4\n",
       "7        16797  20018              Strawberries        24              4\n",
       "8        26209  19690                     Limes        24              4\n",
       "9        27845  19600        Organic Whole Milk        84             16\n",
       "10       27966  19197       Organic Raspberries       123              4\n",
       "11       22935  15898      Organic Yellow Onion        83              4\n",
       "12       24964  15292            Organic Garlic        83              4\n",
       "13       45007  14584          Organic Zucchini        83              4\n",
       "14       39275  13879       Organic Blueberries       123              4\n",
       "15       49683  13675            Cucumber Kirby        83              4\n",
       "16       28204  12544        Organic Fuji Apple        24              4\n",
       "17        5876  12232             Organic Lemon        24              4\n",
       "18        8277  11993  Apple Honeycrisp Organic        24              4\n",
       "19       40706  11781    Organic Grape Tomatoes       123              4"
      ]
     },
     "execution_count": 75,
     "metadata": {},
     "output_type": "execute_result"
    }
   ],
   "source": [
    "top_20_productos = top_20_productos.merge(products, on='product_id', how='left')\n",
    "top_20_productos"
   ]
  },
  {
   "cell_type": "markdown",
   "id": "7df00f47",
   "metadata": {
    "id": "7df00f47"
   },
   "source": [
    "Escribe aquí tus conclusiones.\n",
    "\n",
    "Los 20 productos que más compran las personas tienen que ver con víveres, que son del departamento 4, por lo que con esto corroboro que se tomó la decisión de adecuada de considerar sólo ese departamento. "
   ]
  },
  {
   "cell_type": "markdown",
   "id": "925a8476",
   "metadata": {},
   "source": [
    "<div class=\"alert alert-block alert-success\">\n",
    "<b>Comentario del revisor</b> <a class=\"tocSkip\"></a>\n",
    "\n",
    "Muy buen desarrollo de la sección. Desarrollaste de buena manera todos los análisis y lo complementaste con una gráfica. \n",
    "</div>"
   ]
  },
  {
   "cell_type": "markdown",
   "id": "gross-theme",
   "metadata": {
    "id": "gross-theme"
   },
   "source": [
    "# [C] Difícil (deben completarse todos para aprobar)\n",
    "\n",
    "1. ¿Cuántos artículos suelen comprar las personas en un pedido? ¿Cómo es la distribución?\n",
    "2. ¿Cuáles son los 20 principales artículos que vuelven a pedirse con mayor frecuencia (muestra sus nombres e IDs de los productos)?\n",
    "3. Para cada producto, ¿cuál es la tasa de repetición del pedido (número de repeticiones de pedido/total de pedidos?\n",
    "4. Para cada cliente, ¿qué proporción de los productos que pidió ya los había pedido? Calcula la tasa de repetición de pedido para cada usuario en lugar de para cada producto.\n",
    "5. ¿Cuáles son los 20 principales artículos que la gente pone primero en sus carritos (muestra las IDs de los productos, sus nombres, y el número de veces en que fueron el primer artículo en añadirse al carrito)?"
   ]
  },
  {
   "cell_type": "markdown",
   "id": "romantic-deposit",
   "metadata": {
    "id": "romantic-deposit"
   },
   "source": [
    "### [C1] ¿Cuántos artículos compran normalmente las personas en un pedido? ¿Cómo es la distribución?"
   ]
  },
  {
   "cell_type": "code",
   "execution_count": 76,
   "id": "virtual-punch",
   "metadata": {
    "id": "virtual-punch"
   },
   "outputs": [],
   "source": [
    "articulos_por_pedido = order_products.groupby('order_id')['product_id'].count()"
   ]
  },
  {
   "cell_type": "code",
   "execution_count": 77,
   "id": "sensitive-breathing",
   "metadata": {
    "id": "sensitive-breathing"
   },
   "outputs": [
    {
     "data": {
      "text/plain": [
       "1      21847\n",
       "2      26292\n",
       "3      29046\n",
       "4      31054\n",
       "5      31923\n",
       "       ...  \n",
       "98         1\n",
       "104        1\n",
       "108        1\n",
       "115        1\n",
       "127        1\n",
       "Name: product_id, Length: 90, dtype: int64"
      ]
     },
     "execution_count": 77,
     "metadata": {},
     "output_type": "execute_result"
    }
   ],
   "source": [
    "articulos_por_pedido = articulos_por_pedido.value_counts().sort_index()\n",
    "articulos_por_pedido"
   ]
  },
  {
   "cell_type": "code",
   "execution_count": 78,
   "id": "completed-frank",
   "metadata": {
    "id": "completed-frank"
   },
   "outputs": [
    {
     "data": {
      "text/plain": [
       "<AxesSubplot:title={'center':'Artículos comprados por pedido'}, xlabel='Número de productos', ylabel='Número de órdenes'>"
      ]
     },
     "execution_count": 78,
     "metadata": {},
     "output_type": "execute_result"
    },
    {
     "data": {
      "image/png": "[encoded data removed]",
      "text/plain": [
       "<Figure size 2000x700 with 1 Axes>"
      ]
     },
     "metadata": {},
     "output_type": "display_data"
    }
   ],
   "source": [
    "articulos_por_pedido.plot(\n",
    "    kind= 'bar',\n",
    "    title= 'Artículos comprados por pedido',\n",
    "    xlabel= 'Número de productos',\n",
    "    ylabel= 'Número de órdenes',\n",
    "    rot= 50,\n",
    "    figsize=[20,7]\n",
    ")\n"
   ]
  },
  {
   "cell_type": "markdown",
   "id": "designed-mortality",
   "metadata": {
    "id": "designed-mortality"
   },
   "source": [
    "Escribe aquí tus conclusiones.\n",
    "\n",
    "La mayoría de los usuarios compran pocos productos."
   ]
  },
  {
   "cell_type": "markdown",
   "id": "5e6b5537",
   "metadata": {
    "id": "5e6b5537"
   },
   "source": [
    "### [C2] ¿Cuáles son los 20 principales artículos que vuelven a pedirse con mayor frecuencia (muestra sus nombres e IDs de los productos)?"
   ]
  },
  {
   "cell_type": "code",
   "execution_count": 79,
   "id": "9374e55a",
   "metadata": {
    "id": "9374e55a"
   },
   "outputs": [],
   "source": [
    "productos_reordenados = order_products[order_products['reordered'] == 1]"
   ]
  },
  {
   "cell_type": "code",
   "execution_count": 80,
   "id": "possible-change",
   "metadata": {
    "id": "possible-change",
    "scrolled": true
   },
   "outputs": [
    {
     "data": {
      "text/html": [
       "<div>\n",
       "<style scoped>\n",
       "    .dataframe tbody tr th:only-of-type {\n",
       "        vertical-align: middle;\n",
       "    }\n",
       "\n",
       "    .dataframe tbody tr th {\n",
       "        vertical-align: top;\n",
       "    }\n",
       "\n",
       "    .dataframe thead th {\n",
       "        text-align: right;\n",
       "    }\n",
       "</style>\n",
       "<table border=\"1\" class=\"dataframe\">\n",
       "  <thead>\n",
       "    <tr style=\"text-align: right;\">\n",
       "      <th></th>\n",
       "      <th>product_id</th>\n",
       "      <th>count</th>\n",
       "    </tr>\n",
       "  </thead>\n",
       "  <tbody>\n",
       "    <tr>\n",
       "      <th>0</th>\n",
       "      <td>24852</td>\n",
       "      <td>55763</td>\n",
       "    </tr>\n",
       "    <tr>\n",
       "      <th>1</th>\n",
       "      <td>13176</td>\n",
       "      <td>44450</td>\n",
       "    </tr>\n",
       "    <tr>\n",
       "      <th>2</th>\n",
       "      <td>21137</td>\n",
       "      <td>28639</td>\n",
       "    </tr>\n",
       "    <tr>\n",
       "      <th>3</th>\n",
       "      <td>21903</td>\n",
       "      <td>26233</td>\n",
       "    </tr>\n",
       "    <tr>\n",
       "      <th>4</th>\n",
       "      <td>47209</td>\n",
       "      <td>23629</td>\n",
       "    </tr>\n",
       "    <tr>\n",
       "      <th>...</th>\n",
       "      <td>...</td>\n",
       "      <td>...</td>\n",
       "    </tr>\n",
       "    <tr>\n",
       "      <th>36223</th>\n",
       "      <td>2591</td>\n",
       "      <td>1</td>\n",
       "    </tr>\n",
       "    <tr>\n",
       "      <th>36224</th>\n",
       "      <td>29201</td>\n",
       "      <td>1</td>\n",
       "    </tr>\n",
       "    <tr>\n",
       "      <th>36225</th>\n",
       "      <td>27154</td>\n",
       "      <td>1</td>\n",
       "    </tr>\n",
       "    <tr>\n",
       "      <th>36226</th>\n",
       "      <td>10789</td>\n",
       "      <td>1</td>\n",
       "    </tr>\n",
       "    <tr>\n",
       "      <th>36227</th>\n",
       "      <td>2049</td>\n",
       "      <td>1</td>\n",
       "    </tr>\n",
       "  </tbody>\n",
       "</table>\n",
       "<p>36228 rows × 2 columns</p>\n",
       "</div>"
      ],
      "text/plain": [
       "       product_id  count\n",
       "0           24852  55763\n",
       "1           13176  44450\n",
       "2           21137  28639\n",
       "3           21903  26233\n",
       "4           47209  23629\n",
       "...           ...    ...\n",
       "36223        2591      1\n",
       "36224       29201      1\n",
       "36225       27154      1\n",
       "36226       10789      1\n",
       "36227        2049      1\n",
       "\n",
       "[36228 rows x 2 columns]"
      ]
     },
     "execution_count": 80,
     "metadata": {},
     "output_type": "execute_result"
    }
   ],
   "source": [
    "total_reordenados = productos_reordenados['product_id'].value_counts().reset_index()\n",
    "total_reordenados.columns = ['product_id', 'count']\n",
    "total_reordenados"
   ]
  },
  {
   "cell_type": "code",
   "execution_count": 81,
   "id": "professional-surfing",
   "metadata": {
    "id": "professional-surfing",
    "scrolled": true
   },
   "outputs": [
    {
     "data": {
      "text/html": [
       "<div>\n",
       "<style scoped>\n",
       "    .dataframe tbody tr th:only-of-type {\n",
       "        vertical-align: middle;\n",
       "    }\n",
       "\n",
       "    .dataframe tbody tr th {\n",
       "        vertical-align: top;\n",
       "    }\n",
       "\n",
       "    .dataframe thead th {\n",
       "        text-align: right;\n",
       "    }\n",
       "</style>\n",
       "<table border=\"1\" class=\"dataframe\">\n",
       "  <thead>\n",
       "    <tr style=\"text-align: right;\">\n",
       "      <th></th>\n",
       "      <th>product_id</th>\n",
       "      <th>count</th>\n",
       "    </tr>\n",
       "  </thead>\n",
       "  <tbody>\n",
       "    <tr>\n",
       "      <th>0</th>\n",
       "      <td>24852</td>\n",
       "      <td>55763</td>\n",
       "    </tr>\n",
       "    <tr>\n",
       "      <th>1</th>\n",
       "      <td>13176</td>\n",
       "      <td>44450</td>\n",
       "    </tr>\n",
       "    <tr>\n",
       "      <th>2</th>\n",
       "      <td>21137</td>\n",
       "      <td>28639</td>\n",
       "    </tr>\n",
       "    <tr>\n",
       "      <th>3</th>\n",
       "      <td>21903</td>\n",
       "      <td>26233</td>\n",
       "    </tr>\n",
       "    <tr>\n",
       "      <th>4</th>\n",
       "      <td>47209</td>\n",
       "      <td>23629</td>\n",
       "    </tr>\n",
       "    <tr>\n",
       "      <th>5</th>\n",
       "      <td>47766</td>\n",
       "      <td>18743</td>\n",
       "    </tr>\n",
       "    <tr>\n",
       "      <th>6</th>\n",
       "      <td>27845</td>\n",
       "      <td>16251</td>\n",
       "    </tr>\n",
       "    <tr>\n",
       "      <th>7</th>\n",
       "      <td>47626</td>\n",
       "      <td>15044</td>\n",
       "    </tr>\n",
       "    <tr>\n",
       "      <th>8</th>\n",
       "      <td>27966</td>\n",
       "      <td>14748</td>\n",
       "    </tr>\n",
       "    <tr>\n",
       "      <th>9</th>\n",
       "      <td>16797</td>\n",
       "      <td>13945</td>\n",
       "    </tr>\n",
       "    <tr>\n",
       "      <th>10</th>\n",
       "      <td>26209</td>\n",
       "      <td>13327</td>\n",
       "    </tr>\n",
       "    <tr>\n",
       "      <th>11</th>\n",
       "      <td>22935</td>\n",
       "      <td>11145</td>\n",
       "    </tr>\n",
       "    <tr>\n",
       "      <th>12</th>\n",
       "      <td>24964</td>\n",
       "      <td>10411</td>\n",
       "    </tr>\n",
       "    <tr>\n",
       "      <th>13</th>\n",
       "      <td>45007</td>\n",
       "      <td>10076</td>\n",
       "    </tr>\n",
       "    <tr>\n",
       "      <th>14</th>\n",
       "      <td>49683</td>\n",
       "      <td>9538</td>\n",
       "    </tr>\n",
       "    <tr>\n",
       "      <th>15</th>\n",
       "      <td>28204</td>\n",
       "      <td>8989</td>\n",
       "    </tr>\n",
       "    <tr>\n",
       "      <th>16</th>\n",
       "      <td>8277</td>\n",
       "      <td>8836</td>\n",
       "    </tr>\n",
       "    <tr>\n",
       "      <th>17</th>\n",
       "      <td>39275</td>\n",
       "      <td>8799</td>\n",
       "    </tr>\n",
       "    <tr>\n",
       "      <th>18</th>\n",
       "      <td>5876</td>\n",
       "      <td>8412</td>\n",
       "    </tr>\n",
       "    <tr>\n",
       "      <th>19</th>\n",
       "      <td>49235</td>\n",
       "      <td>8389</td>\n",
       "    </tr>\n",
       "  </tbody>\n",
       "</table>\n",
       "</div>"
      ],
      "text/plain": [
       "    product_id  count\n",
       "0        24852  55763\n",
       "1        13176  44450\n",
       "2        21137  28639\n",
       "3        21903  26233\n",
       "4        47209  23629\n",
       "5        47766  18743\n",
       "6        27845  16251\n",
       "7        47626  15044\n",
       "8        27966  14748\n",
       "9        16797  13945\n",
       "10       26209  13327\n",
       "11       22935  11145\n",
       "12       24964  10411\n",
       "13       45007  10076\n",
       "14       49683   9538\n",
       "15       28204   8989\n",
       "16        8277   8836\n",
       "17       39275   8799\n",
       "18        5876   8412\n",
       "19       49235   8389"
      ]
     },
     "execution_count": 81,
     "metadata": {},
     "output_type": "execute_result"
    }
   ],
   "source": [
    "top_20_productos_reordenados = total_reordenados.head(20)\n",
    "top_20_productos_reordenados"
   ]
  },
  {
   "cell_type": "code",
   "execution_count": 82,
   "id": "48dd3658",
   "metadata": {
    "id": "48dd3658"
   },
   "outputs": [
    {
     "data": {
      "text/html": [
       "<div>\n",
       "<style scoped>\n",
       "    .dataframe tbody tr th:only-of-type {\n",
       "        vertical-align: middle;\n",
       "    }\n",
       "\n",
       "    .dataframe tbody tr th {\n",
       "        vertical-align: top;\n",
       "    }\n",
       "\n",
       "    .dataframe thead th {\n",
       "        text-align: right;\n",
       "    }\n",
       "</style>\n",
       "<table border=\"1\" class=\"dataframe\">\n",
       "  <thead>\n",
       "    <tr style=\"text-align: right;\">\n",
       "      <th></th>\n",
       "      <th>product_id</th>\n",
       "      <th>count</th>\n",
       "      <th>product_name</th>\n",
       "      <th>aisle_id</th>\n",
       "      <th>department_id</th>\n",
       "    </tr>\n",
       "  </thead>\n",
       "  <tbody>\n",
       "    <tr>\n",
       "      <th>0</th>\n",
       "      <td>24852</td>\n",
       "      <td>55763</td>\n",
       "      <td>Banana</td>\n",
       "      <td>24</td>\n",
       "      <td>4</td>\n",
       "    </tr>\n",
       "    <tr>\n",
       "      <th>1</th>\n",
       "      <td>13176</td>\n",
       "      <td>44450</td>\n",
       "      <td>Bag of Organic Bananas</td>\n",
       "      <td>24</td>\n",
       "      <td>4</td>\n",
       "    </tr>\n",
       "    <tr>\n",
       "      <th>2</th>\n",
       "      <td>21137</td>\n",
       "      <td>28639</td>\n",
       "      <td>Organic Strawberries</td>\n",
       "      <td>24</td>\n",
       "      <td>4</td>\n",
       "    </tr>\n",
       "    <tr>\n",
       "      <th>3</th>\n",
       "      <td>21903</td>\n",
       "      <td>26233</td>\n",
       "      <td>Organic Baby Spinach</td>\n",
       "      <td>123</td>\n",
       "      <td>4</td>\n",
       "    </tr>\n",
       "    <tr>\n",
       "      <th>4</th>\n",
       "      <td>47209</td>\n",
       "      <td>23629</td>\n",
       "      <td>Organic Hass Avocado</td>\n",
       "      <td>24</td>\n",
       "      <td>4</td>\n",
       "    </tr>\n",
       "    <tr>\n",
       "      <th>5</th>\n",
       "      <td>47766</td>\n",
       "      <td>18743</td>\n",
       "      <td>Organic Avocado</td>\n",
       "      <td>24</td>\n",
       "      <td>4</td>\n",
       "    </tr>\n",
       "    <tr>\n",
       "      <th>6</th>\n",
       "      <td>27845</td>\n",
       "      <td>16251</td>\n",
       "      <td>Organic Whole Milk</td>\n",
       "      <td>84</td>\n",
       "      <td>16</td>\n",
       "    </tr>\n",
       "    <tr>\n",
       "      <th>7</th>\n",
       "      <td>47626</td>\n",
       "      <td>15044</td>\n",
       "      <td>Large Lemon</td>\n",
       "      <td>24</td>\n",
       "      <td>4</td>\n",
       "    </tr>\n",
       "    <tr>\n",
       "      <th>8</th>\n",
       "      <td>27966</td>\n",
       "      <td>14748</td>\n",
       "      <td>Organic Raspberries</td>\n",
       "      <td>123</td>\n",
       "      <td>4</td>\n",
       "    </tr>\n",
       "    <tr>\n",
       "      <th>9</th>\n",
       "      <td>16797</td>\n",
       "      <td>13945</td>\n",
       "      <td>Strawberries</td>\n",
       "      <td>24</td>\n",
       "      <td>4</td>\n",
       "    </tr>\n",
       "    <tr>\n",
       "      <th>10</th>\n",
       "      <td>26209</td>\n",
       "      <td>13327</td>\n",
       "      <td>Limes</td>\n",
       "      <td>24</td>\n",
       "      <td>4</td>\n",
       "    </tr>\n",
       "    <tr>\n",
       "      <th>11</th>\n",
       "      <td>22935</td>\n",
       "      <td>11145</td>\n",
       "      <td>Organic Yellow Onion</td>\n",
       "      <td>83</td>\n",
       "      <td>4</td>\n",
       "    </tr>\n",
       "    <tr>\n",
       "      <th>12</th>\n",
       "      <td>24964</td>\n",
       "      <td>10411</td>\n",
       "      <td>Organic Garlic</td>\n",
       "      <td>83</td>\n",
       "      <td>4</td>\n",
       "    </tr>\n",
       "    <tr>\n",
       "      <th>13</th>\n",
       "      <td>45007</td>\n",
       "      <td>10076</td>\n",
       "      <td>Organic Zucchini</td>\n",
       "      <td>83</td>\n",
       "      <td>4</td>\n",
       "    </tr>\n",
       "    <tr>\n",
       "      <th>14</th>\n",
       "      <td>49683</td>\n",
       "      <td>9538</td>\n",
       "      <td>Cucumber Kirby</td>\n",
       "      <td>83</td>\n",
       "      <td>4</td>\n",
       "    </tr>\n",
       "    <tr>\n",
       "      <th>15</th>\n",
       "      <td>28204</td>\n",
       "      <td>8989</td>\n",
       "      <td>Organic Fuji Apple</td>\n",
       "      <td>24</td>\n",
       "      <td>4</td>\n",
       "    </tr>\n",
       "    <tr>\n",
       "      <th>16</th>\n",
       "      <td>8277</td>\n",
       "      <td>8836</td>\n",
       "      <td>Apple Honeycrisp Organic</td>\n",
       "      <td>24</td>\n",
       "      <td>4</td>\n",
       "    </tr>\n",
       "    <tr>\n",
       "      <th>17</th>\n",
       "      <td>39275</td>\n",
       "      <td>8799</td>\n",
       "      <td>Organic Blueberries</td>\n",
       "      <td>123</td>\n",
       "      <td>4</td>\n",
       "    </tr>\n",
       "    <tr>\n",
       "      <th>18</th>\n",
       "      <td>5876</td>\n",
       "      <td>8412</td>\n",
       "      <td>Organic Lemon</td>\n",
       "      <td>24</td>\n",
       "      <td>4</td>\n",
       "    </tr>\n",
       "    <tr>\n",
       "      <th>19</th>\n",
       "      <td>49235</td>\n",
       "      <td>8389</td>\n",
       "      <td>Organic Half &amp; Half</td>\n",
       "      <td>53</td>\n",
       "      <td>16</td>\n",
       "    </tr>\n",
       "  </tbody>\n",
       "</table>\n",
       "</div>"
      ],
      "text/plain": [
       "    product_id  count              product_name  aisle_id  department_id\n",
       "0        24852  55763                    Banana        24              4\n",
       "1        13176  44450    Bag of Organic Bananas        24              4\n",
       "2        21137  28639      Organic Strawberries        24              4\n",
       "3        21903  26233      Organic Baby Spinach       123              4\n",
       "4        47209  23629      Organic Hass Avocado        24              4\n",
       "5        47766  18743           Organic Avocado        24              4\n",
       "6        27845  16251        Organic Whole Milk        84             16\n",
       "7        47626  15044               Large Lemon        24              4\n",
       "8        27966  14748       Organic Raspberries       123              4\n",
       "9        16797  13945              Strawberries        24              4\n",
       "10       26209  13327                     Limes        24              4\n",
       "11       22935  11145      Organic Yellow Onion        83              4\n",
       "12       24964  10411            Organic Garlic        83              4\n",
       "13       45007  10076          Organic Zucchini        83              4\n",
       "14       49683   9538            Cucumber Kirby        83              4\n",
       "15       28204   8989        Organic Fuji Apple        24              4\n",
       "16        8277   8836  Apple Honeycrisp Organic        24              4\n",
       "17       39275   8799       Organic Blueberries       123              4\n",
       "18        5876   8412             Organic Lemon        24              4\n",
       "19       49235   8389       Organic Half & Half        53             16"
      ]
     },
     "execution_count": 82,
     "metadata": {},
     "output_type": "execute_result"
    }
   ],
   "source": [
    "top_20_productos_reordenados = top_20_productos_reordenados.merge(products, on='product_id', how='left')\n",
    "top_20_productos_reordenados"
   ]
  },
  {
   "cell_type": "markdown",
   "id": "80e70c74",
   "metadata": {
    "id": "80e70c74"
   },
   "source": [
    "Escribe aquí tus conclusiones.\n",
    "\n",
    "Los 20 artículos que vuelven a comprar los usuarios son los relacionados a los víveres o canasta básica, según como se le consideren en cada país."
   ]
  },
  {
   "cell_type": "markdown",
   "id": "9d312b14",
   "metadata": {
    "id": "9d312b14"
   },
   "source": [
    "### [C3] Para cada producto, ¿cuál es la proporción de las veces que se pide y que se vuelve a pedir?"
   ]
  },
  {
   "cell_type": "code",
   "execution_count": 83,
   "id": "8ae9f4b1",
   "metadata": {
    "id": "8ae9f4b1"
   },
   "outputs": [
    {
     "data": {
      "text/html": [
       "<div>\n",
       "<style scoped>\n",
       "    .dataframe tbody tr th:only-of-type {\n",
       "        vertical-align: middle;\n",
       "    }\n",
       "\n",
       "    .dataframe tbody tr th {\n",
       "        vertical-align: top;\n",
       "    }\n",
       "\n",
       "    .dataframe thead th {\n",
       "        text-align: right;\n",
       "    }\n",
       "</style>\n",
       "<table border=\"1\" class=\"dataframe\">\n",
       "  <thead>\n",
       "    <tr style=\"text-align: right;\">\n",
       "      <th></th>\n",
       "      <th>product_id</th>\n",
       "      <th>total_orders</th>\n",
       "      <th>re_orders</th>\n",
       "      <th>proporcion_productos</th>\n",
       "    </tr>\n",
       "  </thead>\n",
       "  <tbody>\n",
       "    <tr>\n",
       "      <th>0</th>\n",
       "      <td>24852</td>\n",
       "      <td>66050</td>\n",
       "      <td>55763.0</td>\n",
       "      <td>0.844254</td>\n",
       "    </tr>\n",
       "    <tr>\n",
       "      <th>1</th>\n",
       "      <td>13176</td>\n",
       "      <td>53297</td>\n",
       "      <td>44450.0</td>\n",
       "      <td>0.834006</td>\n",
       "    </tr>\n",
       "    <tr>\n",
       "      <th>2</th>\n",
       "      <td>21137</td>\n",
       "      <td>37039</td>\n",
       "      <td>28639.0</td>\n",
       "      <td>0.773212</td>\n",
       "    </tr>\n",
       "    <tr>\n",
       "      <th>3</th>\n",
       "      <td>21903</td>\n",
       "      <td>33971</td>\n",
       "      <td>26233.0</td>\n",
       "      <td>0.772217</td>\n",
       "    </tr>\n",
       "    <tr>\n",
       "      <th>4</th>\n",
       "      <td>47209</td>\n",
       "      <td>29773</td>\n",
       "      <td>23629.0</td>\n",
       "      <td>0.793639</td>\n",
       "    </tr>\n",
       "  </tbody>\n",
       "</table>\n",
       "</div>"
      ],
      "text/plain": [
       "   product_id  total_orders  re_orders  proporcion_productos\n",
       "0       24852         66050    55763.0              0.844254\n",
       "1       13176         53297    44450.0              0.834006\n",
       "2       21137         37039    28639.0              0.773212\n",
       "3       21903         33971    26233.0              0.772217\n",
       "4       47209         29773    23629.0              0.793639"
      ]
     },
     "execution_count": 83,
     "metadata": {},
     "output_type": "execute_result"
    }
   ],
   "source": [
    "cantidad_productos.columns = ['product_id', 'total_orders']\n",
    "total_reordenados.columns = ['product_id', 're_orders']\n",
    "cantidad_productos = cantidad_productos.merge(total_reordenados, on= 'product_id', how= 'left')\n",
    "cantidad_productos.fillna(0, inplace=True)\n",
    "cantidad_productos['proporcion_productos'] = cantidad_productos['re_orders']/cantidad_productos['total_orders']\n",
    "cantidad_productos.head()"
   ]
  },
  {
   "cell_type": "code",
   "execution_count": 84,
   "id": "e962a74e",
   "metadata": {},
   "outputs": [
    {
     "data": {
      "text/html": [
       "<div>\n",
       "<style scoped>\n",
       "    .dataframe tbody tr th:only-of-type {\n",
       "        vertical-align: middle;\n",
       "    }\n",
       "\n",
       "    .dataframe tbody tr th {\n",
       "        vertical-align: top;\n",
       "    }\n",
       "\n",
       "    .dataframe thead th {\n",
       "        text-align: right;\n",
       "    }\n",
       "</style>\n",
       "<table border=\"1\" class=\"dataframe\">\n",
       "  <thead>\n",
       "    <tr style=\"text-align: right;\">\n",
       "      <th></th>\n",
       "      <th>product_id</th>\n",
       "      <th>total_orders</th>\n",
       "      <th>re_orders</th>\n",
       "      <th>proporcion_productos</th>\n",
       "      <th>product_name</th>\n",
       "      <th>aisle_id</th>\n",
       "      <th>department_id</th>\n",
       "    </tr>\n",
       "  </thead>\n",
       "  <tbody>\n",
       "    <tr>\n",
       "      <th>0</th>\n",
       "      <td>24852</td>\n",
       "      <td>66050</td>\n",
       "      <td>55763.0</td>\n",
       "      <td>0.844254</td>\n",
       "      <td>Banana</td>\n",
       "      <td>24</td>\n",
       "      <td>4</td>\n",
       "    </tr>\n",
       "    <tr>\n",
       "      <th>1</th>\n",
       "      <td>13176</td>\n",
       "      <td>53297</td>\n",
       "      <td>44450.0</td>\n",
       "      <td>0.834006</td>\n",
       "      <td>Bag of Organic Bananas</td>\n",
       "      <td>24</td>\n",
       "      <td>4</td>\n",
       "    </tr>\n",
       "    <tr>\n",
       "      <th>2</th>\n",
       "      <td>21137</td>\n",
       "      <td>37039</td>\n",
       "      <td>28639.0</td>\n",
       "      <td>0.773212</td>\n",
       "      <td>Organic Strawberries</td>\n",
       "      <td>24</td>\n",
       "      <td>4</td>\n",
       "    </tr>\n",
       "    <tr>\n",
       "      <th>3</th>\n",
       "      <td>21903</td>\n",
       "      <td>33971</td>\n",
       "      <td>26233.0</td>\n",
       "      <td>0.772217</td>\n",
       "      <td>Organic Baby Spinach</td>\n",
       "      <td>123</td>\n",
       "      <td>4</td>\n",
       "    </tr>\n",
       "    <tr>\n",
       "      <th>4</th>\n",
       "      <td>47209</td>\n",
       "      <td>29773</td>\n",
       "      <td>23629.0</td>\n",
       "      <td>0.793639</td>\n",
       "      <td>Organic Hass Avocado</td>\n",
       "      <td>24</td>\n",
       "      <td>4</td>\n",
       "    </tr>\n",
       "    <tr>\n",
       "      <th>...</th>\n",
       "      <td>...</td>\n",
       "      <td>...</td>\n",
       "      <td>...</td>\n",
       "      <td>...</td>\n",
       "      <td>...</td>\n",
       "      <td>...</td>\n",
       "      <td>...</td>\n",
       "    </tr>\n",
       "    <tr>\n",
       "      <th>45568</th>\n",
       "      <td>10543</td>\n",
       "      <td>1</td>\n",
       "      <td>0.0</td>\n",
       "      <td>0.000000</td>\n",
       "      <td>Blueberry Premium Fruit Spread</td>\n",
       "      <td>88</td>\n",
       "      <td>13</td>\n",
       "    </tr>\n",
       "    <tr>\n",
       "      <th>45569</th>\n",
       "      <td>5222</td>\n",
       "      <td>1</td>\n",
       "      <td>0.0</td>\n",
       "      <td>0.000000</td>\n",
       "      <td>Organic Beef &amp; Burger Rub</td>\n",
       "      <td>104</td>\n",
       "      <td>13</td>\n",
       "    </tr>\n",
       "    <tr>\n",
       "      <th>45570</th>\n",
       "      <td>2347</td>\n",
       "      <td>1</td>\n",
       "      <td>0.0</td>\n",
       "      <td>0.000000</td>\n",
       "      <td>Premium Mo' Beta Fruit Smoothie Blend</td>\n",
       "      <td>31</td>\n",
       "      <td>7</td>\n",
       "    </tr>\n",
       "    <tr>\n",
       "      <th>45571</th>\n",
       "      <td>11893</td>\n",
       "      <td>1</td>\n",
       "      <td>0.0</td>\n",
       "      <td>0.000000</td>\n",
       "      <td>Unknown</td>\n",
       "      <td>100</td>\n",
       "      <td>21</td>\n",
       "    </tr>\n",
       "    <tr>\n",
       "      <th>45572</th>\n",
       "      <td>32074</td>\n",
       "      <td>1</td>\n",
       "      <td>0.0</td>\n",
       "      <td>0.000000</td>\n",
       "      <td>Unscented Sensitive Body Wash</td>\n",
       "      <td>127</td>\n",
       "      <td>11</td>\n",
       "    </tr>\n",
       "  </tbody>\n",
       "</table>\n",
       "<p>45573 rows × 7 columns</p>\n",
       "</div>"
      ],
      "text/plain": [
       "       product_id  total_orders  re_orders  proporcion_productos  \\\n",
       "0           24852         66050    55763.0              0.844254   \n",
       "1           13176         53297    44450.0              0.834006   \n",
       "2           21137         37039    28639.0              0.773212   \n",
       "3           21903         33971    26233.0              0.772217   \n",
       "4           47209         29773    23629.0              0.793639   \n",
       "...           ...           ...        ...                   ...   \n",
       "45568       10543             1        0.0              0.000000   \n",
       "45569        5222             1        0.0              0.000000   \n",
       "45570        2347             1        0.0              0.000000   \n",
       "45571       11893             1        0.0              0.000000   \n",
       "45572       32074             1        0.0              0.000000   \n",
       "\n",
       "                                product_name  aisle_id  department_id  \n",
       "0                                     Banana        24              4  \n",
       "1                     Bag of Organic Bananas        24              4  \n",
       "2                       Organic Strawberries        24              4  \n",
       "3                       Organic Baby Spinach       123              4  \n",
       "4                       Organic Hass Avocado        24              4  \n",
       "...                                      ...       ...            ...  \n",
       "45568         Blueberry Premium Fruit Spread        88             13  \n",
       "45569              Organic Beef & Burger Rub       104             13  \n",
       "45570  Premium Mo' Beta Fruit Smoothie Blend        31              7  \n",
       "45571                                Unknown       100             21  \n",
       "45572          Unscented Sensitive Body Wash       127             11  \n",
       "\n",
       "[45573 rows x 7 columns]"
      ]
     },
     "execution_count": 84,
     "metadata": {},
     "output_type": "execute_result"
    }
   ],
   "source": [
    "cantidad_productos.merge(products, on='product_id', how='left')"
   ]
  },
  {
   "cell_type": "markdown",
   "id": "I10dEIAyldcO",
   "metadata": {
    "id": "I10dEIAyldcO"
   },
   "source": [
    "Escribe aquí tus conclusiones.\n",
    "\n",
    "Corrobora la observación previa."
   ]
  },
  {
   "cell_type": "markdown",
   "id": "subject-boxing",
   "metadata": {
    "id": "subject-boxing"
   },
   "source": [
    "### [C4] Para cada cliente, ¿qué proporción de sus productos ya los había pedido?"
   ]
  },
  {
   "cell_type": "code",
   "execution_count": 85,
   "id": "8892e4b4",
   "metadata": {
    "id": "8892e4b4"
   },
   "outputs": [
    {
     "data": {
      "text/html": [
       "<div>\n",
       "<style scoped>\n",
       "    .dataframe tbody tr th:only-of-type {\n",
       "        vertical-align: middle;\n",
       "    }\n",
       "\n",
       "    .dataframe tbody tr th {\n",
       "        vertical-align: top;\n",
       "    }\n",
       "\n",
       "    .dataframe thead th {\n",
       "        text-align: right;\n",
       "    }\n",
       "</style>\n",
       "<table border=\"1\" class=\"dataframe\">\n",
       "  <thead>\n",
       "    <tr style=\"text-align: right;\">\n",
       "      <th></th>\n",
       "      <th>order_id</th>\n",
       "      <th>total_products</th>\n",
       "      <th>productos_reordenados</th>\n",
       "    </tr>\n",
       "  </thead>\n",
       "  <tbody>\n",
       "    <tr>\n",
       "      <th>0</th>\n",
       "      <td>4</td>\n",
       "      <td>13</td>\n",
       "      <td>12</td>\n",
       "    </tr>\n",
       "    <tr>\n",
       "      <th>1</th>\n",
       "      <td>9</td>\n",
       "      <td>15</td>\n",
       "      <td>10</td>\n",
       "    </tr>\n",
       "    <tr>\n",
       "      <th>2</th>\n",
       "      <td>11</td>\n",
       "      <td>5</td>\n",
       "      <td>5</td>\n",
       "    </tr>\n",
       "    <tr>\n",
       "      <th>3</th>\n",
       "      <td>19</td>\n",
       "      <td>3</td>\n",
       "      <td>3</td>\n",
       "    </tr>\n",
       "    <tr>\n",
       "      <th>4</th>\n",
       "      <td>20</td>\n",
       "      <td>8</td>\n",
       "      <td>0</td>\n",
       "    </tr>\n",
       "    <tr>\n",
       "      <th>...</th>\n",
       "      <td>...</td>\n",
       "      <td>...</td>\n",
       "      <td>...</td>\n",
       "    </tr>\n",
       "    <tr>\n",
       "      <th>450041</th>\n",
       "      <td>3421034</td>\n",
       "      <td>17</td>\n",
       "      <td>17</td>\n",
       "    </tr>\n",
       "    <tr>\n",
       "      <th>450042</th>\n",
       "      <td>3421053</td>\n",
       "      <td>9</td>\n",
       "      <td>9</td>\n",
       "    </tr>\n",
       "    <tr>\n",
       "      <th>450043</th>\n",
       "      <td>3421071</td>\n",
       "      <td>5</td>\n",
       "      <td>1</td>\n",
       "    </tr>\n",
       "    <tr>\n",
       "      <th>450044</th>\n",
       "      <td>3421077</td>\n",
       "      <td>4</td>\n",
       "      <td>0</td>\n",
       "    </tr>\n",
       "    <tr>\n",
       "      <th>450045</th>\n",
       "      <td>3421079</td>\n",
       "      <td>1</td>\n",
       "      <td>0</td>\n",
       "    </tr>\n",
       "  </tbody>\n",
       "</table>\n",
       "<p>450046 rows × 3 columns</p>\n",
       "</div>"
      ],
      "text/plain": [
       "        order_id  total_products  productos_reordenados\n",
       "0              4              13                     12\n",
       "1              9              15                     10\n",
       "2             11               5                      5\n",
       "3             19               3                      3\n",
       "4             20               8                      0\n",
       "...          ...             ...                    ...\n",
       "450041   3421034              17                     17\n",
       "450042   3421053               9                      9\n",
       "450043   3421071               5                      1\n",
       "450044   3421077               4                      0\n",
       "450045   3421079               1                      0\n",
       "\n",
       "[450046 rows x 3 columns]"
      ]
     },
     "execution_count": 85,
     "metadata": {},
     "output_type": "execute_result"
    }
   ],
   "source": [
    "reordenadas_por_cliente = order_products.groupby('order_id').agg(\n",
    "    total_products=('product_id', 'count'), \n",
    "    productos_reordenados=('reordered', 'sum')\n",
    ").reset_index()\n",
    "\n",
    "reordenadas_por_cliente"
   ]
  },
  {
   "cell_type": "code",
   "execution_count": 86,
   "id": "9bed880d",
   "metadata": {},
   "outputs": [
    {
     "data": {
      "text/html": [
       "<div>\n",
       "<style scoped>\n",
       "    .dataframe tbody tr th:only-of-type {\n",
       "        vertical-align: middle;\n",
       "    }\n",
       "\n",
       "    .dataframe tbody tr th {\n",
       "        vertical-align: top;\n",
       "    }\n",
       "\n",
       "    .dataframe thead th {\n",
       "        text-align: right;\n",
       "    }\n",
       "</style>\n",
       "<table border=\"1\" class=\"dataframe\">\n",
       "  <thead>\n",
       "    <tr style=\"text-align: right;\">\n",
       "      <th></th>\n",
       "      <th>user_id</th>\n",
       "      <th>total_products</th>\n",
       "      <th>productos_reordenados</th>\n",
       "    </tr>\n",
       "  </thead>\n",
       "  <tbody>\n",
       "    <tr>\n",
       "      <th>0</th>\n",
       "      <td>2</td>\n",
       "      <td>26</td>\n",
       "      <td>1</td>\n",
       "    </tr>\n",
       "    <tr>\n",
       "      <th>1</th>\n",
       "      <td>4</td>\n",
       "      <td>2</td>\n",
       "      <td>0</td>\n",
       "    </tr>\n",
       "    <tr>\n",
       "      <th>2</th>\n",
       "      <td>5</td>\n",
       "      <td>12</td>\n",
       "      <td>8</td>\n",
       "    </tr>\n",
       "    <tr>\n",
       "      <th>3</th>\n",
       "      <td>6</td>\n",
       "      <td>4</td>\n",
       "      <td>0</td>\n",
       "    </tr>\n",
       "    <tr>\n",
       "      <th>4</th>\n",
       "      <td>7</td>\n",
       "      <td>14</td>\n",
       "      <td>13</td>\n",
       "    </tr>\n",
       "    <tr>\n",
       "      <th>...</th>\n",
       "      <td>...</td>\n",
       "      <td>...</td>\n",
       "      <td>...</td>\n",
       "    </tr>\n",
       "    <tr>\n",
       "      <th>149621</th>\n",
       "      <td>206203</td>\n",
       "      <td>27</td>\n",
       "      <td>6</td>\n",
       "    </tr>\n",
       "    <tr>\n",
       "      <th>149622</th>\n",
       "      <td>206206</td>\n",
       "      <td>21</td>\n",
       "      <td>15</td>\n",
       "    </tr>\n",
       "    <tr>\n",
       "      <th>149623</th>\n",
       "      <td>206207</td>\n",
       "      <td>46</td>\n",
       "      <td>41</td>\n",
       "    </tr>\n",
       "    <tr>\n",
       "      <th>149624</th>\n",
       "      <td>206208</td>\n",
       "      <td>125</td>\n",
       "      <td>87</td>\n",
       "    </tr>\n",
       "    <tr>\n",
       "      <th>149625</th>\n",
       "      <td>206209</td>\n",
       "      <td>25</td>\n",
       "      <td>8</td>\n",
       "    </tr>\n",
       "  </tbody>\n",
       "</table>\n",
       "<p>149626 rows × 3 columns</p>\n",
       "</div>"
      ],
      "text/plain": [
       "        user_id  total_products  productos_reordenados\n",
       "0             2              26                      1\n",
       "1             4               2                      0\n",
       "2             5              12                      8\n",
       "3             6               4                      0\n",
       "4             7              14                     13\n",
       "...         ...             ...                    ...\n",
       "149621   206203              27                      6\n",
       "149622   206206              21                     15\n",
       "149623   206207              46                     41\n",
       "149624   206208             125                     87\n",
       "149625   206209              25                      8\n",
       "\n",
       "[149626 rows x 3 columns]"
      ]
     },
     "execution_count": 86,
     "metadata": {},
     "output_type": "execute_result"
    }
   ],
   "source": [
    "reordenadas_por_cliente = reordenadas_por_cliente.merge(instacart_orders[['order_id','user_id']], on='order_id', how='left' ).drop(columns='order_id')\n",
    "reordenadas_por_cliente = reordenadas_por_cliente.groupby('user_id').sum().reset_index()\n",
    "reordenadas_por_cliente"
   ]
  },
  {
   "cell_type": "code",
   "execution_count": 87,
   "id": "c6a435d2",
   "metadata": {},
   "outputs": [
    {
     "data": {
      "text/html": [
       "<div>\n",
       "<style scoped>\n",
       "    .dataframe tbody tr th:only-of-type {\n",
       "        vertical-align: middle;\n",
       "    }\n",
       "\n",
       "    .dataframe tbody tr th {\n",
       "        vertical-align: top;\n",
       "    }\n",
       "\n",
       "    .dataframe thead th {\n",
       "        text-align: right;\n",
       "    }\n",
       "</style>\n",
       "<table border=\"1\" class=\"dataframe\">\n",
       "  <thead>\n",
       "    <tr style=\"text-align: right;\">\n",
       "      <th></th>\n",
       "      <th>user_id</th>\n",
       "      <th>total_products</th>\n",
       "      <th>productos_reordenados</th>\n",
       "      <th>proporcion_productos</th>\n",
       "    </tr>\n",
       "  </thead>\n",
       "  <tbody>\n",
       "    <tr>\n",
       "      <th>0</th>\n",
       "      <td>2</td>\n",
       "      <td>26</td>\n",
       "      <td>1</td>\n",
       "      <td>0.038462</td>\n",
       "    </tr>\n",
       "    <tr>\n",
       "      <th>1</th>\n",
       "      <td>4</td>\n",
       "      <td>2</td>\n",
       "      <td>0</td>\n",
       "      <td>0.000000</td>\n",
       "    </tr>\n",
       "    <tr>\n",
       "      <th>2</th>\n",
       "      <td>5</td>\n",
       "      <td>12</td>\n",
       "      <td>8</td>\n",
       "      <td>0.666667</td>\n",
       "    </tr>\n",
       "    <tr>\n",
       "      <th>3</th>\n",
       "      <td>6</td>\n",
       "      <td>4</td>\n",
       "      <td>0</td>\n",
       "      <td>0.000000</td>\n",
       "    </tr>\n",
       "    <tr>\n",
       "      <th>4</th>\n",
       "      <td>7</td>\n",
       "      <td>14</td>\n",
       "      <td>13</td>\n",
       "      <td>0.928571</td>\n",
       "    </tr>\n",
       "    <tr>\n",
       "      <th>...</th>\n",
       "      <td>...</td>\n",
       "      <td>...</td>\n",
       "      <td>...</td>\n",
       "      <td>...</td>\n",
       "    </tr>\n",
       "    <tr>\n",
       "      <th>149621</th>\n",
       "      <td>206203</td>\n",
       "      <td>27</td>\n",
       "      <td>6</td>\n",
       "      <td>0.222222</td>\n",
       "    </tr>\n",
       "    <tr>\n",
       "      <th>149622</th>\n",
       "      <td>206206</td>\n",
       "      <td>21</td>\n",
       "      <td>15</td>\n",
       "      <td>0.714286</td>\n",
       "    </tr>\n",
       "    <tr>\n",
       "      <th>149623</th>\n",
       "      <td>206207</td>\n",
       "      <td>46</td>\n",
       "      <td>41</td>\n",
       "      <td>0.891304</td>\n",
       "    </tr>\n",
       "    <tr>\n",
       "      <th>149624</th>\n",
       "      <td>206208</td>\n",
       "      <td>125</td>\n",
       "      <td>87</td>\n",
       "      <td>0.696000</td>\n",
       "    </tr>\n",
       "    <tr>\n",
       "      <th>149625</th>\n",
       "      <td>206209</td>\n",
       "      <td>25</td>\n",
       "      <td>8</td>\n",
       "      <td>0.320000</td>\n",
       "    </tr>\n",
       "  </tbody>\n",
       "</table>\n",
       "<p>149626 rows × 4 columns</p>\n",
       "</div>"
      ],
      "text/plain": [
       "        user_id  total_products  productos_reordenados  proporcion_productos\n",
       "0             2              26                      1              0.038462\n",
       "1             4               2                      0              0.000000\n",
       "2             5              12                      8              0.666667\n",
       "3             6               4                      0              0.000000\n",
       "4             7              14                     13              0.928571\n",
       "...         ...             ...                    ...                   ...\n",
       "149621   206203              27                      6              0.222222\n",
       "149622   206206              21                     15              0.714286\n",
       "149623   206207              46                     41              0.891304\n",
       "149624   206208             125                     87              0.696000\n",
       "149625   206209              25                      8              0.320000\n",
       "\n",
       "[149626 rows x 4 columns]"
      ]
     },
     "execution_count": 87,
     "metadata": {},
     "output_type": "execute_result"
    }
   ],
   "source": [
    "reordenadas_por_cliente['proporcion_productos'] = reordenadas_por_cliente['productos_reordenados']/reordenadas_por_cliente['total_products']\n",
    "reordenadas_por_cliente"
   ]
  },
  {
   "cell_type": "code",
   "execution_count": 88,
   "id": "ec26013e",
   "metadata": {},
   "outputs": [
    {
     "data": {
      "text/html": [
       "<div>\n",
       "<style scoped>\n",
       "    .dataframe tbody tr th:only-of-type {\n",
       "        vertical-align: middle;\n",
       "    }\n",
       "\n",
       "    .dataframe tbody tr th {\n",
       "        vertical-align: top;\n",
       "    }\n",
       "\n",
       "    .dataframe thead th {\n",
       "        text-align: right;\n",
       "    }\n",
       "</style>\n",
       "<table border=\"1\" class=\"dataframe\">\n",
       "  <thead>\n",
       "    <tr style=\"text-align: right;\">\n",
       "      <th></th>\n",
       "      <th>user_id</th>\n",
       "      <th>total_products</th>\n",
       "      <th>productos_reordenados</th>\n",
       "      <th>proporcion_productos</th>\n",
       "    </tr>\n",
       "  </thead>\n",
       "  <tbody>\n",
       "    <tr>\n",
       "      <th>count</th>\n",
       "      <td>149626.000000</td>\n",
       "      <td>149626.000000</td>\n",
       "      <td>149626.000000</td>\n",
       "      <td>149626.000000</td>\n",
       "    </tr>\n",
       "    <tr>\n",
       "      <th>mean</th>\n",
       "      <td>103205.167778</td>\n",
       "      <td>30.375784</td>\n",
       "      <td>17.936976</td>\n",
       "      <td>0.494853</td>\n",
       "    </tr>\n",
       "    <tr>\n",
       "      <th>std</th>\n",
       "      <td>59560.993992</td>\n",
       "      <td>35.873511</td>\n",
       "      <td>27.793625</td>\n",
       "      <td>0.292685</td>\n",
       "    </tr>\n",
       "    <tr>\n",
       "      <th>min</th>\n",
       "      <td>2.000000</td>\n",
       "      <td>1.000000</td>\n",
       "      <td>0.000000</td>\n",
       "      <td>0.000000</td>\n",
       "    </tr>\n",
       "    <tr>\n",
       "      <th>25%</th>\n",
       "      <td>51650.250000</td>\n",
       "      <td>9.000000</td>\n",
       "      <td>2.000000</td>\n",
       "      <td>0.272727</td>\n",
       "    </tr>\n",
       "    <tr>\n",
       "      <th>50%</th>\n",
       "      <td>103177.000000</td>\n",
       "      <td>18.000000</td>\n",
       "      <td>8.000000</td>\n",
       "      <td>0.500000</td>\n",
       "    </tr>\n",
       "    <tr>\n",
       "      <th>75%</th>\n",
       "      <td>154837.750000</td>\n",
       "      <td>38.000000</td>\n",
       "      <td>21.000000</td>\n",
       "      <td>0.724138</td>\n",
       "    </tr>\n",
       "    <tr>\n",
       "      <th>max</th>\n",
       "      <td>206209.000000</td>\n",
       "      <td>580.000000</td>\n",
       "      <td>477.000000</td>\n",
       "      <td>1.000000</td>\n",
       "    </tr>\n",
       "  </tbody>\n",
       "</table>\n",
       "</div>"
      ],
      "text/plain": [
       "             user_id  total_products  productos_reordenados  \\\n",
       "count  149626.000000   149626.000000          149626.000000   \n",
       "mean   103205.167778       30.375784              17.936976   \n",
       "std     59560.993992       35.873511              27.793625   \n",
       "min         2.000000        1.000000               0.000000   \n",
       "25%     51650.250000        9.000000               2.000000   \n",
       "50%    103177.000000       18.000000               8.000000   \n",
       "75%    154837.750000       38.000000              21.000000   \n",
       "max    206209.000000      580.000000             477.000000   \n",
       "\n",
       "       proporcion_productos  \n",
       "count         149626.000000  \n",
       "mean               0.494853  \n",
       "std                0.292685  \n",
       "min                0.000000  \n",
       "25%                0.272727  \n",
       "50%                0.500000  \n",
       "75%                0.724138  \n",
       "max                1.000000  "
      ]
     },
     "execution_count": 88,
     "metadata": {},
     "output_type": "execute_result"
    }
   ],
   "source": [
    "reordenadas_por_cliente.describe()"
   ]
  },
  {
   "cell_type": "code",
   "execution_count": 89,
   "id": "d3d41922",
   "metadata": {},
   "outputs": [
    {
     "data": {
      "text/plain": [
       "<AxesSubplot:>"
      ]
     },
     "execution_count": 89,
     "metadata": {},
     "output_type": "execute_result"
    },
    {
     "data": {
      "image/png": "[encoded data removed]",
      "text/plain": [
       "<Figure size 640x480 with 1 Axes>"
      ]
     },
     "metadata": {},
     "output_type": "display_data"
    }
   ],
   "source": [
    "reordenadas_por_cliente['proporcion_productos'].hist()"
   ]
  },
  {
   "cell_type": "markdown",
   "id": "BgJSvXDsleXz",
   "metadata": {
    "id": "BgJSvXDsleXz"
   },
   "source": [
    "Escribe aquí tus conclusiones\n",
    "\n",
    "En promedio, los clientes reordenan el 49 % de sus productos.\n",
    "La cantidad de personas que no reordenan es alta."
   ]
  },
  {
   "cell_type": "markdown",
   "id": "92d35137",
   "metadata": {
    "id": "92d35137"
   },
   "source": [
    "### [C5] ¿Cuáles son los 20 principales artículos que las personas ponen primero en sus carritos?"
   ]
  },
  {
   "cell_type": "code",
   "execution_count": 90,
   "id": "0ae57274",
   "metadata": {
    "id": "0ae57274",
    "scrolled": true
   },
   "outputs": [
    {
     "data": {
      "text/html": [
       "<div>\n",
       "<style scoped>\n",
       "    .dataframe tbody tr th:only-of-type {\n",
       "        vertical-align: middle;\n",
       "    }\n",
       "\n",
       "    .dataframe tbody tr th {\n",
       "        vertical-align: top;\n",
       "    }\n",
       "\n",
       "    .dataframe thead th {\n",
       "        text-align: right;\n",
       "    }\n",
       "</style>\n",
       "<table border=\"1\" class=\"dataframe\">\n",
       "  <thead>\n",
       "    <tr style=\"text-align: right;\">\n",
       "      <th></th>\n",
       "      <th>order_id</th>\n",
       "      <th>product_id</th>\n",
       "      <th>add_to_cart_order</th>\n",
       "      <th>reordered</th>\n",
       "    </tr>\n",
       "  </thead>\n",
       "  <tbody>\n",
       "    <tr>\n",
       "      <th>1</th>\n",
       "      <td>567889</td>\n",
       "      <td>1560</td>\n",
       "      <td>1</td>\n",
       "      <td>1</td>\n",
       "    </tr>\n",
       "    <tr>\n",
       "      <th>2</th>\n",
       "      <td>2261212</td>\n",
       "      <td>26683</td>\n",
       "      <td>1</td>\n",
       "      <td>1</td>\n",
       "    </tr>\n",
       "    <tr>\n",
       "      <th>14</th>\n",
       "      <td>1961225</td>\n",
       "      <td>37553</td>\n",
       "      <td>1</td>\n",
       "      <td>1</td>\n",
       "    </tr>\n",
       "    <tr>\n",
       "      <th>16</th>\n",
       "      <td>639939</td>\n",
       "      <td>10017</td>\n",
       "      <td>1</td>\n",
       "      <td>1</td>\n",
       "    </tr>\n",
       "    <tr>\n",
       "      <th>23</th>\n",
       "      <td>750040</td>\n",
       "      <td>8518</td>\n",
       "      <td>1</td>\n",
       "      <td>0</td>\n",
       "    </tr>\n",
       "    <tr>\n",
       "      <th>...</th>\n",
       "      <td>...</td>\n",
       "      <td>...</td>\n",
       "      <td>...</td>\n",
       "      <td>...</td>\n",
       "    </tr>\n",
       "    <tr>\n",
       "      <th>4544978</th>\n",
       "      <td>1759009</td>\n",
       "      <td>46175</td>\n",
       "      <td>1</td>\n",
       "      <td>0</td>\n",
       "    </tr>\n",
       "    <tr>\n",
       "      <th>4544989</th>\n",
       "      <td>115427</td>\n",
       "      <td>20842</td>\n",
       "      <td>1</td>\n",
       "      <td>1</td>\n",
       "    </tr>\n",
       "    <tr>\n",
       "      <th>4544990</th>\n",
       "      <td>2049780</td>\n",
       "      <td>28576</td>\n",
       "      <td>1</td>\n",
       "      <td>1</td>\n",
       "    </tr>\n",
       "    <tr>\n",
       "      <th>4544997</th>\n",
       "      <td>2300092</td>\n",
       "      <td>10017</td>\n",
       "      <td>1</td>\n",
       "      <td>0</td>\n",
       "    </tr>\n",
       "    <tr>\n",
       "      <th>4544999</th>\n",
       "      <td>1622300</td>\n",
       "      <td>24852</td>\n",
       "      <td>1</td>\n",
       "      <td>1</td>\n",
       "    </tr>\n",
       "  </tbody>\n",
       "</table>\n",
       "<p>450046 rows × 4 columns</p>\n",
       "</div>"
      ],
      "text/plain": [
       "         order_id  product_id  add_to_cart_order  reordered\n",
       "1          567889        1560                  1          1\n",
       "2         2261212       26683                  1          1\n",
       "14        1961225       37553                  1          1\n",
       "16         639939       10017                  1          1\n",
       "23         750040        8518                  1          0\n",
       "...           ...         ...                ...        ...\n",
       "4544978   1759009       46175                  1          0\n",
       "4544989    115427       20842                  1          1\n",
       "4544990   2049780       28576                  1          1\n",
       "4544997   2300092       10017                  1          0\n",
       "4544999   1622300       24852                  1          1\n",
       "\n",
       "[450046 rows x 4 columns]"
      ]
     },
     "execution_count": 90,
     "metadata": {},
     "output_type": "execute_result"
    }
   ],
   "source": [
    "primero_en_cart = order_products[order_products['add_to_cart_order'] == 1]\n",
    "primero_en_cart"
   ]
  },
  {
   "cell_type": "code",
   "execution_count": 91,
   "id": "forty-netherlands",
   "metadata": {
    "id": "forty-netherlands",
    "scrolled": true
   },
   "outputs": [
    {
     "data": {
      "text/html": [
       "<div>\n",
       "<style scoped>\n",
       "    .dataframe tbody tr th:only-of-type {\n",
       "        vertical-align: middle;\n",
       "    }\n",
       "\n",
       "    .dataframe tbody tr th {\n",
       "        vertical-align: top;\n",
       "    }\n",
       "\n",
       "    .dataframe thead th {\n",
       "        text-align: right;\n",
       "    }\n",
       "</style>\n",
       "<table border=\"1\" class=\"dataframe\">\n",
       "  <thead>\n",
       "    <tr style=\"text-align: right;\">\n",
       "      <th></th>\n",
       "      <th>product_id</th>\n",
       "      <th>count</th>\n",
       "    </tr>\n",
       "  </thead>\n",
       "  <tbody>\n",
       "    <tr>\n",
       "      <th>0</th>\n",
       "      <td>24852</td>\n",
       "      <td>15562</td>\n",
       "    </tr>\n",
       "    <tr>\n",
       "      <th>1</th>\n",
       "      <td>13176</td>\n",
       "      <td>11026</td>\n",
       "    </tr>\n",
       "    <tr>\n",
       "      <th>2</th>\n",
       "      <td>27845</td>\n",
       "      <td>4363</td>\n",
       "    </tr>\n",
       "    <tr>\n",
       "      <th>3</th>\n",
       "      <td>21137</td>\n",
       "      <td>3946</td>\n",
       "    </tr>\n",
       "    <tr>\n",
       "      <th>4</th>\n",
       "      <td>47209</td>\n",
       "      <td>3390</td>\n",
       "    </tr>\n",
       "    <tr>\n",
       "      <th>5</th>\n",
       "      <td>21903</td>\n",
       "      <td>3336</td>\n",
       "    </tr>\n",
       "    <tr>\n",
       "      <th>6</th>\n",
       "      <td>47766</td>\n",
       "      <td>3044</td>\n",
       "    </tr>\n",
       "    <tr>\n",
       "      <th>7</th>\n",
       "      <td>19660</td>\n",
       "      <td>2336</td>\n",
       "    </tr>\n",
       "    <tr>\n",
       "      <th>8</th>\n",
       "      <td>16797</td>\n",
       "      <td>2308</td>\n",
       "    </tr>\n",
       "    <tr>\n",
       "      <th>9</th>\n",
       "      <td>27966</td>\n",
       "      <td>2024</td>\n",
       "    </tr>\n",
       "    <tr>\n",
       "      <th>10</th>\n",
       "      <td>44632</td>\n",
       "      <td>1914</td>\n",
       "    </tr>\n",
       "    <tr>\n",
       "      <th>11</th>\n",
       "      <td>49235</td>\n",
       "      <td>1797</td>\n",
       "    </tr>\n",
       "    <tr>\n",
       "      <th>12</th>\n",
       "      <td>47626</td>\n",
       "      <td>1737</td>\n",
       "    </tr>\n",
       "    <tr>\n",
       "      <th>13</th>\n",
       "      <td>196</td>\n",
       "      <td>1733</td>\n",
       "    </tr>\n",
       "    <tr>\n",
       "      <th>14</th>\n",
       "      <td>38689</td>\n",
       "      <td>1397</td>\n",
       "    </tr>\n",
       "    <tr>\n",
       "      <th>15</th>\n",
       "      <td>26209</td>\n",
       "      <td>1370</td>\n",
       "    </tr>\n",
       "    <tr>\n",
       "      <th>16</th>\n",
       "      <td>12341</td>\n",
       "      <td>1340</td>\n",
       "    </tr>\n",
       "    <tr>\n",
       "      <th>17</th>\n",
       "      <td>5785</td>\n",
       "      <td>1310</td>\n",
       "    </tr>\n",
       "    <tr>\n",
       "      <th>18</th>\n",
       "      <td>27086</td>\n",
       "      <td>1309</td>\n",
       "    </tr>\n",
       "    <tr>\n",
       "      <th>19</th>\n",
       "      <td>22935</td>\n",
       "      <td>1246</td>\n",
       "    </tr>\n",
       "  </tbody>\n",
       "</table>\n",
       "</div>"
      ],
      "text/plain": [
       "    product_id  count\n",
       "0        24852  15562\n",
       "1        13176  11026\n",
       "2        27845   4363\n",
       "3        21137   3946\n",
       "4        47209   3390\n",
       "5        21903   3336\n",
       "6        47766   3044\n",
       "7        19660   2336\n",
       "8        16797   2308\n",
       "9        27966   2024\n",
       "10       44632   1914\n",
       "11       49235   1797\n",
       "12       47626   1737\n",
       "13         196   1733\n",
       "14       38689   1397\n",
       "15       26209   1370\n",
       "16       12341   1340\n",
       "17        5785   1310\n",
       "18       27086   1309\n",
       "19       22935   1246"
      ]
     },
     "execution_count": 91,
     "metadata": {},
     "output_type": "execute_result"
    }
   ],
   "source": [
    "primero_en_cart_cuenta = primero_en_cart['product_id'].value_counts().reset_index()\n",
    "primero_en_cart_cuenta.columns = ['product_id', 'count']\n",
    "top_20_primeros_car = primero_en_cart_cuenta.head(20)\n",
    "top_20_primeros_car"
   ]
  },
  {
   "cell_type": "code",
   "execution_count": 92,
   "id": "08e41ec2",
   "metadata": {
    "id": "08e41ec2"
   },
   "outputs": [
    {
     "data": {
      "text/html": [
       "<div>\n",
       "<style scoped>\n",
       "    .dataframe tbody tr th:only-of-type {\n",
       "        vertical-align: middle;\n",
       "    }\n",
       "\n",
       "    .dataframe tbody tr th {\n",
       "        vertical-align: top;\n",
       "    }\n",
       "\n",
       "    .dataframe thead th {\n",
       "        text-align: right;\n",
       "    }\n",
       "</style>\n",
       "<table border=\"1\" class=\"dataframe\">\n",
       "  <thead>\n",
       "    <tr style=\"text-align: right;\">\n",
       "      <th></th>\n",
       "      <th>product_id</th>\n",
       "      <th>count</th>\n",
       "      <th>product_name</th>\n",
       "      <th>aisle_id</th>\n",
       "      <th>department_id</th>\n",
       "    </tr>\n",
       "  </thead>\n",
       "  <tbody>\n",
       "    <tr>\n",
       "      <th>0</th>\n",
       "      <td>24852</td>\n",
       "      <td>15562</td>\n",
       "      <td>Banana</td>\n",
       "      <td>24</td>\n",
       "      <td>4</td>\n",
       "    </tr>\n",
       "    <tr>\n",
       "      <th>1</th>\n",
       "      <td>13176</td>\n",
       "      <td>11026</td>\n",
       "      <td>Bag of Organic Bananas</td>\n",
       "      <td>24</td>\n",
       "      <td>4</td>\n",
       "    </tr>\n",
       "    <tr>\n",
       "      <th>2</th>\n",
       "      <td>27845</td>\n",
       "      <td>4363</td>\n",
       "      <td>Organic Whole Milk</td>\n",
       "      <td>84</td>\n",
       "      <td>16</td>\n",
       "    </tr>\n",
       "    <tr>\n",
       "      <th>3</th>\n",
       "      <td>21137</td>\n",
       "      <td>3946</td>\n",
       "      <td>Organic Strawberries</td>\n",
       "      <td>24</td>\n",
       "      <td>4</td>\n",
       "    </tr>\n",
       "    <tr>\n",
       "      <th>4</th>\n",
       "      <td>47209</td>\n",
       "      <td>3390</td>\n",
       "      <td>Organic Hass Avocado</td>\n",
       "      <td>24</td>\n",
       "      <td>4</td>\n",
       "    </tr>\n",
       "    <tr>\n",
       "      <th>5</th>\n",
       "      <td>21903</td>\n",
       "      <td>3336</td>\n",
       "      <td>Organic Baby Spinach</td>\n",
       "      <td>123</td>\n",
       "      <td>4</td>\n",
       "    </tr>\n",
       "    <tr>\n",
       "      <th>6</th>\n",
       "      <td>47766</td>\n",
       "      <td>3044</td>\n",
       "      <td>Organic Avocado</td>\n",
       "      <td>24</td>\n",
       "      <td>4</td>\n",
       "    </tr>\n",
       "    <tr>\n",
       "      <th>7</th>\n",
       "      <td>19660</td>\n",
       "      <td>2336</td>\n",
       "      <td>Spring Water</td>\n",
       "      <td>115</td>\n",
       "      <td>7</td>\n",
       "    </tr>\n",
       "    <tr>\n",
       "      <th>8</th>\n",
       "      <td>16797</td>\n",
       "      <td>2308</td>\n",
       "      <td>Strawberries</td>\n",
       "      <td>24</td>\n",
       "      <td>4</td>\n",
       "    </tr>\n",
       "    <tr>\n",
       "      <th>9</th>\n",
       "      <td>27966</td>\n",
       "      <td>2024</td>\n",
       "      <td>Organic Raspberries</td>\n",
       "      <td>123</td>\n",
       "      <td>4</td>\n",
       "    </tr>\n",
       "    <tr>\n",
       "      <th>10</th>\n",
       "      <td>44632</td>\n",
       "      <td>1914</td>\n",
       "      <td>Sparkling Water Grapefruit</td>\n",
       "      <td>115</td>\n",
       "      <td>7</td>\n",
       "    </tr>\n",
       "    <tr>\n",
       "      <th>11</th>\n",
       "      <td>49235</td>\n",
       "      <td>1797</td>\n",
       "      <td>Organic Half &amp; Half</td>\n",
       "      <td>53</td>\n",
       "      <td>16</td>\n",
       "    </tr>\n",
       "    <tr>\n",
       "      <th>12</th>\n",
       "      <td>47626</td>\n",
       "      <td>1737</td>\n",
       "      <td>Large Lemon</td>\n",
       "      <td>24</td>\n",
       "      <td>4</td>\n",
       "    </tr>\n",
       "    <tr>\n",
       "      <th>13</th>\n",
       "      <td>196</td>\n",
       "      <td>1733</td>\n",
       "      <td>Soda</td>\n",
       "      <td>77</td>\n",
       "      <td>7</td>\n",
       "    </tr>\n",
       "    <tr>\n",
       "      <th>14</th>\n",
       "      <td>38689</td>\n",
       "      <td>1397</td>\n",
       "      <td>Organic Reduced Fat Milk</td>\n",
       "      <td>84</td>\n",
       "      <td>16</td>\n",
       "    </tr>\n",
       "    <tr>\n",
       "      <th>15</th>\n",
       "      <td>26209</td>\n",
       "      <td>1370</td>\n",
       "      <td>Limes</td>\n",
       "      <td>24</td>\n",
       "      <td>4</td>\n",
       "    </tr>\n",
       "    <tr>\n",
       "      <th>16</th>\n",
       "      <td>12341</td>\n",
       "      <td>1340</td>\n",
       "      <td>Hass Avocados</td>\n",
       "      <td>32</td>\n",
       "      <td>4</td>\n",
       "    </tr>\n",
       "    <tr>\n",
       "      <th>17</th>\n",
       "      <td>5785</td>\n",
       "      <td>1310</td>\n",
       "      <td>Organic Reduced Fat 2% Milk</td>\n",
       "      <td>84</td>\n",
       "      <td>16</td>\n",
       "    </tr>\n",
       "    <tr>\n",
       "      <th>18</th>\n",
       "      <td>27086</td>\n",
       "      <td>1309</td>\n",
       "      <td>Half &amp; Half</td>\n",
       "      <td>53</td>\n",
       "      <td>16</td>\n",
       "    </tr>\n",
       "    <tr>\n",
       "      <th>19</th>\n",
       "      <td>22935</td>\n",
       "      <td>1246</td>\n",
       "      <td>Organic Yellow Onion</td>\n",
       "      <td>83</td>\n",
       "      <td>4</td>\n",
       "    </tr>\n",
       "  </tbody>\n",
       "</table>\n",
       "</div>"
      ],
      "text/plain": [
       "    product_id  count                 product_name  aisle_id  department_id\n",
       "0        24852  15562                       Banana        24              4\n",
       "1        13176  11026       Bag of Organic Bananas        24              4\n",
       "2        27845   4363           Organic Whole Milk        84             16\n",
       "3        21137   3946         Organic Strawberries        24              4\n",
       "4        47209   3390         Organic Hass Avocado        24              4\n",
       "5        21903   3336         Organic Baby Spinach       123              4\n",
       "6        47766   3044              Organic Avocado        24              4\n",
       "7        19660   2336                 Spring Water       115              7\n",
       "8        16797   2308                 Strawberries        24              4\n",
       "9        27966   2024          Organic Raspberries       123              4\n",
       "10       44632   1914   Sparkling Water Grapefruit       115              7\n",
       "11       49235   1797          Organic Half & Half        53             16\n",
       "12       47626   1737                  Large Lemon        24              4\n",
       "13         196   1733                         Soda        77              7\n",
       "14       38689   1397     Organic Reduced Fat Milk        84             16\n",
       "15       26209   1370                        Limes        24              4\n",
       "16       12341   1340                Hass Avocados        32              4\n",
       "17        5785   1310  Organic Reduced Fat 2% Milk        84             16\n",
       "18       27086   1309                  Half & Half        53             16\n",
       "19       22935   1246         Organic Yellow Onion        83              4"
      ]
     },
     "execution_count": 92,
     "metadata": {},
     "output_type": "execute_result"
    }
   ],
   "source": [
    "top_20_primeros_car = top_20_primeros_car.merge(products, on='product_id', how='left')\n",
    "top_20_primeros_car"
   ]
  },
  {
   "cell_type": "markdown",
   "id": "28ce9872",
   "metadata": {
    "id": "28ce9872"
   },
   "source": [
    "Escribe aquí tus conclusiones.\n",
    "Nuevamente los productos de la canasta básica (víveres) son los que primero se colocan en el carrito de compra, en general son los que más se venden, los que más se reordenan y los primeros que se ponen."
   ]
  },
  {
   "cell_type": "markdown",
   "id": "10a1c066",
   "metadata": {},
   "source": [
    "<div class=\"alert alert-block alert-success\">\n",
    "<b>Comentario del revisor</b> <a class=\"tocSkip\"></a>\n",
    "\n",
    "Muy buen desarrollo de la sección. Desarrollaste de buena manera todos los análisis y lo complementaste con una gráfica. \n",
    "</div>"
   ]
  },
  {
   "cell_type": "markdown",
   "id": "uITbFCEoDosC",
   "metadata": {
    "id": "uITbFCEoDosC"
   },
   "source": [
    "### Conclusion general del proyecto:"
   ]
  },
  {
   "cell_type": "markdown",
   "id": "4383b8c1",
   "metadata": {
    "id": "Nk-4GS7mDwqY"
   },
   "source": [
    "### Conclusión general del proyecto\n",
    "* La mayoría de las personas que utilizan esta aplicación para realizar sus compras, realiza pocas órdenes. \n",
    "* El día domingo es cuando se realizan más compras.\n",
    "* Los víveres son las cosas que más se comprar, las que más se reordenan y las que colocan primero en el carrito de compra.\n",
    "* Existe una cantidad alta de personas que no reordenan, pero en general, los usuarios si lo hacen y presentan porcentajes de reordenamiento altos, en promedio 49%.\n",
    "\n",
    "### Conclusión general de lo que aprendí\n",
    "* Es importante conocer los archivos que tenemos disponibles, por ejemplo, saber con qué tipo de separador cuentan.\n",
    "* Conocer que tipos de datos tenemos y conocer la definición de las columnas y como se relacionan las tablas entre sí.\n",
    "* Es necesario limpiar los datos, eliminando duplicados, rellenando valor nulos y uniformando el contenido de las columnas.\n",
    "* Realizar un análisis detallado, buscando conclusiones generales e identificando patrones específicos, en este caso mediante herramientas como groupby, subset, funciones de sum y count y gráficas y tablas para una mejor comprensión y lectura de los hechos.\n"
   ]
  },
  {
   "cell_type": "markdown",
   "id": "e642af07",
   "metadata": {},
   "source": [
    "<div class=\"alert alert-block alert-warning\">\n",
    "<b>Comentario revisor</b> <a class=\"tocSkip\"></a>\n",
    "\n",
    "En general creo que hiciste un muy buen trabajo con el proyecto, pudiste limpiar y trabajar las bases de datos de beuna manera, análisis de duplicados, y de valores faltantes. Además dearrollaste de buena manera los diferentes anális que se solicitaban y cuando podías los complementabas con greaficas. No obstante, recuerda que siempre podemos mejorar y te menciono algunos puntos que debes considerar:\n",
    "\n",
    "* Revisar que los filtros sean correctos en algunos apartados con base en la indicación\n",
    "    \n",
    "    \n",
    "*  Realizar análisis complementarios eliminando los valores que parecen ser atípicos. \n",
    "    \n",
    "*  Realizar gráficas de barras en algunos análisis para complementarlos.\n",
    "    \n",
    "*  Profundizar en los resultados intermedios y en la conclusión final.\n",
    "\n",
    "</div>"
   ]
  },
  {
   "cell_type": "markdown",
   "id": "16ca53e4",
   "metadata": {},
   "source": [
    "<div class=\"alert alert-block alert-info\">\n",
    "<b>Se realizaron las correcciones sugeridas.</b> <a class=\"tocSkip\"></a>\n",
    "</div>"
   ]
  }
 ],
 "metadata": {
  "ExecuteTimeLog": [
   {
    "duration": 522,
    "start_time": "2024-07-08T20:29:13.752Z"
   },
   {
    "duration": 4,
    "start_time": "2024-07-08T20:29:15.889Z"
   },
   {
    "duration": 4566,
    "start_time": "2024-07-08T20:29:16.891Z"
   },
   {
    "duration": 4325,
    "start_time": "2024-07-08T20:29:22.792Z"
   },
   {
    "duration": 38,
    "start_time": "2024-07-08T20:29:50.095Z"
   },
   {
    "duration": 46,
    "start_time": "2024-07-08T20:35:24.427Z"
   },
   {
    "duration": 516,
    "start_time": "2024-07-08T20:38:09.683Z"
   },
   {
    "duration": 4290,
    "start_time": "2024-07-08T20:38:11.014Z"
   },
   {
    "duration": 47,
    "start_time": "2024-07-08T20:38:15.307Z"
   },
   {
    "duration": 4055,
    "start_time": "2024-07-08T20:42:26.354Z"
   },
   {
    "duration": 36,
    "start_time": "2024-07-08T20:42:30.619Z"
   },
   {
    "duration": 22,
    "start_time": "2024-07-08T21:04:37.432Z"
   },
   {
    "duration": 24,
    "start_time": "2024-07-08T21:04:46.434Z"
   },
   {
    "duration": 1612,
    "start_time": "2024-07-08T21:04:54.646Z"
   },
   {
    "duration": 24,
    "start_time": "2024-07-08T21:04:56.262Z"
   },
   {
    "duration": 26,
    "start_time": "2024-07-08T21:04:58.585Z"
   },
   {
    "duration": 21,
    "start_time": "2024-07-08T21:05:28.343Z"
   },
   {
    "duration": 27,
    "start_time": "2024-07-08T21:09:02.432Z"
   },
   {
    "duration": 30,
    "start_time": "2024-07-08T21:09:29.696Z"
   },
   {
    "duration": 386,
    "start_time": "2024-07-08T21:18:53.648Z"
   },
   {
    "duration": 4,
    "start_time": "2024-07-08T21:18:57.476Z"
   },
   {
    "duration": 1909,
    "start_time": "2024-07-08T21:18:58.648Z"
   },
   {
    "duration": 30,
    "start_time": "2024-07-08T21:19:00.561Z"
   },
   {
    "duration": 26,
    "start_time": "2024-07-08T21:19:03.965Z"
   },
   {
    "duration": 26,
    "start_time": "2024-07-08T21:19:06.034Z"
   },
   {
    "duration": 23,
    "start_time": "2024-07-08T21:19:08.321Z"
   },
   {
    "duration": 33,
    "start_time": "2024-07-08T21:19:10.148Z"
   },
   {
    "duration": 211,
    "start_time": "2024-07-08T21:23:26.402Z"
   },
   {
    "duration": 33,
    "start_time": "2024-07-08T21:24:12.305Z"
   },
   {
    "duration": 8,
    "start_time": "2024-07-08T21:24:52.610Z"
   },
   {
    "duration": 8,
    "start_time": "2024-07-08T21:25:07.639Z"
   },
   {
    "duration": 1572,
    "start_time": "2024-07-08T21:25:29.120Z"
   },
   {
    "duration": 306,
    "start_time": "2024-07-08T22:52:13.443Z"
   },
   {
    "duration": 21,
    "start_time": "2024-07-08T22:52:21.288Z"
   },
   {
    "duration": 499,
    "start_time": "2024-07-08T22:52:33.273Z"
   },
   {
    "duration": 1967,
    "start_time": "2024-07-08T22:52:33.958Z"
   },
   {
    "duration": 31,
    "start_time": "2024-07-08T22:52:35.929Z"
   },
   {
    "duration": 51,
    "start_time": "2024-07-08T22:52:35.963Z"
   },
   {
    "duration": 25,
    "start_time": "2024-07-08T22:52:38.339Z"
   },
   {
    "duration": 25,
    "start_time": "2024-07-08T22:52:40.671Z"
   },
   {
    "duration": 27,
    "start_time": "2024-07-08T22:52:42.668Z"
   },
   {
    "duration": 19,
    "start_time": "2024-07-08T22:52:45.008Z"
   },
   {
    "duration": 18,
    "start_time": "2024-07-08T22:52:47.139Z"
   },
   {
    "duration": 1006,
    "start_time": "2024-07-08T22:52:51.461Z"
   },
   {
    "duration": 187,
    "start_time": "2024-07-08T22:53:18.855Z"
   },
   {
    "duration": 170,
    "start_time": "2024-07-08T22:53:40.369Z"
   },
   {
    "duration": 188,
    "start_time": "2024-07-08T22:54:57.932Z"
   },
   {
    "duration": 377,
    "start_time": "2024-07-08T22:55:44.408Z"
   },
   {
    "duration": 167,
    "start_time": "2024-07-08T22:56:09.155Z"
   },
   {
    "duration": 180,
    "start_time": "2024-07-08T22:57:04.901Z"
   },
   {
    "duration": 167,
    "start_time": "2024-07-08T22:57:36.374Z"
   },
   {
    "duration": 25,
    "start_time": "2024-07-08T23:02:55.924Z"
   },
   {
    "duration": 30,
    "start_time": "2024-07-08T23:03:07.941Z"
   },
   {
    "duration": 22,
    "start_time": "2024-07-08T23:03:36.677Z"
   },
   {
    "duration": 77,
    "start_time": "2024-07-08T23:06:10.009Z"
   },
   {
    "duration": 5,
    "start_time": "2024-07-08T23:06:47.883Z"
   },
   {
    "duration": 9,
    "start_time": "2024-07-08T23:07:06.418Z"
   },
   {
    "duration": 74,
    "start_time": "2024-07-08T23:07:59.404Z"
   },
   {
    "duration": 17,
    "start_time": "2024-07-08T23:10:16.571Z"
   },
   {
    "duration": 9,
    "start_time": "2024-07-08T23:10:50.504Z"
   },
   {
    "duration": 14,
    "start_time": "2024-07-08T23:11:31.876Z"
   },
   {
    "duration": 12,
    "start_time": "2024-07-08T23:13:03.757Z"
   },
   {
    "duration": 40,
    "start_time": "2024-07-08T23:14:34.262Z"
   },
   {
    "duration": 4,
    "start_time": "2024-07-08T23:15:41.158Z"
   },
   {
    "duration": 5,
    "start_time": "2024-07-08T23:15:49.468Z"
   },
   {
    "duration": 22,
    "start_time": "2024-07-08T23:16:04.624Z"
   },
   {
    "duration": 19,
    "start_time": "2024-07-08T23:16:16.011Z"
   },
   {
    "duration": 704,
    "start_time": "2024-07-08T23:18:06.369Z"
   },
   {
    "duration": 59,
    "start_time": "2024-07-08T23:20:13.004Z"
   },
   {
    "duration": 22,
    "start_time": "2024-07-08T23:20:39.164Z"
   },
   {
    "duration": 252,
    "start_time": "2024-07-08T23:20:58.665Z"
   },
   {
    "duration": 5,
    "start_time": "2024-07-08T23:22:20.244Z"
   },
   {
    "duration": 20,
    "start_time": "2024-07-08T23:22:36.454Z"
   },
   {
    "duration": 19,
    "start_time": "2024-07-08T23:22:49.099Z"
   },
   {
    "duration": 37,
    "start_time": "2024-07-08T23:23:25.587Z"
   },
   {
    "duration": 20,
    "start_time": "2024-07-08T23:23:56.563Z"
   },
   {
    "duration": 22,
    "start_time": "2024-07-08T23:30:18.508Z"
   },
   {
    "duration": 103,
    "start_time": "2024-07-08T23:31:48.051Z"
   },
   {
    "duration": 22,
    "start_time": "2024-07-08T23:36:59.499Z"
   },
   {
    "duration": 9,
    "start_time": "2024-07-08T23:37:44.370Z"
   },
   {
    "duration": 10,
    "start_time": "2024-07-08T23:38:09.090Z"
   },
   {
    "duration": 1400,
    "start_time": "2024-07-08T23:39:47.344Z"
   },
   {
    "duration": 1375,
    "start_time": "2024-07-08T23:39:48.746Z"
   },
   {
    "duration": 7,
    "start_time": "2024-07-08T23:42:39.314Z"
   },
   {
    "duration": 18,
    "start_time": "2024-07-08T23:42:55.182Z"
   },
   {
    "duration": 34,
    "start_time": "2024-07-08T23:49:15.132Z"
   },
   {
    "duration": 150,
    "start_time": "2024-07-08T23:49:38.852Z"
   },
   {
    "duration": 29,
    "start_time": "2024-07-08T23:49:49.706Z"
   },
   {
    "duration": 51,
    "start_time": "2024-07-08T23:50:21.756Z"
   },
   {
    "duration": 29,
    "start_time": "2024-07-08T23:52:20.306Z"
   },
   {
    "duration": 34,
    "start_time": "2024-07-08T23:53:24.341Z"
   },
   {
    "duration": 32,
    "start_time": "2024-07-08T23:53:49.639Z"
   },
   {
    "duration": 20,
    "start_time": "2024-07-08T23:58:11.988Z"
   },
   {
    "duration": 53,
    "start_time": "2024-07-09T00:01:16.623Z"
   },
   {
    "duration": 37,
    "start_time": "2024-07-09T00:08:10.941Z"
   },
   {
    "duration": 9,
    "start_time": "2024-07-09T00:09:02.497Z"
   },
   {
    "duration": 31,
    "start_time": "2024-07-09T00:15:31.586Z"
   },
   {
    "duration": 22,
    "start_time": "2024-07-09T00:17:23.709Z"
   },
   {
    "duration": 21,
    "start_time": "2024-07-09T00:17:32.522Z"
   },
   {
    "duration": 11,
    "start_time": "2024-07-09T00:17:57.606Z"
   },
   {
    "duration": 10,
    "start_time": "2024-07-09T00:20:37.965Z"
   },
   {
    "duration": 27,
    "start_time": "2024-07-09T00:41:51.597Z"
   },
   {
    "duration": 50,
    "start_time": "2024-07-09T00:42:12.010Z"
   },
   {
    "duration": 27,
    "start_time": "2024-07-09T00:42:39.925Z"
   },
   {
    "duration": 28,
    "start_time": "2024-07-09T00:42:41.104Z"
   },
   {
    "duration": 10,
    "start_time": "2024-07-09T00:43:54.977Z"
   },
   {
    "duration": 82,
    "start_time": "2024-07-09T00:50:52.656Z"
   },
   {
    "duration": 76,
    "start_time": "2024-07-09T00:51:06.518Z"
   },
   {
    "duration": 10,
    "start_time": "2024-07-09T00:52:03.071Z"
   },
   {
    "duration": 23,
    "start_time": "2024-07-09T00:52:43.677Z"
   },
   {
    "duration": 18,
    "start_time": "2024-07-09T00:52:49.279Z"
   },
   {
    "duration": 88,
    "start_time": "2024-07-09T00:53:12.442Z"
   },
   {
    "duration": 80,
    "start_time": "2024-07-09T00:53:44.976Z"
   },
   {
    "duration": 12,
    "start_time": "2024-07-09T00:55:00.972Z"
   },
   {
    "duration": 17,
    "start_time": "2024-07-09T00:56:24.610Z"
   },
   {
    "duration": 13,
    "start_time": "2024-07-09T00:57:35.130Z"
   },
   {
    "duration": 19,
    "start_time": "2024-07-09T00:57:46.937Z"
   },
   {
    "duration": 75,
    "start_time": "2024-07-09T00:59:58.768Z"
   },
   {
    "duration": 12,
    "start_time": "2024-07-09T01:00:27.418Z"
   },
   {
    "duration": 7,
    "start_time": "2024-07-09T01:01:27.196Z"
   },
   {
    "duration": 7,
    "start_time": "2024-07-09T01:01:30.700Z"
   },
   {
    "duration": 75,
    "start_time": "2024-07-09T01:01:49.200Z"
   },
   {
    "duration": 9,
    "start_time": "2024-07-09T01:03:56.841Z"
   },
   {
    "duration": 9,
    "start_time": "2024-07-09T01:06:34.569Z"
   },
   {
    "duration": 5,
    "start_time": "2024-07-09T01:06:49.404Z"
   },
   {
    "duration": 5,
    "start_time": "2024-07-09T01:07:03.657Z"
   },
   {
    "duration": 77,
    "start_time": "2024-07-09T01:07:17.768Z"
   },
   {
    "duration": 9,
    "start_time": "2024-07-09T01:08:20.126Z"
   },
   {
    "duration": 9,
    "start_time": "2024-07-09T01:08:23.648Z"
   },
   {
    "duration": 80,
    "start_time": "2024-07-09T01:08:49.830Z"
   },
   {
    "duration": 326,
    "start_time": "2024-07-09T03:37:08.817Z"
   },
   {
    "duration": 29,
    "start_time": "2024-07-09T03:37:23.014Z"
   },
   {
    "duration": 23,
    "start_time": "2024-07-09T03:37:25.019Z"
   },
   {
    "duration": 24,
    "start_time": "2024-07-09T03:37:52.484Z"
   },
   {
    "duration": 22,
    "start_time": "2024-07-09T03:37:57.074Z"
   },
   {
    "duration": 559,
    "start_time": "2024-07-09T03:38:07.255Z"
   },
   {
    "duration": 1717,
    "start_time": "2024-07-09T03:38:07.818Z"
   },
   {
    "duration": 35,
    "start_time": "2024-07-09T03:38:09.538Z"
   },
   {
    "duration": 53,
    "start_time": "2024-07-09T03:38:09.577Z"
   },
   {
    "duration": 25,
    "start_time": "2024-07-09T03:38:09.634Z"
   },
   {
    "duration": 25,
    "start_time": "2024-07-09T03:38:09.664Z"
   },
   {
    "duration": 55,
    "start_time": "2024-07-09T03:38:09.693Z"
   },
   {
    "duration": 231,
    "start_time": "2024-07-09T03:38:09.753Z"
   },
   {
    "duration": 251,
    "start_time": "2024-07-09T03:38:09.987Z"
   },
   {
    "duration": 11,
    "start_time": "2024-07-09T03:38:10.242Z"
   },
   {
    "duration": 21,
    "start_time": "2024-07-09T03:38:10.256Z"
   },
   {
    "duration": 155,
    "start_time": "2024-07-09T03:38:10.280Z"
   },
   {
    "duration": 4,
    "start_time": "2024-07-09T03:38:10.438Z"
   },
   {
    "duration": 3,
    "start_time": "2024-07-09T03:38:10.451Z"
   },
   {
    "duration": 4,
    "start_time": "2024-07-09T03:38:10.458Z"
   },
   {
    "duration": 79,
    "start_time": "2024-07-09T03:38:10.464Z"
   },
   {
    "duration": 25,
    "start_time": "2024-07-09T03:38:10.546Z"
   },
   {
    "duration": 50,
    "start_time": "2024-07-09T03:38:10.574Z"
   },
   {
    "duration": 31,
    "start_time": "2024-07-09T03:38:10.632Z"
   },
   {
    "duration": 57,
    "start_time": "2024-07-09T03:38:10.666Z"
   },
   {
    "duration": 50,
    "start_time": "2024-07-09T03:38:10.726Z"
   },
   {
    "duration": 7,
    "start_time": "2024-07-09T03:38:10.779Z"
   },
   {
    "duration": 41,
    "start_time": "2024-07-09T03:38:10.790Z"
   },
   {
    "duration": 10,
    "start_time": "2024-07-09T03:38:10.835Z"
   },
   {
    "duration": 9,
    "start_time": "2024-07-09T03:38:10.849Z"
   },
   {
    "duration": 60,
    "start_time": "2024-07-09T03:38:10.863Z"
   },
   {
    "duration": 11,
    "start_time": "2024-07-09T03:38:10.926Z"
   },
   {
    "duration": 1544,
    "start_time": "2024-07-09T03:38:10.941Z"
   },
   {
    "duration": 1505,
    "start_time": "2024-07-09T03:38:12.488Z"
   },
   {
    "duration": 4,
    "start_time": "2024-07-09T03:38:13.997Z"
   },
   {
    "duration": 27,
    "start_time": "2024-07-09T03:38:14.004Z"
   },
   {
    "duration": 23,
    "start_time": "2024-07-09T03:38:14.034Z"
   },
   {
    "duration": 12,
    "start_time": "2024-07-09T03:38:14.061Z"
   },
   {
    "duration": 49,
    "start_time": "2024-07-09T03:38:14.077Z"
   },
   {
    "duration": 3,
    "start_time": "2024-07-09T03:38:14.130Z"
   },
   {
    "duration": 1213,
    "start_time": "2024-07-09T03:38:14.137Z"
   },
   {
    "duration": 0,
    "start_time": "2024-07-09T03:38:15.353Z"
   },
   {
    "duration": 0,
    "start_time": "2024-07-09T03:38:15.357Z"
   },
   {
    "duration": 0,
    "start_time": "2024-07-09T03:38:15.359Z"
   },
   {
    "duration": 0,
    "start_time": "2024-07-09T03:38:15.362Z"
   },
   {
    "duration": 0,
    "start_time": "2024-07-09T03:38:15.364Z"
   },
   {
    "duration": 0,
    "start_time": "2024-07-09T03:38:15.367Z"
   },
   {
    "duration": 0,
    "start_time": "2024-07-09T03:38:15.369Z"
   },
   {
    "duration": 0,
    "start_time": "2024-07-09T03:38:15.371Z"
   },
   {
    "duration": 8,
    "start_time": "2024-07-09T03:46:59.887Z"
   },
   {
    "duration": 13,
    "start_time": "2024-07-09T03:47:29.621Z"
   },
   {
    "duration": 13,
    "start_time": "2024-07-09T03:47:47.151Z"
   },
   {
    "duration": 27,
    "start_time": "2024-07-09T03:52:00.309Z"
   },
   {
    "duration": 486,
    "start_time": "2024-07-09T16:34:01.268Z"
   },
   {
    "duration": 1667,
    "start_time": "2024-07-09T16:34:01.757Z"
   },
   {
    "duration": 32,
    "start_time": "2024-07-09T16:34:03.427Z"
   },
   {
    "duration": 51,
    "start_time": "2024-07-09T16:34:03.463Z"
   },
   {
    "duration": 19,
    "start_time": "2024-07-09T16:34:03.517Z"
   },
   {
    "duration": 20,
    "start_time": "2024-07-09T16:34:03.538Z"
   },
   {
    "duration": 56,
    "start_time": "2024-07-09T16:34:03.561Z"
   },
   {
    "duration": 190,
    "start_time": "2024-07-09T16:34:03.620Z"
   },
   {
    "duration": 188,
    "start_time": "2024-07-09T16:34:03.812Z"
   },
   {
    "duration": 11,
    "start_time": "2024-07-09T16:34:04.009Z"
   },
   {
    "duration": 19,
    "start_time": "2024-07-09T16:34:04.024Z"
   },
   {
    "duration": 144,
    "start_time": "2024-07-09T16:34:04.049Z"
   },
   {
    "duration": 13,
    "start_time": "2024-07-09T16:34:04.196Z"
   },
   {
    "duration": 3,
    "start_time": "2024-07-09T16:34:04.212Z"
   },
   {
    "duration": 4,
    "start_time": "2024-07-09T16:34:04.218Z"
   },
   {
    "duration": 27,
    "start_time": "2024-07-09T16:34:04.225Z"
   },
   {
    "duration": 56,
    "start_time": "2024-07-09T16:34:04.254Z"
   },
   {
    "duration": 21,
    "start_time": "2024-07-09T16:34:04.313Z"
   },
   {
    "duration": 29,
    "start_time": "2024-07-09T16:34:04.337Z"
   },
   {
    "duration": 66,
    "start_time": "2024-07-09T16:34:04.369Z"
   },
   {
    "duration": 44,
    "start_time": "2024-07-09T16:34:04.438Z"
   },
   {
    "duration": 6,
    "start_time": "2024-07-09T16:34:04.508Z"
   },
   {
    "duration": 9,
    "start_time": "2024-07-09T16:34:04.518Z"
   },
   {
    "duration": 13,
    "start_time": "2024-07-09T16:34:04.531Z"
   },
   {
    "duration": 8,
    "start_time": "2024-07-09T16:34:04.547Z"
   },
   {
    "duration": 62,
    "start_time": "2024-07-09T16:34:04.557Z"
   },
   {
    "duration": 10,
    "start_time": "2024-07-09T16:34:04.622Z"
   },
   {
    "duration": 1400,
    "start_time": "2024-07-09T16:34:04.639Z"
   },
   {
    "duration": 1425,
    "start_time": "2024-07-09T16:34:06.043Z"
   },
   {
    "duration": 4,
    "start_time": "2024-07-09T16:34:07.471Z"
   },
   {
    "duration": 32,
    "start_time": "2024-07-09T16:34:07.479Z"
   },
   {
    "duration": 26,
    "start_time": "2024-07-09T16:34:07.515Z"
   },
   {
    "duration": 18,
    "start_time": "2024-07-09T16:34:07.544Z"
   },
   {
    "duration": 43,
    "start_time": "2024-07-09T16:34:07.565Z"
   },
   {
    "duration": 3,
    "start_time": "2024-07-09T16:34:07.612Z"
   },
   {
    "duration": 8,
    "start_time": "2024-07-09T16:34:07.619Z"
   },
   {
    "duration": 11,
    "start_time": "2024-07-09T16:34:07.630Z"
   },
   {
    "duration": 12,
    "start_time": "2024-07-09T16:34:07.644Z"
   },
   {
    "duration": 50,
    "start_time": "2024-07-09T16:34:07.659Z"
   },
   {
    "duration": 20,
    "start_time": "2024-07-09T16:34:07.713Z"
   },
   {
    "duration": 30,
    "start_time": "2024-07-09T16:34:07.736Z"
   },
   {
    "duration": 64,
    "start_time": "2024-07-09T16:34:07.769Z"
   },
   {
    "duration": 32,
    "start_time": "2024-07-09T16:34:07.836Z"
   },
   {
    "duration": 40,
    "start_time": "2024-07-09T16:34:07.870Z"
   },
   {
    "duration": 4,
    "start_time": "2024-07-09T16:34:07.912Z"
   },
   {
    "duration": 3,
    "start_time": "2024-07-09T16:34:07.919Z"
   },
   {
    "duration": 5,
    "start_time": "2024-07-09T16:42:18.737Z"
   },
   {
    "duration": 11,
    "start_time": "2024-07-09T16:42:44.677Z"
   },
   {
    "duration": 359,
    "start_time": "2024-07-09T16:59:07.718Z"
   },
   {
    "duration": 528,
    "start_time": "2024-07-09T16:59:51.272Z"
   },
   {
    "duration": 560,
    "start_time": "2024-07-09T17:01:03.327Z"
   },
   {
    "duration": 4,
    "start_time": "2024-07-09T17:01:13.626Z"
   },
   {
    "duration": 1502,
    "start_time": "2024-07-09T17:01:14.492Z"
   },
   {
    "duration": 3,
    "start_time": "2024-07-09T17:01:16.083Z"
   },
   {
    "duration": 4,
    "start_time": "2024-07-09T17:01:17.076Z"
   },
   {
    "duration": 498,
    "start_time": "2024-07-09T17:01:23.955Z"
   },
   {
    "duration": 1536,
    "start_time": "2024-07-09T17:01:24.457Z"
   },
   {
    "duration": 38,
    "start_time": "2024-07-09T17:01:25.996Z"
   },
   {
    "duration": 21,
    "start_time": "2024-07-09T17:01:26.038Z"
   },
   {
    "duration": 61,
    "start_time": "2024-07-09T17:01:26.063Z"
   },
   {
    "duration": 20,
    "start_time": "2024-07-09T17:01:26.127Z"
   },
   {
    "duration": 19,
    "start_time": "2024-07-09T17:01:26.150Z"
   },
   {
    "duration": 242,
    "start_time": "2024-07-09T17:01:26.172Z"
   },
   {
    "duration": 207,
    "start_time": "2024-07-09T17:01:26.417Z"
   },
   {
    "duration": 14,
    "start_time": "2024-07-09T17:01:26.629Z"
   },
   {
    "duration": 18,
    "start_time": "2024-07-09T17:01:26.646Z"
   },
   {
    "duration": 131,
    "start_time": "2024-07-09T17:01:26.666Z"
   },
   {
    "duration": 14,
    "start_time": "2024-07-09T17:01:26.799Z"
   },
   {
    "duration": 6,
    "start_time": "2024-07-09T17:01:26.815Z"
   },
   {
    "duration": 4,
    "start_time": "2024-07-09T17:01:26.824Z"
   },
   {
    "duration": 30,
    "start_time": "2024-07-09T17:01:26.831Z"
   },
   {
    "duration": 58,
    "start_time": "2024-07-09T17:01:26.865Z"
   },
   {
    "duration": 21,
    "start_time": "2024-07-09T17:01:26.926Z"
   },
   {
    "duration": 61,
    "start_time": "2024-07-09T17:01:26.950Z"
   },
   {
    "duration": 31,
    "start_time": "2024-07-09T17:01:27.014Z"
   },
   {
    "duration": 69,
    "start_time": "2024-07-09T17:01:27.048Z"
   },
   {
    "duration": 7,
    "start_time": "2024-07-09T17:01:27.119Z"
   },
   {
    "duration": 10,
    "start_time": "2024-07-09T17:01:27.129Z"
   },
   {
    "duration": 9,
    "start_time": "2024-07-09T17:01:27.142Z"
   },
   {
    "duration": 8,
    "start_time": "2024-07-09T17:01:27.153Z"
   },
   {
    "duration": 49,
    "start_time": "2024-07-09T17:01:27.165Z"
   },
   {
    "duration": 10,
    "start_time": "2024-07-09T17:01:27.217Z"
   },
   {
    "duration": 1359,
    "start_time": "2024-07-09T17:01:27.235Z"
   },
   {
    "duration": 1351,
    "start_time": "2024-07-09T17:01:28.597Z"
   },
   {
    "duration": 3,
    "start_time": "2024-07-09T17:01:29.951Z"
   },
   {
    "duration": 11,
    "start_time": "2024-07-09T17:01:29.957Z"
   },
   {
    "duration": 47,
    "start_time": "2024-07-09T17:01:29.971Z"
   },
   {
    "duration": 11,
    "start_time": "2024-07-09T17:01:30.022Z"
   },
   {
    "duration": 11,
    "start_time": "2024-07-09T17:01:30.036Z"
   },
   {
    "duration": 4,
    "start_time": "2024-07-09T17:01:30.050Z"
   },
   {
    "duration": 7,
    "start_time": "2024-07-09T17:01:30.057Z"
   },
   {
    "duration": 12,
    "start_time": "2024-07-09T17:01:30.109Z"
   },
   {
    "duration": 12,
    "start_time": "2024-07-09T17:01:30.124Z"
   },
   {
    "duration": 4,
    "start_time": "2024-07-09T17:01:30.139Z"
   },
   {
    "duration": 21,
    "start_time": "2024-07-09T17:01:30.146Z"
   },
   {
    "duration": 42,
    "start_time": "2024-07-09T17:01:30.169Z"
   },
   {
    "duration": 15,
    "start_time": "2024-07-09T17:01:30.215Z"
   },
   {
    "duration": 35,
    "start_time": "2024-07-09T17:01:30.233Z"
   },
   {
    "duration": 27,
    "start_time": "2024-07-09T17:01:30.310Z"
   },
   {
    "duration": 28,
    "start_time": "2024-07-09T17:01:30.340Z"
   },
   {
    "duration": 39,
    "start_time": "2024-07-09T17:01:30.372Z"
   },
   {
    "duration": 3,
    "start_time": "2024-07-09T17:01:30.415Z"
   },
   {
    "duration": 653,
    "start_time": "2024-07-09T17:01:30.422Z"
   },
   {
    "duration": 0,
    "start_time": "2024-07-09T17:01:31.079Z"
   },
   {
    "duration": 572,
    "start_time": "2024-07-09T17:02:18.093Z"
   },
   {
    "duration": 9,
    "start_time": "2024-07-09T17:11:06.035Z"
   },
   {
    "duration": 10,
    "start_time": "2024-07-09T17:12:10.001Z"
   },
   {
    "duration": 15,
    "start_time": "2024-07-09T17:12:17.350Z"
   },
   {
    "duration": 248,
    "start_time": "2024-07-09T17:12:34.149Z"
   },
   {
    "duration": 31,
    "start_time": "2024-07-09T17:12:45.745Z"
   },
   {
    "duration": 20,
    "start_time": "2024-07-09T17:13:05.406Z"
   },
   {
    "duration": 103,
    "start_time": "2024-07-09T17:39:55.280Z"
   },
   {
    "duration": 103,
    "start_time": "2024-07-09T17:40:33.539Z"
   },
   {
    "duration": 762,
    "start_time": "2024-07-09T17:41:43.278Z"
   },
   {
    "duration": 564,
    "start_time": "2024-07-09T17:42:05.708Z"
   },
   {
    "duration": 561,
    "start_time": "2024-07-09T17:42:06.939Z"
   },
   {
    "duration": 550,
    "start_time": "2024-07-09T17:42:07.663Z"
   },
   {
    "duration": 16,
    "start_time": "2024-07-09T17:42:11.237Z"
   },
   {
    "duration": 106,
    "start_time": "2024-07-09T17:42:15.021Z"
   },
   {
    "duration": 24,
    "start_time": "2024-07-09T17:47:45.188Z"
   },
   {
    "duration": 33,
    "start_time": "2024-07-09T17:48:14.570Z"
   },
   {
    "duration": 45,
    "start_time": "2024-07-09T17:52:17.860Z"
   },
   {
    "duration": 61,
    "start_time": "2024-07-09T17:52:47.406Z"
   },
   {
    "duration": 12,
    "start_time": "2024-07-09T17:59:19.751Z"
   },
   {
    "duration": 10,
    "start_time": "2024-07-09T18:01:34.249Z"
   },
   {
    "duration": 12,
    "start_time": "2024-07-09T18:01:50.284Z"
   },
   {
    "duration": 12,
    "start_time": "2024-07-09T18:01:55.106Z"
   },
   {
    "duration": 12,
    "start_time": "2024-07-09T18:02:18.555Z"
   },
   {
    "duration": 18,
    "start_time": "2024-07-09T18:03:14.570Z"
   },
   {
    "duration": 4008,
    "start_time": "2024-07-09T18:05:05.720Z"
   },
   {
    "duration": 9,
    "start_time": "2024-07-09T18:05:17.396Z"
   },
   {
    "duration": 187,
    "start_time": "2024-07-09T18:05:25.436Z"
   },
   {
    "duration": 8,
    "start_time": "2024-07-09T18:10:30.704Z"
   },
   {
    "duration": 388,
    "start_time": "2024-07-09T18:10:46.262Z"
   },
   {
    "duration": 8,
    "start_time": "2024-07-09T18:14:32.123Z"
   },
   {
    "duration": 348,
    "start_time": "2024-07-09T18:14:55.420Z"
   },
   {
    "duration": 693,
    "start_time": "2024-07-09T18:15:11.425Z"
   },
   {
    "duration": 310,
    "start_time": "2024-07-09T18:15:16.191Z"
   },
   {
    "duration": 358,
    "start_time": "2024-07-09T18:15:25.613Z"
   },
   {
    "duration": 360,
    "start_time": "2024-07-09T18:15:47.035Z"
   },
   {
    "duration": 375,
    "start_time": "2024-07-09T18:15:58.588Z"
   },
   {
    "duration": 308,
    "start_time": "2024-07-09T18:18:41.201Z"
   },
   {
    "duration": 304,
    "start_time": "2024-07-09T18:19:22.664Z"
   },
   {
    "duration": 251,
    "start_time": "2024-07-09T18:19:32.512Z"
   },
   {
    "duration": 422,
    "start_time": "2024-07-09T18:19:49.203Z"
   },
   {
    "duration": 227,
    "start_time": "2024-07-09T18:19:56.881Z"
   },
   {
    "duration": 7,
    "start_time": "2024-07-09T18:22:47.891Z"
   },
   {
    "duration": 6,
    "start_time": "2024-07-09T18:23:26.734Z"
   },
   {
    "duration": 5,
    "start_time": "2024-07-09T18:23:31.200Z"
   },
   {
    "duration": 3,
    "start_time": "2024-07-09T18:23:49.940Z"
   },
   {
    "duration": 372,
    "start_time": "2024-07-09T18:24:51.339Z"
   },
   {
    "duration": 364,
    "start_time": "2024-07-09T18:36:44.257Z"
   },
   {
    "duration": 354,
    "start_time": "2024-07-09T18:37:10.426Z"
   },
   {
    "duration": 355,
    "start_time": "2024-07-09T18:37:16.462Z"
   },
   {
    "duration": 7,
    "start_time": "2024-07-09T18:37:31.976Z"
   },
   {
    "duration": 353,
    "start_time": "2024-07-09T18:37:37.001Z"
   },
   {
    "duration": 400,
    "start_time": "2024-07-09T18:37:42.103Z"
   },
   {
    "duration": 8,
    "start_time": "2024-07-09T18:48:17.377Z"
   },
   {
    "duration": 4,
    "start_time": "2024-07-09T18:51:21.285Z"
   },
   {
    "duration": 14,
    "start_time": "2024-07-09T18:53:30.004Z"
   },
   {
    "duration": 12,
    "start_time": "2024-07-09T18:53:46.279Z"
   },
   {
    "duration": 9,
    "start_time": "2024-07-09T18:55:52.932Z"
   },
   {
    "duration": 13,
    "start_time": "2024-07-09T18:55:53.683Z"
   },
   {
    "duration": 109,
    "start_time": "2024-07-09T19:00:51.880Z"
   },
   {
    "duration": 5,
    "start_time": "2024-07-09T19:01:46.066Z"
   },
   {
    "duration": 6,
    "start_time": "2024-07-09T19:02:05.673Z"
   },
   {
    "duration": 12,
    "start_time": "2024-07-09T19:02:21.708Z"
   },
   {
    "duration": 24,
    "start_time": "2024-07-09T19:02:44.195Z"
   },
   {
    "duration": 11,
    "start_time": "2024-07-09T19:02:51.854Z"
   },
   {
    "duration": 6,
    "start_time": "2024-07-09T19:04:53.796Z"
   },
   {
    "duration": 25,
    "start_time": "2024-07-09T19:05:29.993Z"
   },
   {
    "duration": 11,
    "start_time": "2024-07-09T19:05:39.209Z"
   },
   {
    "duration": 6,
    "start_time": "2024-07-09T19:11:09.363Z"
   },
   {
    "duration": 411,
    "start_time": "2024-07-09T19:11:14.167Z"
   },
   {
    "duration": 553,
    "start_time": "2024-07-09T19:24:33.813Z"
   },
   {
    "duration": 567,
    "start_time": "2024-07-09T19:28:46.862Z"
   },
   {
    "duration": 20,
    "start_time": "2024-07-09T19:28:47.806Z"
   },
   {
    "duration": 24,
    "start_time": "2024-07-09T19:29:34.586Z"
   },
   {
    "duration": 9,
    "start_time": "2024-07-09T19:30:09.627Z"
   },
   {
    "duration": 12,
    "start_time": "2024-07-09T19:30:21.572Z"
   },
   {
    "duration": 573,
    "start_time": "2024-07-09T19:30:23.424Z"
   },
   {
    "duration": 9,
    "start_time": "2024-07-09T19:30:25.887Z"
   },
   {
    "duration": 9,
    "start_time": "2024-07-09T19:30:37.665Z"
   },
   {
    "duration": 1218,
    "start_time": "2024-07-09T19:33:21.937Z"
   },
   {
    "duration": 630,
    "start_time": "2024-07-09T19:37:39.459Z"
   },
   {
    "duration": 13,
    "start_time": "2024-07-09T19:37:41.102Z"
   },
   {
    "duration": 1778,
    "start_time": "2024-07-09T19:37:48.164Z"
   },
   {
    "duration": 259,
    "start_time": "2024-07-09T19:43:14.413Z"
   },
   {
    "duration": 343,
    "start_time": "2024-07-09T21:34:36.461Z"
   },
   {
    "duration": 23,
    "start_time": "2024-07-09T21:34:48.567Z"
   },
   {
    "duration": 26,
    "start_time": "2024-07-09T21:34:51.074Z"
   },
   {
    "duration": 32,
    "start_time": "2024-07-09T21:40:02.014Z"
   },
   {
    "duration": 538,
    "start_time": "2024-07-09T21:40:11.299Z"
   },
   {
    "duration": 1922,
    "start_time": "2024-07-09T21:40:11.841Z"
   },
   {
    "duration": 40,
    "start_time": "2024-07-09T21:40:13.767Z"
   },
   {
    "duration": 40,
    "start_time": "2024-07-09T21:40:13.811Z"
   },
   {
    "duration": 21,
    "start_time": "2024-07-09T21:40:13.855Z"
   },
   {
    "duration": 47,
    "start_time": "2024-07-09T21:40:13.879Z"
   },
   {
    "duration": 22,
    "start_time": "2024-07-09T21:40:13.928Z"
   },
   {
    "duration": 204,
    "start_time": "2024-07-09T21:40:13.952Z"
   },
   {
    "duration": 205,
    "start_time": "2024-07-09T21:40:14.160Z"
   },
   {
    "duration": 10,
    "start_time": "2024-07-09T21:40:14.373Z"
   },
   {
    "duration": 63,
    "start_time": "2024-07-09T21:40:14.386Z"
   },
   {
    "duration": 125,
    "start_time": "2024-07-09T21:40:14.453Z"
   },
   {
    "duration": 183,
    "start_time": "2024-07-09T21:40:14.582Z"
   },
   {
    "duration": 0,
    "start_time": "2024-07-09T21:40:14.770Z"
   },
   {
    "duration": 0,
    "start_time": "2024-07-09T21:40:14.772Z"
   },
   {
    "duration": 0,
    "start_time": "2024-07-09T21:40:14.775Z"
   },
   {
    "duration": 0,
    "start_time": "2024-07-09T21:40:14.777Z"
   },
   {
    "duration": 0,
    "start_time": "2024-07-09T21:40:14.779Z"
   },
   {
    "duration": 0,
    "start_time": "2024-07-09T21:40:14.781Z"
   },
   {
    "duration": 0,
    "start_time": "2024-07-09T21:40:14.785Z"
   },
   {
    "duration": 0,
    "start_time": "2024-07-09T21:40:14.787Z"
   },
   {
    "duration": 0,
    "start_time": "2024-07-09T21:40:14.789Z"
   },
   {
    "duration": 0,
    "start_time": "2024-07-09T21:40:14.792Z"
   },
   {
    "duration": 0,
    "start_time": "2024-07-09T21:40:14.795Z"
   },
   {
    "duration": 0,
    "start_time": "2024-07-09T21:40:14.797Z"
   },
   {
    "duration": 0,
    "start_time": "2024-07-09T21:40:14.836Z"
   },
   {
    "duration": 0,
    "start_time": "2024-07-09T21:40:14.840Z"
   },
   {
    "duration": 0,
    "start_time": "2024-07-09T21:40:14.843Z"
   },
   {
    "duration": 0,
    "start_time": "2024-07-09T21:40:14.845Z"
   },
   {
    "duration": 0,
    "start_time": "2024-07-09T21:40:14.848Z"
   },
   {
    "duration": 0,
    "start_time": "2024-07-09T21:40:14.850Z"
   },
   {
    "duration": 0,
    "start_time": "2024-07-09T21:40:14.853Z"
   },
   {
    "duration": 0,
    "start_time": "2024-07-09T21:40:14.855Z"
   },
   {
    "duration": 0,
    "start_time": "2024-07-09T21:40:14.858Z"
   },
   {
    "duration": 0,
    "start_time": "2024-07-09T21:40:14.860Z"
   },
   {
    "duration": 0,
    "start_time": "2024-07-09T21:40:14.863Z"
   },
   {
    "duration": 0,
    "start_time": "2024-07-09T21:40:14.866Z"
   },
   {
    "duration": 0,
    "start_time": "2024-07-09T21:40:14.868Z"
   },
   {
    "duration": 0,
    "start_time": "2024-07-09T21:40:14.870Z"
   },
   {
    "duration": 0,
    "start_time": "2024-07-09T21:40:14.872Z"
   },
   {
    "duration": 0,
    "start_time": "2024-07-09T21:40:14.873Z"
   },
   {
    "duration": 0,
    "start_time": "2024-07-09T21:40:14.923Z"
   },
   {
    "duration": 0,
    "start_time": "2024-07-09T21:40:14.926Z"
   },
   {
    "duration": 0,
    "start_time": "2024-07-09T21:40:14.929Z"
   },
   {
    "duration": 0,
    "start_time": "2024-07-09T21:40:14.931Z"
   },
   {
    "duration": 0,
    "start_time": "2024-07-09T21:40:14.934Z"
   },
   {
    "duration": 0,
    "start_time": "2024-07-09T21:40:14.936Z"
   },
   {
    "duration": 0,
    "start_time": "2024-07-09T21:40:14.939Z"
   },
   {
    "duration": 0,
    "start_time": "2024-07-09T21:40:14.941Z"
   },
   {
    "duration": 0,
    "start_time": "2024-07-09T21:40:14.944Z"
   },
   {
    "duration": 0,
    "start_time": "2024-07-09T21:40:14.947Z"
   },
   {
    "duration": 0,
    "start_time": "2024-07-09T21:40:14.950Z"
   },
   {
    "duration": 0,
    "start_time": "2024-07-09T21:40:14.952Z"
   },
   {
    "duration": 0,
    "start_time": "2024-07-09T21:40:14.955Z"
   },
   {
    "duration": 0,
    "start_time": "2024-07-09T21:40:14.957Z"
   },
   {
    "duration": 0,
    "start_time": "2024-07-09T21:40:14.960Z"
   },
   {
    "duration": 0,
    "start_time": "2024-07-09T21:40:14.962Z"
   },
   {
    "duration": 0,
    "start_time": "2024-07-09T21:40:14.965Z"
   },
   {
    "duration": 0,
    "start_time": "2024-07-09T21:40:14.967Z"
   },
   {
    "duration": 0,
    "start_time": "2024-07-09T21:40:14.970Z"
   },
   {
    "duration": 0,
    "start_time": "2024-07-09T21:40:15.023Z"
   },
   {
    "duration": 0,
    "start_time": "2024-07-09T21:40:15.025Z"
   },
   {
    "duration": 0,
    "start_time": "2024-07-09T21:40:15.026Z"
   },
   {
    "duration": 0,
    "start_time": "2024-07-09T21:40:15.028Z"
   },
   {
    "duration": 0,
    "start_time": "2024-07-09T21:40:15.029Z"
   },
   {
    "duration": 232,
    "start_time": "2024-07-09T21:40:54.044Z"
   },
   {
    "duration": 14,
    "start_time": "2024-07-09T21:41:15.500Z"
   },
   {
    "duration": 257,
    "start_time": "2024-07-09T21:41:41.715Z"
   },
   {
    "duration": 199,
    "start_time": "2024-07-09T21:42:02.444Z"
   },
   {
    "duration": 212,
    "start_time": "2024-07-09T21:43:31.847Z"
   },
   {
    "duration": 29,
    "start_time": "2024-07-09T21:43:46.984Z"
   },
   {
    "duration": 21,
    "start_time": "2024-07-09T21:43:51.391Z"
   },
   {
    "duration": 19,
    "start_time": "2024-07-09T21:44:01.916Z"
   },
   {
    "duration": 49,
    "start_time": "2024-07-09T21:44:32.202Z"
   },
   {
    "duration": 33,
    "start_time": "2024-07-09T21:44:41.253Z"
   },
   {
    "duration": 55,
    "start_time": "2024-07-09T21:45:00.681Z"
   },
   {
    "duration": 9,
    "start_time": "2024-07-09T21:45:07.235Z"
   },
   {
    "duration": 10,
    "start_time": "2024-07-09T21:45:07.680Z"
   },
   {
    "duration": 9,
    "start_time": "2024-07-09T21:45:08.153Z"
   },
   {
    "duration": 8,
    "start_time": "2024-07-09T21:45:10.452Z"
   },
   {
    "duration": 33,
    "start_time": "2024-07-09T21:45:10.916Z"
   },
   {
    "duration": 10,
    "start_time": "2024-07-09T21:45:11.505Z"
   },
   {
    "duration": 1442,
    "start_time": "2024-07-09T21:45:14.444Z"
   },
   {
    "duration": 1587,
    "start_time": "2024-07-09T21:45:17.066Z"
   },
   {
    "duration": 11,
    "start_time": "2024-07-09T21:45:44.278Z"
   },
   {
    "duration": 1386,
    "start_time": "2024-07-09T21:47:57.572Z"
   },
   {
    "duration": 710,
    "start_time": "2024-07-09T21:49:14.451Z"
   },
   {
    "duration": 22,
    "start_time": "2024-07-09T21:50:11.818Z"
   },
   {
    "duration": 23,
    "start_time": "2024-07-09T21:50:45.816Z"
   },
   {
    "duration": 12,
    "start_time": "2024-07-09T21:51:26.440Z"
   },
   {
    "duration": 20,
    "start_time": "2024-07-09T21:51:35.043Z"
   },
   {
    "duration": 13,
    "start_time": "2024-07-09T21:51:47.585Z"
   },
   {
    "duration": 12,
    "start_time": "2024-07-09T21:52:03.753Z"
   },
   {
    "duration": 22,
    "start_time": "2024-07-09T21:54:27.331Z"
   },
   {
    "duration": 257,
    "start_time": "2024-07-09T21:55:25.326Z"
   },
   {
    "duration": 12,
    "start_time": "2024-07-09T21:55:41.092Z"
   },
   {
    "duration": 10,
    "start_time": "2024-07-09T21:56:00.159Z"
   },
   {
    "duration": 19,
    "start_time": "2024-07-09T21:56:00.713Z"
   },
   {
    "duration": 13,
    "start_time": "2024-07-09T21:56:10.443Z"
   },
   {
    "duration": 12,
    "start_time": "2024-07-09T21:56:12.680Z"
   },
   {
    "duration": 12,
    "start_time": "2024-07-09T21:56:25.359Z"
   },
   {
    "duration": 16,
    "start_time": "2024-07-09T21:57:11.093Z"
   },
   {
    "duration": 23,
    "start_time": "2024-07-09T21:58:24.588Z"
   },
   {
    "duration": 46,
    "start_time": "2024-07-09T21:58:30.405Z"
   },
   {
    "duration": 25,
    "start_time": "2024-07-09T21:58:37.743Z"
   },
   {
    "duration": 12,
    "start_time": "2024-07-09T21:58:56.404Z"
   },
   {
    "duration": 12,
    "start_time": "2024-07-09T21:59:05.289Z"
   },
   {
    "duration": 11,
    "start_time": "2024-07-09T21:59:24.307Z"
   },
   {
    "duration": 20,
    "start_time": "2024-07-09T21:59:31.193Z"
   },
   {
    "duration": 11,
    "start_time": "2024-07-09T22:00:03.639Z"
   },
   {
    "duration": 13,
    "start_time": "2024-07-09T22:00:35.239Z"
   },
   {
    "duration": 15,
    "start_time": "2024-07-09T22:00:43.674Z"
   },
   {
    "duration": 547,
    "start_time": "2024-07-09T22:00:59.783Z"
   },
   {
    "duration": 1779,
    "start_time": "2024-07-09T22:01:00.333Z"
   },
   {
    "duration": 46,
    "start_time": "2024-07-09T22:01:02.115Z"
   },
   {
    "duration": 26,
    "start_time": "2024-07-09T22:01:02.165Z"
   },
   {
    "duration": 58,
    "start_time": "2024-07-09T22:01:02.196Z"
   },
   {
    "duration": 20,
    "start_time": "2024-07-09T22:01:02.258Z"
   },
   {
    "duration": 62,
    "start_time": "2024-07-09T22:01:02.284Z"
   },
   {
    "duration": 206,
    "start_time": "2024-07-09T22:01:02.349Z"
   },
   {
    "duration": 219,
    "start_time": "2024-07-09T22:01:02.558Z"
   },
   {
    "duration": 10,
    "start_time": "2024-07-09T22:01:02.780Z"
   },
   {
    "duration": 19,
    "start_time": "2024-07-09T22:01:02.793Z"
   },
   {
    "duration": 126,
    "start_time": "2024-07-09T22:01:02.830Z"
   },
   {
    "duration": 218,
    "start_time": "2024-07-09T22:01:02.960Z"
   },
   {
    "duration": 212,
    "start_time": "2024-07-09T22:01:03.186Z"
   },
   {
    "duration": 204,
    "start_time": "2024-07-09T22:01:03.401Z"
   },
   {
    "duration": 51,
    "start_time": "2024-07-09T22:01:03.608Z"
   },
   {
    "duration": 22,
    "start_time": "2024-07-09T22:01:03.663Z"
   },
   {
    "duration": 37,
    "start_time": "2024-07-09T22:01:03.689Z"
   },
   {
    "duration": 32,
    "start_time": "2024-07-09T22:01:03.728Z"
   },
   {
    "duration": 47,
    "start_time": "2024-07-09T22:01:03.763Z"
   },
   {
    "duration": 66,
    "start_time": "2024-07-09T22:01:03.827Z"
   },
   {
    "duration": 8,
    "start_time": "2024-07-09T22:01:03.896Z"
   },
   {
    "duration": 42,
    "start_time": "2024-07-09T22:01:03.908Z"
   },
   {
    "duration": 10,
    "start_time": "2024-07-09T22:01:03.953Z"
   },
   {
    "duration": 7,
    "start_time": "2024-07-09T22:01:03.967Z"
   },
   {
    "duration": 11,
    "start_time": "2024-07-09T22:01:03.977Z"
   },
   {
    "duration": 58,
    "start_time": "2024-07-09T22:01:03.991Z"
   },
   {
    "duration": 1511,
    "start_time": "2024-07-09T22:01:04.053Z"
   },
   {
    "duration": 1475,
    "start_time": "2024-07-09T22:01:05.567Z"
   },
   {
    "duration": 1333,
    "start_time": "2024-07-09T22:01:07.045Z"
   },
   {
    "duration": 11,
    "start_time": "2024-07-09T22:01:08.381Z"
   },
   {
    "duration": 55,
    "start_time": "2024-07-09T22:01:08.395Z"
   },
   {
    "duration": 13,
    "start_time": "2024-07-09T22:01:08.452Z"
   },
   {
    "duration": 12,
    "start_time": "2024-07-09T22:01:08.469Z"
   },
   {
    "duration": 47,
    "start_time": "2024-07-09T22:01:08.483Z"
   },
   {
    "duration": 11,
    "start_time": "2024-07-09T22:01:08.547Z"
   },
   {
    "duration": 7,
    "start_time": "2024-07-09T22:01:08.562Z"
   },
   {
    "duration": 11,
    "start_time": "2024-07-09T22:01:08.573Z"
   },
   {
    "duration": 49,
    "start_time": "2024-07-09T22:01:08.587Z"
   },
   {
    "duration": 13,
    "start_time": "2024-07-09T22:01:08.644Z"
   },
   {
    "duration": 19,
    "start_time": "2024-07-09T22:01:08.669Z"
   },
   {
    "duration": 6,
    "start_time": "2024-07-09T22:01:08.691Z"
   },
   {
    "duration": 52,
    "start_time": "2024-07-09T22:01:08.700Z"
   },
   {
    "duration": 31,
    "start_time": "2024-07-09T22:01:08.756Z"
   },
   {
    "duration": 51,
    "start_time": "2024-07-09T22:01:08.790Z"
   },
   {
    "duration": 35,
    "start_time": "2024-07-09T22:01:08.844Z"
   },
   {
    "duration": 60,
    "start_time": "2024-07-09T22:01:08.886Z"
   },
   {
    "duration": 4,
    "start_time": "2024-07-09T22:01:08.952Z"
   },
   {
    "duration": 621,
    "start_time": "2024-07-09T22:01:08.958Z"
   },
   {
    "duration": 16,
    "start_time": "2024-07-09T22:01:09.582Z"
   },
   {
    "duration": 162,
    "start_time": "2024-07-09T22:01:09.600Z"
   },
   {
    "duration": 91,
    "start_time": "2024-07-09T22:01:09.765Z"
   },
   {
    "duration": 15,
    "start_time": "2024-07-09T22:01:09.860Z"
   },
   {
    "duration": 4801,
    "start_time": "2024-07-09T22:01:09.879Z"
   },
   {
    "duration": 18,
    "start_time": "2024-07-09T22:01:14.684Z"
   },
   {
    "duration": 333,
    "start_time": "2024-07-09T22:01:14.705Z"
   },
   {
    "duration": 29,
    "start_time": "2024-07-09T22:01:15.050Z"
   },
   {
    "duration": 7,
    "start_time": "2024-07-09T22:01:15.084Z"
   },
   {
    "duration": 16,
    "start_time": "2024-07-09T22:01:15.097Z"
   },
   {
    "duration": 14,
    "start_time": "2024-07-09T22:01:15.116Z"
   },
   {
    "duration": 21,
    "start_time": "2024-07-09T22:01:15.134Z"
   },
   {
    "duration": 23,
    "start_time": "2024-07-09T22:01:15.159Z"
   },
   {
    "duration": 572,
    "start_time": "2024-07-09T22:01:15.186Z"
   },
   {
    "duration": 652,
    "start_time": "2024-07-09T22:01:15.761Z"
   },
   {
    "duration": 41,
    "start_time": "2024-07-09T22:01:16.417Z"
   },
   {
    "duration": 1896,
    "start_time": "2024-07-09T22:01:16.469Z"
   },
   {
    "duration": 28,
    "start_time": "2024-07-09T22:01:36.769Z"
   },
   {
    "duration": 10,
    "start_time": "2024-07-09T22:05:38.448Z"
   },
   {
    "duration": 10,
    "start_time": "2024-07-09T22:06:07.844Z"
   },
   {
    "duration": 24,
    "start_time": "2024-07-09T22:07:33.745Z"
   },
   {
    "duration": 9,
    "start_time": "2024-07-09T22:08:26.061Z"
   },
   {
    "duration": 10,
    "start_time": "2024-07-09T22:08:36.745Z"
   },
   {
    "duration": 11,
    "start_time": "2024-07-09T22:09:06.007Z"
   },
   {
    "duration": 16,
    "start_time": "2024-07-09T22:11:08.887Z"
   },
   {
    "duration": 16,
    "start_time": "2024-07-09T22:11:34.802Z"
   },
   {
    "duration": 878,
    "start_time": "2024-07-09T22:12:33.476Z"
   },
   {
    "duration": 19,
    "start_time": "2024-07-09T22:12:40.382Z"
   },
   {
    "duration": 11,
    "start_time": "2024-07-09T22:13:20.591Z"
   },
   {
    "duration": 1820,
    "start_time": "2024-07-09T22:13:32.459Z"
   },
   {
    "duration": 3953,
    "start_time": "2024-07-09T22:14:02.666Z"
   },
   {
    "duration": 600,
    "start_time": "2024-07-09T22:16:02.743Z"
   },
   {
    "duration": 1846,
    "start_time": "2024-07-09T22:16:03.348Z"
   },
   {
    "duration": 49,
    "start_time": "2024-07-09T22:16:05.198Z"
   },
   {
    "duration": 36,
    "start_time": "2024-07-09T22:16:05.252Z"
   },
   {
    "duration": 51,
    "start_time": "2024-07-09T22:16:05.292Z"
   },
   {
    "duration": 26,
    "start_time": "2024-07-09T22:16:05.346Z"
   },
   {
    "duration": 55,
    "start_time": "2024-07-09T22:16:05.375Z"
   },
   {
    "duration": 251,
    "start_time": "2024-07-09T22:16:05.434Z"
   },
   {
    "duration": 250,
    "start_time": "2024-07-09T22:16:05.688Z"
   },
   {
    "duration": 16,
    "start_time": "2024-07-09T22:16:05.946Z"
   },
   {
    "duration": 22,
    "start_time": "2024-07-09T22:16:05.965Z"
   },
   {
    "duration": 163,
    "start_time": "2024-07-09T22:16:05.990Z"
   },
   {
    "duration": 259,
    "start_time": "2024-07-09T22:16:06.157Z"
   },
   {
    "duration": 234,
    "start_time": "2024-07-09T22:16:06.420Z"
   },
   {
    "duration": 231,
    "start_time": "2024-07-09T22:16:06.658Z"
   },
   {
    "duration": 40,
    "start_time": "2024-07-09T22:16:06.896Z"
   },
   {
    "duration": 26,
    "start_time": "2024-07-09T22:16:06.942Z"
   },
   {
    "duration": 22,
    "start_time": "2024-07-09T22:16:06.971Z"
   },
   {
    "duration": 40,
    "start_time": "2024-07-09T22:16:07.025Z"
   },
   {
    "duration": 64,
    "start_time": "2024-07-09T22:16:07.069Z"
   },
   {
    "duration": 49,
    "start_time": "2024-07-09T22:16:07.136Z"
   },
   {
    "duration": 8,
    "start_time": "2024-07-09T22:16:07.188Z"
   },
   {
    "duration": 11,
    "start_time": "2024-07-09T22:16:07.225Z"
   },
   {
    "duration": 11,
    "start_time": "2024-07-09T22:16:07.242Z"
   },
   {
    "duration": 7,
    "start_time": "2024-07-09T22:16:07.261Z"
   },
   {
    "duration": 55,
    "start_time": "2024-07-09T22:16:07.272Z"
   },
   {
    "duration": 12,
    "start_time": "2024-07-09T22:16:07.333Z"
   },
   {
    "duration": 1645,
    "start_time": "2024-07-09T22:16:07.358Z"
   },
   {
    "duration": 1644,
    "start_time": "2024-07-09T22:16:09.007Z"
   },
   {
    "duration": 1450,
    "start_time": "2024-07-09T22:16:10.655Z"
   },
   {
    "duration": 16,
    "start_time": "2024-07-09T22:16:12.109Z"
   },
   {
    "duration": 22,
    "start_time": "2024-07-09T22:16:12.130Z"
   },
   {
    "duration": 11,
    "start_time": "2024-07-09T22:16:12.155Z"
   },
   {
    "duration": 57,
    "start_time": "2024-07-09T22:16:12.170Z"
   },
   {
    "duration": 15,
    "start_time": "2024-07-09T22:16:12.230Z"
   },
   {
    "duration": 13,
    "start_time": "2024-07-09T22:16:12.250Z"
   },
   {
    "duration": 8,
    "start_time": "2024-07-09T22:16:12.267Z"
   },
   {
    "duration": 15,
    "start_time": "2024-07-09T22:16:12.322Z"
   },
   {
    "duration": 14,
    "start_time": "2024-07-09T22:16:12.341Z"
   },
   {
    "duration": 13,
    "start_time": "2024-07-09T22:16:12.359Z"
   },
   {
    "duration": 68,
    "start_time": "2024-07-09T22:16:12.375Z"
   },
   {
    "duration": 6,
    "start_time": "2024-07-09T22:16:12.447Z"
   },
   {
    "duration": 15,
    "start_time": "2024-07-09T22:16:12.457Z"
   },
   {
    "duration": 69,
    "start_time": "2024-07-09T22:16:12.475Z"
   },
   {
    "duration": 38,
    "start_time": "2024-07-09T22:16:12.549Z"
   },
   {
    "duration": 60,
    "start_time": "2024-07-09T22:16:12.591Z"
   },
   {
    "duration": 13,
    "start_time": "2024-07-09T22:16:12.654Z"
   },
   {
    "duration": 5,
    "start_time": "2024-07-09T22:16:12.670Z"
   },
   {
    "duration": 688,
    "start_time": "2024-07-09T22:16:12.679Z"
   },
   {
    "duration": 17,
    "start_time": "2024-07-09T22:16:13.371Z"
   },
   {
    "duration": 147,
    "start_time": "2024-07-09T22:16:13.392Z"
   },
   {
    "duration": 90,
    "start_time": "2024-07-09T22:16:13.542Z"
   },
   {
    "duration": 14,
    "start_time": "2024-07-09T22:16:13.635Z"
   },
   {
    "duration": 684,
    "start_time": "2024-07-09T22:16:13.652Z"
   },
   {
    "duration": 13,
    "start_time": "2024-07-09T22:16:14.339Z"
   },
   {
    "duration": 296,
    "start_time": "2024-07-09T22:16:14.355Z"
   },
   {
    "duration": 13,
    "start_time": "2024-07-09T22:16:14.658Z"
   },
   {
    "duration": 14,
    "start_time": "2024-07-09T22:16:14.675Z"
   },
   {
    "duration": 4307,
    "start_time": "2024-07-09T22:16:14.693Z"
   },
   {
    "duration": 5,
    "start_time": "2024-07-09T22:16:19.004Z"
   },
   {
    "duration": 18,
    "start_time": "2024-07-09T22:16:19.025Z"
   },
   {
    "duration": 5,
    "start_time": "2024-07-09T22:16:19.046Z"
   },
   {
    "duration": 17,
    "start_time": "2024-07-09T22:16:19.054Z"
   },
   {
    "duration": 59,
    "start_time": "2024-07-09T22:16:19.074Z"
   },
   {
    "duration": 490,
    "start_time": "2024-07-09T22:16:19.137Z"
   },
   {
    "duration": 655,
    "start_time": "2024-07-09T22:16:19.633Z"
   },
   {
    "duration": 15,
    "start_time": "2024-07-09T22:16:20.292Z"
   },
   {
    "duration": 1700,
    "start_time": "2024-07-09T22:16:20.310Z"
   },
   {
    "duration": 291,
    "start_time": "2024-07-09T22:18:54.739Z"
   },
   {
    "duration": 3309,
    "start_time": "2024-07-09T22:19:11.408Z"
   },
   {
    "duration": 17,
    "start_time": "2024-07-09T22:20:41.423Z"
   },
   {
    "duration": 1236,
    "start_time": "2024-07-09T22:21:05.380Z"
   },
   {
    "duration": 17,
    "start_time": "2024-07-09T22:21:21.357Z"
   },
   {
    "duration": 1497,
    "start_time": "2024-07-09T22:22:00.166Z"
   },
   {
    "duration": 9,
    "start_time": "2024-07-09T22:22:28.021Z"
   },
   {
    "duration": 97,
    "start_time": "2024-07-09T22:23:08.735Z"
   },
   {
    "duration": 99,
    "start_time": "2024-07-09T22:23:23.812Z"
   },
   {
    "duration": 103,
    "start_time": "2024-07-09T22:23:37.140Z"
   },
   {
    "duration": 1591,
    "start_time": "2024-07-09T22:24:32.745Z"
   },
   {
    "duration": 267,
    "start_time": "2024-07-09T22:25:38.415Z"
   },
   {
    "duration": 256,
    "start_time": "2024-07-09T22:26:03.786Z"
   },
   {
    "duration": 14,
    "start_time": "2024-07-09T22:26:37.573Z"
   },
   {
    "duration": 8,
    "start_time": "2024-07-09T22:33:16.024Z"
   },
   {
    "duration": 9,
    "start_time": "2024-07-09T22:33:26.878Z"
   },
   {
    "duration": 9,
    "start_time": "2024-07-09T22:33:57.192Z"
   },
   {
    "duration": 73,
    "start_time": "2024-07-09T22:39:15.257Z"
   },
   {
    "duration": 70,
    "start_time": "2024-07-09T22:39:24.337Z"
   },
   {
    "duration": 10,
    "start_time": "2024-07-09T22:40:07.986Z"
   },
   {
    "duration": 380,
    "start_time": "2024-07-09T22:45:10.685Z"
   },
   {
    "duration": 386,
    "start_time": "2024-07-09T22:46:47.864Z"
   },
   {
    "duration": 1335,
    "start_time": "2024-07-09T22:50:14.029Z"
   },
   {
    "duration": 181,
    "start_time": "2024-07-09T22:51:38.097Z"
   },
   {
    "duration": 192,
    "start_time": "2024-07-09T22:51:39.915Z"
   },
   {
    "duration": 220,
    "start_time": "2024-07-09T22:51:47.396Z"
   },
   {
    "duration": 4,
    "start_time": "2024-07-09T22:52:41.569Z"
   },
   {
    "duration": 19,
    "start_time": "2024-07-09T22:52:49.655Z"
   },
   {
    "duration": 17,
    "start_time": "2024-07-09T22:53:46.485Z"
   },
   {
    "duration": 34,
    "start_time": "2024-07-09T22:53:54.051Z"
   },
   {
    "duration": 309,
    "start_time": "2024-07-10T01:43:03.249Z"
   },
   {
    "duration": 27,
    "start_time": "2024-07-10T01:45:22.509Z"
   },
   {
    "duration": 32,
    "start_time": "2024-07-10T01:45:29.682Z"
   },
   {
    "duration": 576,
    "start_time": "2024-07-10T01:45:48.711Z"
   },
   {
    "duration": 1712,
    "start_time": "2024-07-10T01:45:49.291Z"
   },
   {
    "duration": 40,
    "start_time": "2024-07-10T01:45:51.005Z"
   },
   {
    "duration": 23,
    "start_time": "2024-07-10T01:45:51.048Z"
   },
   {
    "duration": 51,
    "start_time": "2024-07-10T01:45:51.074Z"
   },
   {
    "duration": 21,
    "start_time": "2024-07-10T01:45:51.128Z"
   },
   {
    "duration": 21,
    "start_time": "2024-07-10T01:45:51.152Z"
   },
   {
    "duration": 210,
    "start_time": "2024-07-10T01:45:51.176Z"
   },
   {
    "duration": 188,
    "start_time": "2024-07-10T01:45:51.388Z"
   },
   {
    "duration": 10,
    "start_time": "2024-07-10T01:45:51.582Z"
   },
   {
    "duration": 37,
    "start_time": "2024-07-10T01:45:51.595Z"
   },
   {
    "duration": 120,
    "start_time": "2024-07-10T01:45:51.636Z"
   },
   {
    "duration": 198,
    "start_time": "2024-07-10T01:45:51.759Z"
   },
   {
    "duration": 208,
    "start_time": "2024-07-10T01:45:51.960Z"
   },
   {
    "duration": 182,
    "start_time": "2024-07-10T01:45:52.171Z"
   },
   {
    "duration": 25,
    "start_time": "2024-07-10T01:45:52.356Z"
   },
   {
    "duration": 45,
    "start_time": "2024-07-10T01:45:52.384Z"
   },
   {
    "duration": 18,
    "start_time": "2024-07-10T01:45:52.432Z"
   },
   {
    "duration": 30,
    "start_time": "2024-07-10T01:45:52.453Z"
   },
   {
    "duration": 62,
    "start_time": "2024-07-10T01:45:52.486Z"
   },
   {
    "duration": 44,
    "start_time": "2024-07-10T01:45:52.551Z"
   },
   {
    "duration": 6,
    "start_time": "2024-07-10T01:45:52.622Z"
   },
   {
    "duration": 9,
    "start_time": "2024-07-10T01:45:52.632Z"
   },
   {
    "duration": 10,
    "start_time": "2024-07-10T01:45:52.645Z"
   },
   {
    "duration": 8,
    "start_time": "2024-07-10T01:45:52.659Z"
   },
   {
    "duration": 56,
    "start_time": "2024-07-10T01:45:52.670Z"
   },
   {
    "duration": 10,
    "start_time": "2024-07-10T01:45:52.729Z"
   },
   {
    "duration": 1387,
    "start_time": "2024-07-10T01:45:52.750Z"
   },
   {
    "duration": 1384,
    "start_time": "2024-07-10T01:45:54.140Z"
   },
   {
    "duration": 1198,
    "start_time": "2024-07-10T01:45:55.526Z"
   },
   {
    "duration": 11,
    "start_time": "2024-07-10T01:45:56.727Z"
   },
   {
    "duration": 21,
    "start_time": "2024-07-10T01:45:56.741Z"
   },
   {
    "duration": 11,
    "start_time": "2024-07-10T01:45:56.765Z"
   },
   {
    "duration": 50,
    "start_time": "2024-07-10T01:45:56.779Z"
   },
   {
    "duration": 10,
    "start_time": "2024-07-10T01:45:56.832Z"
   },
   {
    "duration": 10,
    "start_time": "2024-07-10T01:45:56.845Z"
   },
   {
    "duration": 7,
    "start_time": "2024-07-10T01:45:56.859Z"
   },
   {
    "duration": 59,
    "start_time": "2024-07-10T01:45:56.868Z"
   },
   {
    "duration": 12,
    "start_time": "2024-07-10T01:45:56.929Z"
   },
   {
    "duration": 11,
    "start_time": "2024-07-10T01:45:56.943Z"
   },
   {
    "duration": 18,
    "start_time": "2024-07-10T01:45:56.957Z"
   },
   {
    "duration": 46,
    "start_time": "2024-07-10T01:45:56.978Z"
   },
   {
    "duration": 11,
    "start_time": "2024-07-10T01:45:57.027Z"
   },
   {
    "duration": 30,
    "start_time": "2024-07-10T01:45:57.040Z"
   },
   {
    "duration": 68,
    "start_time": "2024-07-10T01:45:57.073Z"
   },
   {
    "duration": 28,
    "start_time": "2024-07-10T01:45:57.144Z"
   },
   {
    "duration": 10,
    "start_time": "2024-07-10T01:45:57.175Z"
   },
   {
    "duration": 36,
    "start_time": "2024-07-10T01:45:57.187Z"
   },
   {
    "duration": 572,
    "start_time": "2024-07-10T01:45:57.226Z"
   },
   {
    "duration": 25,
    "start_time": "2024-07-10T01:45:57.801Z"
   },
   {
    "duration": 116,
    "start_time": "2024-07-10T01:45:57.829Z"
   },
   {
    "duration": 79,
    "start_time": "2024-07-10T01:45:57.948Z"
   },
   {
    "duration": 13,
    "start_time": "2024-07-10T01:45:58.031Z"
   },
   {
    "duration": 4263,
    "start_time": "2024-07-10T01:45:58.046Z"
   },
   {
    "duration": 17,
    "start_time": "2024-07-10T01:46:02.312Z"
   },
   {
    "duration": 243,
    "start_time": "2024-07-10T01:46:02.332Z"
   },
   {
    "duration": 7,
    "start_time": "2024-07-10T01:46:02.578Z"
   },
   {
    "duration": 1393,
    "start_time": "2024-07-10T01:46:02.589Z"
   },
   {
    "duration": 222,
    "start_time": "2024-07-10T01:46:03.985Z"
   },
   {
    "duration": 21,
    "start_time": "2024-07-10T01:46:04.210Z"
   },
   {
    "duration": 9,
    "start_time": "2024-07-10T01:46:04.234Z"
   },
   {
    "duration": 11,
    "start_time": "2024-07-10T01:46:04.246Z"
   },
   {
    "duration": 6,
    "start_time": "2024-07-10T01:46:04.261Z"
   },
   {
    "duration": 58,
    "start_time": "2024-07-10T01:46:04.270Z"
   },
   {
    "duration": 4,
    "start_time": "2024-07-10T01:46:04.331Z"
   },
   {
    "duration": 13,
    "start_time": "2024-07-10T01:46:04.339Z"
   },
   {
    "duration": 12,
    "start_time": "2024-07-10T01:46:04.355Z"
   },
   {
    "duration": 445,
    "start_time": "2024-07-10T01:46:04.370Z"
   },
   {
    "duration": 65,
    "start_time": "2024-07-10T01:46:04.822Z"
   },
   {
    "duration": 33,
    "start_time": "2024-07-10T01:46:04.890Z"
   },
   {
    "duration": 346,
    "start_time": "2024-07-10T01:46:04.925Z"
   },
   {
    "duration": 200,
    "start_time": "2024-07-10T01:46:05.275Z"
   },
   {
    "duration": 10,
    "start_time": "2024-07-10T01:46:05.478Z"
   },
   {
    "duration": 44,
    "start_time": "2024-07-10T01:46:05.491Z"
   },
   {
    "duration": 508,
    "start_time": "2024-07-10T01:46:05.538Z"
   },
   {
    "duration": 13,
    "start_time": "2024-07-10T01:46:06.048Z"
   },
   {
    "duration": 1561,
    "start_time": "2024-07-10T01:46:06.064Z"
   },
   {
    "duration": 118,
    "start_time": "2024-07-10T01:46:07.936Z"
   },
   {
    "duration": 127,
    "start_time": "2024-07-10T01:46:13.730Z"
   },
   {
    "duration": 78,
    "start_time": "2024-07-10T01:48:14.349Z"
   },
   {
    "duration": 78,
    "start_time": "2024-07-10T01:48:32.184Z"
   },
   {
    "duration": 90,
    "start_time": "2024-07-10T01:48:56.437Z"
   },
   {
    "duration": 4,
    "start_time": "2024-07-10T01:50:40.795Z"
   },
   {
    "duration": 10,
    "start_time": "2024-07-10T01:50:56.963Z"
   },
   {
    "duration": 14,
    "start_time": "2024-07-10T01:51:46.027Z"
   },
   {
    "duration": 26,
    "start_time": "2024-07-10T01:51:53.089Z"
   },
   {
    "duration": 3,
    "start_time": "2024-07-10T01:57:07.884Z"
   },
   {
    "duration": 13,
    "start_time": "2024-07-10T01:57:25.172Z"
   },
   {
    "duration": 1077,
    "start_time": "2024-07-10T02:04:33.883Z"
   },
   {
    "duration": 16,
    "start_time": "2024-07-10T02:19:47.762Z"
   },
   {
    "duration": 10,
    "start_time": "2024-07-10T02:20:19.834Z"
   },
   {
    "duration": 58,
    "start_time": "2024-07-10T02:22:34.616Z"
   },
   {
    "duration": 582,
    "start_time": "2024-07-10T02:23:16.305Z"
   },
   {
    "duration": 1549,
    "start_time": "2024-07-10T02:23:16.891Z"
   },
   {
    "duration": 33,
    "start_time": "2024-07-10T02:23:18.444Z"
   },
   {
    "duration": 43,
    "start_time": "2024-07-10T02:23:18.481Z"
   },
   {
    "duration": 20,
    "start_time": "2024-07-10T02:23:18.527Z"
   },
   {
    "duration": 19,
    "start_time": "2024-07-10T02:23:18.550Z"
   },
   {
    "duration": 64,
    "start_time": "2024-07-10T02:23:18.572Z"
   },
   {
    "duration": 183,
    "start_time": "2024-07-10T02:23:18.643Z"
   },
   {
    "duration": 187,
    "start_time": "2024-07-10T02:23:18.829Z"
   },
   {
    "duration": 10,
    "start_time": "2024-07-10T02:23:19.026Z"
   },
   {
    "duration": 18,
    "start_time": "2024-07-10T02:23:19.038Z"
   },
   {
    "duration": 142,
    "start_time": "2024-07-10T02:23:19.060Z"
   },
   {
    "duration": 198,
    "start_time": "2024-07-10T02:23:19.206Z"
   },
   {
    "duration": 181,
    "start_time": "2024-07-10T02:23:19.407Z"
   },
   {
    "duration": 203,
    "start_time": "2024-07-10T02:23:19.591Z"
   },
   {
    "duration": 47,
    "start_time": "2024-07-10T02:23:19.797Z"
   },
   {
    "duration": 24,
    "start_time": "2024-07-10T02:23:19.847Z"
   },
   {
    "duration": 20,
    "start_time": "2024-07-10T02:23:19.874Z"
   },
   {
    "duration": 32,
    "start_time": "2024-07-10T02:23:19.924Z"
   },
   {
    "duration": 33,
    "start_time": "2024-07-10T02:23:19.959Z"
   },
   {
    "duration": 71,
    "start_time": "2024-07-10T02:23:19.994Z"
   },
   {
    "duration": 8,
    "start_time": "2024-07-10T02:23:20.068Z"
   },
   {
    "duration": 9,
    "start_time": "2024-07-10T02:23:20.079Z"
   },
   {
    "duration": 12,
    "start_time": "2024-07-10T02:23:20.125Z"
   },
   {
    "duration": 8,
    "start_time": "2024-07-10T02:23:20.140Z"
   },
   {
    "duration": 11,
    "start_time": "2024-07-10T02:23:20.151Z"
   },
   {
    "duration": 10,
    "start_time": "2024-07-10T02:23:20.165Z"
   },
   {
    "duration": 1384,
    "start_time": "2024-07-10T02:23:20.230Z"
   },
   {
    "duration": 1360,
    "start_time": "2024-07-10T02:23:21.617Z"
   },
   {
    "duration": 1201,
    "start_time": "2024-07-10T02:23:22.980Z"
   },
   {
    "duration": 11,
    "start_time": "2024-07-10T02:23:24.184Z"
   },
   {
    "duration": 38,
    "start_time": "2024-07-10T02:23:24.198Z"
   },
   {
    "duration": 12,
    "start_time": "2024-07-10T02:23:24.239Z"
   },
   {
    "duration": 13,
    "start_time": "2024-07-10T02:23:24.254Z"
   },
   {
    "duration": 52,
    "start_time": "2024-07-10T02:23:24.270Z"
   },
   {
    "duration": 10,
    "start_time": "2024-07-10T02:23:24.325Z"
   },
   {
    "duration": 7,
    "start_time": "2024-07-10T02:23:24.338Z"
   },
   {
    "duration": 11,
    "start_time": "2024-07-10T02:23:24.348Z"
   },
   {
    "duration": 10,
    "start_time": "2024-07-10T02:23:24.363Z"
   },
   {
    "duration": 54,
    "start_time": "2024-07-10T02:23:24.376Z"
   },
   {
    "duration": 19,
    "start_time": "2024-07-10T02:23:24.434Z"
   },
   {
    "duration": 5,
    "start_time": "2024-07-10T02:23:24.457Z"
   },
   {
    "duration": 11,
    "start_time": "2024-07-10T02:23:24.466Z"
   },
   {
    "duration": 69,
    "start_time": "2024-07-10T02:23:24.480Z"
   },
   {
    "duration": 28,
    "start_time": "2024-07-10T02:23:24.552Z"
   },
   {
    "duration": 60,
    "start_time": "2024-07-10T02:23:24.583Z"
   },
   {
    "duration": 11,
    "start_time": "2024-07-10T02:23:24.645Z"
   },
   {
    "duration": 4,
    "start_time": "2024-07-10T02:23:24.659Z"
   },
   {
    "duration": 577,
    "start_time": "2024-07-10T02:23:24.666Z"
   },
   {
    "duration": 14,
    "start_time": "2024-07-10T02:23:25.246Z"
   },
   {
    "duration": 127,
    "start_time": "2024-07-10T02:23:25.263Z"
   },
   {
    "duration": 75,
    "start_time": "2024-07-10T02:23:25.395Z"
   },
   {
    "duration": 13,
    "start_time": "2024-07-10T02:23:25.473Z"
   },
   {
    "duration": 606,
    "start_time": "2024-07-10T02:23:25.489Z"
   },
   {
    "duration": 26,
    "start_time": "2024-07-10T02:23:26.098Z"
   },
   {
    "duration": 230,
    "start_time": "2024-07-10T02:23:26.127Z"
   },
   {
    "duration": 7,
    "start_time": "2024-07-10T02:23:26.360Z"
   },
   {
    "duration": 1338,
    "start_time": "2024-07-10T02:23:26.370Z"
   },
   {
    "duration": 212,
    "start_time": "2024-07-10T02:23:27.710Z"
   },
   {
    "duration": 11,
    "start_time": "2024-07-10T02:23:27.925Z"
   },
   {
    "duration": 8,
    "start_time": "2024-07-10T02:23:27.940Z"
   },
   {
    "duration": 7,
    "start_time": "2024-07-10T02:23:27.951Z"
   },
   {
    "duration": 5,
    "start_time": "2024-07-10T02:23:27.961Z"
   },
   {
    "duration": 62,
    "start_time": "2024-07-10T02:23:27.969Z"
   },
   {
    "duration": 5,
    "start_time": "2024-07-10T02:23:28.034Z"
   },
   {
    "duration": 13,
    "start_time": "2024-07-10T02:23:28.042Z"
   },
   {
    "duration": 12,
    "start_time": "2024-07-10T02:23:28.059Z"
   },
   {
    "duration": 456,
    "start_time": "2024-07-10T02:23:28.075Z"
   },
   {
    "duration": 63,
    "start_time": "2024-07-10T02:23:28.534Z"
   },
   {
    "duration": 29,
    "start_time": "2024-07-10T02:23:28.600Z"
   },
   {
    "duration": 361,
    "start_time": "2024-07-10T02:23:28.632Z"
   },
   {
    "duration": 174,
    "start_time": "2024-07-10T02:23:28.996Z"
   },
   {
    "duration": 11,
    "start_time": "2024-07-10T02:23:29.173Z"
   },
   {
    "duration": 44,
    "start_time": "2024-07-10T02:23:29.186Z"
   },
   {
    "duration": 535,
    "start_time": "2024-07-10T02:23:29.233Z"
   },
   {
    "duration": 13,
    "start_time": "2024-07-10T02:23:29.770Z"
   },
   {
    "duration": 1523,
    "start_time": "2024-07-10T02:23:29.787Z"
   },
   {
    "duration": 187,
    "start_time": "2024-07-10T02:23:31.313Z"
   },
   {
    "duration": 107,
    "start_time": "2024-07-10T02:23:31.502Z"
   },
   {
    "duration": 12,
    "start_time": "2024-07-10T02:23:31.622Z"
   },
   {
    "duration": 25,
    "start_time": "2024-07-10T02:23:31.637Z"
   },
   {
    "duration": 458,
    "start_time": "2024-07-10T02:23:31.673Z"
   },
   {
    "duration": 0,
    "start_time": "2024-07-10T02:23:32.134Z"
   },
   {
    "duration": 0,
    "start_time": "2024-07-10T02:23:32.136Z"
   },
   {
    "duration": 13,
    "start_time": "2024-07-10T02:23:56.657Z"
   },
   {
    "duration": 588,
    "start_time": "2024-07-10T02:24:59.103Z"
   },
   {
    "duration": 1565,
    "start_time": "2024-07-10T02:24:59.695Z"
   },
   {
    "duration": 31,
    "start_time": "2024-07-10T02:25:01.263Z"
   },
   {
    "duration": 22,
    "start_time": "2024-07-10T02:25:01.322Z"
   },
   {
    "duration": 20,
    "start_time": "2024-07-10T02:25:01.347Z"
   },
   {
    "duration": 53,
    "start_time": "2024-07-10T02:25:01.370Z"
   },
   {
    "duration": 17,
    "start_time": "2024-07-10T02:25:01.426Z"
   },
   {
    "duration": 198,
    "start_time": "2024-07-10T02:25:01.446Z"
   },
   {
    "duration": 214,
    "start_time": "2024-07-10T02:25:01.647Z"
   },
   {
    "duration": 10,
    "start_time": "2024-07-10T02:25:01.867Z"
   },
   {
    "duration": 48,
    "start_time": "2024-07-10T02:25:01.880Z"
   },
   {
    "duration": 116,
    "start_time": "2024-07-10T02:25:01.931Z"
   },
   {
    "duration": 191,
    "start_time": "2024-07-10T02:25:02.050Z"
   },
   {
    "duration": 180,
    "start_time": "2024-07-10T02:25:02.244Z"
   },
   {
    "duration": 185,
    "start_time": "2024-07-10T02:25:02.426Z"
   },
   {
    "duration": 30,
    "start_time": "2024-07-10T02:25:02.614Z"
   },
   {
    "duration": 23,
    "start_time": "2024-07-10T02:25:02.647Z"
   },
   {
    "duration": 18,
    "start_time": "2024-07-10T02:25:02.673Z"
   },
   {
    "duration": 31,
    "start_time": "2024-07-10T02:25:02.723Z"
   },
   {
    "duration": 35,
    "start_time": "2024-07-10T02:25:02.756Z"
   },
   {
    "duration": 69,
    "start_time": "2024-07-10T02:25:02.794Z"
   },
   {
    "duration": 8,
    "start_time": "2024-07-10T02:25:02.866Z"
   },
   {
    "duration": 14,
    "start_time": "2024-07-10T02:25:02.877Z"
   },
   {
    "duration": 9,
    "start_time": "2024-07-10T02:25:02.924Z"
   },
   {
    "duration": 7,
    "start_time": "2024-07-10T02:25:02.936Z"
   },
   {
    "duration": 10,
    "start_time": "2024-07-10T02:25:02.946Z"
   },
   {
    "duration": 9,
    "start_time": "2024-07-10T02:25:02.960Z"
   },
   {
    "duration": 1401,
    "start_time": "2024-07-10T02:25:03.024Z"
   },
   {
    "duration": 1414,
    "start_time": "2024-07-10T02:25:04.428Z"
   },
   {
    "duration": 1279,
    "start_time": "2024-07-10T02:25:05.845Z"
   },
   {
    "duration": 11,
    "start_time": "2024-07-10T02:25:07.127Z"
   },
   {
    "duration": 20,
    "start_time": "2024-07-10T02:25:07.142Z"
   },
   {
    "duration": 12,
    "start_time": "2024-07-10T02:25:07.164Z"
   },
   {
    "duration": 52,
    "start_time": "2024-07-10T02:25:07.179Z"
   },
   {
    "duration": 13,
    "start_time": "2024-07-10T02:25:07.234Z"
   },
   {
    "duration": 12,
    "start_time": "2024-07-10T02:25:07.250Z"
   },
   {
    "duration": 12,
    "start_time": "2024-07-10T02:25:07.265Z"
   },
   {
    "duration": 53,
    "start_time": "2024-07-10T02:25:07.280Z"
   },
   {
    "duration": 11,
    "start_time": "2024-07-10T02:25:07.338Z"
   },
   {
    "duration": 14,
    "start_time": "2024-07-10T02:25:07.353Z"
   },
   {
    "duration": 60,
    "start_time": "2024-07-10T02:25:07.370Z"
   },
   {
    "duration": 6,
    "start_time": "2024-07-10T02:25:07.434Z"
   },
   {
    "duration": 13,
    "start_time": "2024-07-10T02:25:07.443Z"
   },
   {
    "duration": 70,
    "start_time": "2024-07-10T02:25:07.460Z"
   },
   {
    "duration": 31,
    "start_time": "2024-07-10T02:25:07.532Z"
   },
   {
    "duration": 56,
    "start_time": "2024-07-10T02:25:07.566Z"
   },
   {
    "duration": 10,
    "start_time": "2024-07-10T02:25:07.625Z"
   },
   {
    "duration": 4,
    "start_time": "2024-07-10T02:25:07.638Z"
   },
   {
    "duration": 582,
    "start_time": "2024-07-10T02:25:07.645Z"
   },
   {
    "duration": 16,
    "start_time": "2024-07-10T02:25:08.230Z"
   },
   {
    "duration": 130,
    "start_time": "2024-07-10T02:25:08.248Z"
   },
   {
    "duration": 74,
    "start_time": "2024-07-10T02:25:08.381Z"
   },
   {
    "duration": 13,
    "start_time": "2024-07-10T02:25:08.458Z"
   },
   {
    "duration": 611,
    "start_time": "2024-07-10T02:25:08.474Z"
   },
   {
    "duration": 14,
    "start_time": "2024-07-10T02:25:09.088Z"
   },
   {
    "duration": 222,
    "start_time": "2024-07-10T02:25:09.122Z"
   },
   {
    "duration": 17,
    "start_time": "2024-07-10T02:25:09.349Z"
   },
   {
    "duration": 1401,
    "start_time": "2024-07-10T02:25:09.369Z"
   },
   {
    "duration": 257,
    "start_time": "2024-07-10T02:25:10.773Z"
   },
   {
    "duration": 12,
    "start_time": "2024-07-10T02:25:11.033Z"
   },
   {
    "duration": 8,
    "start_time": "2024-07-10T02:25:11.047Z"
   },
   {
    "duration": 11,
    "start_time": "2024-07-10T02:25:11.058Z"
   },
   {
    "duration": 7,
    "start_time": "2024-07-10T02:25:11.072Z"
   },
   {
    "duration": 50,
    "start_time": "2024-07-10T02:25:11.083Z"
   },
   {
    "duration": 5,
    "start_time": "2024-07-10T02:25:11.136Z"
   },
   {
    "duration": 21,
    "start_time": "2024-07-10T02:25:11.143Z"
   },
   {
    "duration": 16,
    "start_time": "2024-07-10T02:25:11.169Z"
   },
   {
    "duration": 703,
    "start_time": "2024-07-10T02:25:11.224Z"
   },
   {
    "duration": 99,
    "start_time": "2024-07-10T02:25:11.930Z"
   },
   {
    "duration": 10,
    "start_time": "2024-07-10T02:25:12.032Z"
   },
   {
    "duration": 382,
    "start_time": "2024-07-10T02:25:12.045Z"
   },
   {
    "duration": 189,
    "start_time": "2024-07-10T02:25:12.430Z"
   },
   {
    "duration": 11,
    "start_time": "2024-07-10T02:25:12.623Z"
   },
   {
    "duration": 25,
    "start_time": "2024-07-10T02:25:12.637Z"
   },
   {
    "duration": 545,
    "start_time": "2024-07-10T02:25:12.664Z"
   },
   {
    "duration": 21,
    "start_time": "2024-07-10T02:25:13.212Z"
   },
   {
    "duration": 1480,
    "start_time": "2024-07-10T02:25:13.235Z"
   },
   {
    "duration": 177,
    "start_time": "2024-07-10T02:25:14.722Z"
   },
   {
    "duration": 95,
    "start_time": "2024-07-10T02:25:14.902Z"
   },
   {
    "duration": 11,
    "start_time": "2024-07-10T02:25:14.999Z"
   },
   {
    "duration": 24,
    "start_time": "2024-07-10T02:25:15.024Z"
   },
   {
    "duration": 25,
    "start_time": "2024-07-10T02:25:15.060Z"
   },
   {
    "duration": 43,
    "start_time": "2024-07-10T02:25:15.088Z"
   },
   {
    "duration": 1077,
    "start_time": "2024-07-10T02:25:15.135Z"
   },
   {
    "duration": 5,
    "start_time": "2024-07-10T02:27:39.768Z"
   },
   {
    "duration": 6,
    "start_time": "2024-07-10T02:27:50.163Z"
   },
   {
    "duration": 18,
    "start_time": "2024-07-10T02:28:37.732Z"
   },
   {
    "duration": 19,
    "start_time": "2024-07-10T02:28:53.976Z"
   },
   {
    "duration": 18,
    "start_time": "2024-07-10T02:29:14.620Z"
   },
   {
    "duration": 146,
    "start_time": "2024-07-10T02:30:17.209Z"
   },
   {
    "duration": 541,
    "start_time": "2024-07-10T02:30:24.096Z"
   },
   {
    "duration": 1521,
    "start_time": "2024-07-10T02:30:24.641Z"
   },
   {
    "duration": 30,
    "start_time": "2024-07-10T02:30:26.165Z"
   },
   {
    "duration": 43,
    "start_time": "2024-07-10T02:30:26.199Z"
   },
   {
    "duration": 20,
    "start_time": "2024-07-10T02:30:26.244Z"
   },
   {
    "duration": 55,
    "start_time": "2024-07-10T02:30:26.268Z"
   },
   {
    "duration": 20,
    "start_time": "2024-07-10T02:30:26.326Z"
   },
   {
    "duration": 189,
    "start_time": "2024-07-10T02:30:26.349Z"
   },
   {
    "duration": 188,
    "start_time": "2024-07-10T02:30:26.541Z"
   },
   {
    "duration": 10,
    "start_time": "2024-07-10T02:30:26.735Z"
   },
   {
    "duration": 19,
    "start_time": "2024-07-10T02:30:26.748Z"
   },
   {
    "duration": 141,
    "start_time": "2024-07-10T02:30:26.770Z"
   },
   {
    "duration": 222,
    "start_time": "2024-07-10T02:30:26.913Z"
   },
   {
    "duration": 186,
    "start_time": "2024-07-10T02:30:27.138Z"
   },
   {
    "duration": 192,
    "start_time": "2024-07-10T02:30:27.327Z"
   },
   {
    "duration": 25,
    "start_time": "2024-07-10T02:30:27.524Z"
   },
   {
    "duration": 20,
    "start_time": "2024-07-10T02:30:27.552Z"
   },
   {
    "duration": 49,
    "start_time": "2024-07-10T02:30:27.575Z"
   },
   {
    "duration": 32,
    "start_time": "2024-07-10T02:30:27.628Z"
   },
   {
    "duration": 61,
    "start_time": "2024-07-10T02:30:27.663Z"
   },
   {
    "duration": 49,
    "start_time": "2024-07-10T02:30:27.726Z"
   },
   {
    "duration": 8,
    "start_time": "2024-07-10T02:30:27.777Z"
   },
   {
    "duration": 39,
    "start_time": "2024-07-10T02:30:27.788Z"
   },
   {
    "duration": 9,
    "start_time": "2024-07-10T02:30:27.830Z"
   },
   {
    "duration": 7,
    "start_time": "2024-07-10T02:30:27.843Z"
   },
   {
    "duration": 10,
    "start_time": "2024-07-10T02:30:27.853Z"
   },
   {
    "duration": 56,
    "start_time": "2024-07-10T02:30:27.866Z"
   },
   {
    "duration": 1369,
    "start_time": "2024-07-10T02:30:27.933Z"
   },
   {
    "duration": 1403,
    "start_time": "2024-07-10T02:30:29.305Z"
   },
   {
    "duration": 1189,
    "start_time": "2024-07-10T02:30:30.711Z"
   },
   {
    "duration": 24,
    "start_time": "2024-07-10T02:30:31.903Z"
   },
   {
    "duration": 20,
    "start_time": "2024-07-10T02:30:31.930Z"
   },
   {
    "duration": 12,
    "start_time": "2024-07-10T02:30:31.953Z"
   },
   {
    "duration": 11,
    "start_time": "2024-07-10T02:30:31.968Z"
   },
   {
    "duration": 45,
    "start_time": "2024-07-10T02:30:31.983Z"
   },
   {
    "duration": 9,
    "start_time": "2024-07-10T02:30:32.032Z"
   },
   {
    "duration": 7,
    "start_time": "2024-07-10T02:30:32.045Z"
   },
   {
    "duration": 11,
    "start_time": "2024-07-10T02:30:32.055Z"
   },
   {
    "duration": 59,
    "start_time": "2024-07-10T02:30:32.070Z"
   },
   {
    "duration": 12,
    "start_time": "2024-07-10T02:30:32.132Z"
   },
   {
    "duration": 20,
    "start_time": "2024-07-10T02:30:32.146Z"
   },
   {
    "duration": 5,
    "start_time": "2024-07-10T02:30:32.169Z"
   },
   {
    "duration": 47,
    "start_time": "2024-07-10T02:30:32.177Z"
   },
   {
    "duration": 29,
    "start_time": "2024-07-10T02:30:32.227Z"
   },
   {
    "duration": 28,
    "start_time": "2024-07-10T02:30:32.260Z"
   },
   {
    "duration": 27,
    "start_time": "2024-07-10T02:30:32.324Z"
   },
   {
    "duration": 10,
    "start_time": "2024-07-10T02:30:32.355Z"
   },
   {
    "duration": 4,
    "start_time": "2024-07-10T02:30:32.368Z"
   },
   {
    "duration": 596,
    "start_time": "2024-07-10T02:30:32.375Z"
   },
   {
    "duration": 14,
    "start_time": "2024-07-10T02:30:32.974Z"
   },
   {
    "duration": 124,
    "start_time": "2024-07-10T02:30:32.991Z"
   },
   {
    "duration": 63,
    "start_time": "2024-07-10T02:30:33.123Z"
   },
   {
    "duration": 34,
    "start_time": "2024-07-10T02:30:33.189Z"
   },
   {
    "duration": 601,
    "start_time": "2024-07-10T02:30:33.226Z"
   },
   {
    "duration": 14,
    "start_time": "2024-07-10T02:30:33.830Z"
   },
   {
    "duration": 248,
    "start_time": "2024-07-10T02:30:33.847Z"
   },
   {
    "duration": 7,
    "start_time": "2024-07-10T02:30:34.099Z"
   },
   {
    "duration": 1327,
    "start_time": "2024-07-10T02:30:34.124Z"
   },
   {
    "duration": 216,
    "start_time": "2024-07-10T02:30:35.454Z"
   },
   {
    "duration": 15,
    "start_time": "2024-07-10T02:30:35.673Z"
   },
   {
    "duration": 8,
    "start_time": "2024-07-10T02:30:35.691Z"
   },
   {
    "duration": 11,
    "start_time": "2024-07-10T02:30:35.724Z"
   },
   {
    "duration": 5,
    "start_time": "2024-07-10T02:30:35.737Z"
   },
   {
    "duration": 17,
    "start_time": "2024-07-10T02:30:35.745Z"
   },
   {
    "duration": 5,
    "start_time": "2024-07-10T02:30:35.765Z"
   },
   {
    "duration": 55,
    "start_time": "2024-07-10T02:30:35.774Z"
   },
   {
    "duration": 14,
    "start_time": "2024-07-10T02:30:35.832Z"
   },
   {
    "duration": 516,
    "start_time": "2024-07-10T02:30:35.850Z"
   },
   {
    "duration": 76,
    "start_time": "2024-07-10T02:30:36.372Z"
   },
   {
    "duration": 13,
    "start_time": "2024-07-10T02:30:36.452Z"
   },
   {
    "duration": 412,
    "start_time": "2024-07-10T02:30:36.469Z"
   },
   {
    "duration": 205,
    "start_time": "2024-07-10T02:30:36.885Z"
   },
   {
    "duration": 12,
    "start_time": "2024-07-10T02:30:37.093Z"
   },
   {
    "duration": 42,
    "start_time": "2024-07-10T02:30:37.108Z"
   },
   {
    "duration": 584,
    "start_time": "2024-07-10T02:30:37.153Z"
   },
   {
    "duration": 14,
    "start_time": "2024-07-10T02:30:37.740Z"
   },
   {
    "duration": 1531,
    "start_time": "2024-07-10T02:30:37.757Z"
   },
   {
    "duration": 187,
    "start_time": "2024-07-10T02:30:39.291Z"
   },
   {
    "duration": 101,
    "start_time": "2024-07-10T02:30:39.480Z"
   },
   {
    "duration": 10,
    "start_time": "2024-07-10T02:30:39.584Z"
   },
   {
    "duration": 41,
    "start_time": "2024-07-10T02:30:39.597Z"
   },
   {
    "duration": 46,
    "start_time": "2024-07-10T02:30:39.650Z"
   },
   {
    "duration": 19,
    "start_time": "2024-07-10T02:30:39.703Z"
   },
   {
    "duration": 19,
    "start_time": "2024-07-10T02:30:39.726Z"
   },
   {
    "duration": 18,
    "start_time": "2024-07-10T02:32:00.444Z"
   },
   {
    "duration": 445,
    "start_time": "2024-07-10T02:36:57.208Z"
   },
   {
    "duration": 13,
    "start_time": "2024-07-10T02:37:22.921Z"
   },
   {
    "duration": 22,
    "start_time": "2024-07-10T02:37:57.110Z"
   },
   {
    "duration": 11,
    "start_time": "2024-07-10T02:38:04.688Z"
   },
   {
    "duration": 736,
    "start_time": "2024-07-10T02:44:50.102Z"
   },
   {
    "duration": 678,
    "start_time": "2024-07-10T02:57:07.831Z"
   },
   {
    "duration": 732,
    "start_time": "2024-07-10T02:57:25.992Z"
   },
   {
    "duration": 223,
    "start_time": "2024-07-10T03:01:34.647Z"
   },
   {
    "duration": 315,
    "start_time": "2024-07-10T03:05:04.318Z"
   },
   {
    "duration": 7,
    "start_time": "2024-07-10T03:09:10.753Z"
   },
   {
    "duration": 21,
    "start_time": "2024-07-10T03:09:29.686Z"
   },
   {
    "duration": 39,
    "start_time": "2024-07-10T03:19:30.111Z"
   },
   {
    "duration": 45,
    "start_time": "2024-07-10T03:19:40.470Z"
   },
   {
    "duration": 14,
    "start_time": "2024-07-10T03:21:02.970Z"
   },
   {
    "duration": 24,
    "start_time": "2024-07-10T03:21:21.171Z"
   },
   {
    "duration": 16,
    "start_time": "2024-07-10T03:23:57.357Z"
   },
   {
    "duration": 17,
    "start_time": "2024-07-10T03:24:00.870Z"
   },
   {
    "duration": 20,
    "start_time": "2024-07-10T03:24:08.120Z"
   },
   {
    "duration": 24,
    "start_time": "2024-07-10T03:24:57.319Z"
   },
   {
    "duration": 530,
    "start_time": "2024-07-10T03:27:19.588Z"
   },
   {
    "duration": 330,
    "start_time": "2024-07-10T04:56:17.692Z"
   },
   {
    "duration": 541,
    "start_time": "2024-07-10T04:56:28.104Z"
   },
   {
    "duration": 1629,
    "start_time": "2024-07-10T04:56:28.649Z"
   },
   {
    "duration": 34,
    "start_time": "2024-07-10T04:56:30.281Z"
   },
   {
    "duration": 48,
    "start_time": "2024-07-10T04:56:30.321Z"
   },
   {
    "duration": 19,
    "start_time": "2024-07-10T04:56:30.372Z"
   },
   {
    "duration": 20,
    "start_time": "2024-07-10T04:56:30.395Z"
   },
   {
    "duration": 59,
    "start_time": "2024-07-10T04:56:30.418Z"
   },
   {
    "duration": 179,
    "start_time": "2024-07-10T04:56:30.480Z"
   },
   {
    "duration": 179,
    "start_time": "2024-07-10T04:56:30.667Z"
   },
   {
    "duration": 18,
    "start_time": "2024-07-10T04:56:30.853Z"
   },
   {
    "duration": 19,
    "start_time": "2024-07-10T04:56:30.874Z"
   },
   {
    "duration": 133,
    "start_time": "2024-07-10T04:56:30.896Z"
   },
   {
    "duration": 210,
    "start_time": "2024-07-10T04:56:31.032Z"
   },
   {
    "duration": 179,
    "start_time": "2024-07-10T04:56:31.245Z"
   },
   {
    "duration": 183,
    "start_time": "2024-07-10T04:56:31.427Z"
   },
   {
    "duration": 25,
    "start_time": "2024-07-10T04:56:31.614Z"
   },
   {
    "duration": 41,
    "start_time": "2024-07-10T04:56:31.642Z"
   },
   {
    "duration": 20,
    "start_time": "2024-07-10T04:56:31.686Z"
   },
   {
    "duration": 60,
    "start_time": "2024-07-10T04:56:31.709Z"
   },
   {
    "duration": 32,
    "start_time": "2024-07-10T04:56:31.772Z"
   },
   {
    "duration": 66,
    "start_time": "2024-07-10T04:56:31.807Z"
   },
   {
    "duration": 7,
    "start_time": "2024-07-10T04:56:31.876Z"
   },
   {
    "duration": 9,
    "start_time": "2024-07-10T04:56:31.887Z"
   },
   {
    "duration": 11,
    "start_time": "2024-07-10T04:56:31.899Z"
   },
   {
    "duration": 7,
    "start_time": "2024-07-10T04:56:31.913Z"
   },
   {
    "duration": 10,
    "start_time": "2024-07-10T04:56:31.968Z"
   },
   {
    "duration": 10,
    "start_time": "2024-07-10T04:56:31.980Z"
   },
   {
    "duration": 1361,
    "start_time": "2024-07-10T04:56:32.001Z"
   },
   {
    "duration": 1366,
    "start_time": "2024-07-10T04:56:33.369Z"
   },
   {
    "duration": 1175,
    "start_time": "2024-07-10T04:56:34.738Z"
   },
   {
    "duration": 12,
    "start_time": "2024-07-10T04:56:35.917Z"
   },
   {
    "duration": 44,
    "start_time": "2024-07-10T04:56:35.932Z"
   },
   {
    "duration": 13,
    "start_time": "2024-07-10T04:56:35.978Z"
   },
   {
    "duration": 10,
    "start_time": "2024-07-10T04:56:35.994Z"
   },
   {
    "duration": 11,
    "start_time": "2024-07-10T04:56:36.008Z"
   },
   {
    "duration": 53,
    "start_time": "2024-07-10T04:56:36.022Z"
   },
   {
    "duration": 8,
    "start_time": "2024-07-10T04:56:36.078Z"
   },
   {
    "duration": 11,
    "start_time": "2024-07-10T04:56:36.089Z"
   },
   {
    "duration": 13,
    "start_time": "2024-07-10T04:56:36.102Z"
   },
   {
    "duration": 50,
    "start_time": "2024-07-10T04:56:36.119Z"
   },
   {
    "duration": 20,
    "start_time": "2024-07-10T04:56:36.173Z"
   },
   {
    "duration": 6,
    "start_time": "2024-07-10T04:56:36.196Z"
   },
   {
    "duration": 12,
    "start_time": "2024-07-10T04:56:36.205Z"
   },
   {
    "duration": 71,
    "start_time": "2024-07-10T04:56:36.222Z"
   },
   {
    "duration": 29,
    "start_time": "2024-07-10T04:56:36.295Z"
   },
   {
    "duration": 59,
    "start_time": "2024-07-10T04:56:36.327Z"
   },
   {
    "duration": 10,
    "start_time": "2024-07-10T04:56:36.389Z"
   },
   {
    "duration": 3,
    "start_time": "2024-07-10T04:56:36.402Z"
   },
   {
    "duration": 585,
    "start_time": "2024-07-10T04:56:36.409Z"
   },
   {
    "duration": 13,
    "start_time": "2024-07-10T04:56:36.998Z"
   },
   {
    "duration": 126,
    "start_time": "2024-07-10T04:56:37.014Z"
   },
   {
    "duration": 76,
    "start_time": "2024-07-10T04:56:37.144Z"
   },
   {
    "duration": 13,
    "start_time": "2024-07-10T04:56:37.223Z"
   },
   {
    "duration": 4130,
    "start_time": "2024-07-10T04:56:37.239Z"
   },
   {
    "duration": 13,
    "start_time": "2024-07-10T04:56:41.373Z"
   },
   {
    "duration": 251,
    "start_time": "2024-07-10T04:56:41.389Z"
   },
   {
    "duration": 7,
    "start_time": "2024-07-10T04:56:41.643Z"
   },
   {
    "duration": 1371,
    "start_time": "2024-07-10T04:56:41.652Z"
   },
   {
    "duration": 198,
    "start_time": "2024-07-10T04:56:43.026Z"
   },
   {
    "duration": 12,
    "start_time": "2024-07-10T04:56:43.226Z"
   },
   {
    "duration": 28,
    "start_time": "2024-07-10T04:56:43.241Z"
   },
   {
    "duration": 7,
    "start_time": "2024-07-10T04:56:43.271Z"
   },
   {
    "duration": 5,
    "start_time": "2024-07-10T04:56:43.281Z"
   },
   {
    "duration": 15,
    "start_time": "2024-07-10T04:56:43.289Z"
   },
   {
    "duration": 5,
    "start_time": "2024-07-10T04:56:43.307Z"
   },
   {
    "duration": 59,
    "start_time": "2024-07-10T04:56:43.316Z"
   },
   {
    "duration": 15,
    "start_time": "2024-07-10T04:56:43.379Z"
   },
   {
    "duration": 436,
    "start_time": "2024-07-10T04:56:43.397Z"
   },
   {
    "duration": 76,
    "start_time": "2024-07-10T04:56:43.836Z"
   },
   {
    "duration": 10,
    "start_time": "2024-07-10T04:56:43.915Z"
   },
   {
    "duration": 406,
    "start_time": "2024-07-10T04:56:43.928Z"
   },
   {
    "duration": 186,
    "start_time": "2024-07-10T04:56:44.337Z"
   },
   {
    "duration": 10,
    "start_time": "2024-07-10T04:56:44.529Z"
   },
   {
    "duration": 42,
    "start_time": "2024-07-10T04:56:44.542Z"
   },
   {
    "duration": 535,
    "start_time": "2024-07-10T04:56:44.587Z"
   },
   {
    "duration": 13,
    "start_time": "2024-07-10T04:56:45.125Z"
   },
   {
    "duration": 1484,
    "start_time": "2024-07-10T04:56:45.141Z"
   },
   {
    "duration": 184,
    "start_time": "2024-07-10T04:56:46.629Z"
   },
   {
    "duration": 96,
    "start_time": "2024-07-10T04:56:46.816Z"
   },
   {
    "duration": 10,
    "start_time": "2024-07-10T04:56:46.915Z"
   },
   {
    "duration": 43,
    "start_time": "2024-07-10T04:56:46.928Z"
   },
   {
    "duration": 29,
    "start_time": "2024-07-10T04:56:46.985Z"
   },
   {
    "duration": 12,
    "start_time": "2024-07-10T04:56:47.016Z"
   },
   {
    "duration": 770,
    "start_time": "2024-07-10T04:56:47.032Z"
   },
   {
    "duration": 358,
    "start_time": "2024-07-10T04:56:47.805Z"
   },
   {
    "duration": 21,
    "start_time": "2024-07-10T04:56:48.169Z"
   },
   {
    "duration": 45,
    "start_time": "2024-07-10T04:56:48.193Z"
   },
   {
    "duration": 24,
    "start_time": "2024-07-10T04:56:48.268Z"
   },
   {
    "duration": 23,
    "start_time": "2024-07-10T04:56:48.295Z"
   },
   {
    "duration": 9,
    "start_time": "2024-07-10T06:02:35.671Z"
   },
   {
    "duration": 8,
    "start_time": "2024-07-10T06:02:45.234Z"
   },
   {
    "duration": 36,
    "start_time": "2024-07-10T06:10:01.709Z"
   },
   {
    "duration": 166,
    "start_time": "2024-07-10T06:12:52.910Z"
   },
   {
    "duration": 43,
    "start_time": "2024-07-10T06:14:49.664Z"
   },
   {
    "duration": 516,
    "start_time": "2024-07-10T06:16:42.900Z"
   },
   {
    "duration": 180,
    "start_time": "2024-07-10T06:17:32.488Z"
   },
   {
    "duration": 414,
    "start_time": "2024-07-10T06:36:03.783Z"
   },
   {
    "duration": 274,
    "start_time": "2024-07-10T06:36:23.256Z"
   },
   {
    "duration": 217,
    "start_time": "2024-07-10T06:37:50.962Z"
   },
   {
    "duration": 199,
    "start_time": "2024-07-10T06:38:15.387Z"
   },
   {
    "duration": 187,
    "start_time": "2024-07-10T06:38:31.204Z"
   },
   {
    "duration": 190,
    "start_time": "2024-07-10T06:38:44.858Z"
   },
   {
    "duration": 560,
    "start_time": "2024-07-10T06:39:24.851Z"
   },
   {
    "duration": 1496,
    "start_time": "2024-07-10T06:39:25.415Z"
   },
   {
    "duration": 30,
    "start_time": "2024-07-10T06:39:26.914Z"
   },
   {
    "duration": 36,
    "start_time": "2024-07-10T06:39:26.948Z"
   },
   {
    "duration": 20,
    "start_time": "2024-07-10T06:39:26.987Z"
   },
   {
    "duration": 62,
    "start_time": "2024-07-10T06:39:27.010Z"
   },
   {
    "duration": 19,
    "start_time": "2024-07-10T06:39:27.074Z"
   },
   {
    "duration": 191,
    "start_time": "2024-07-10T06:39:27.096Z"
   },
   {
    "duration": 189,
    "start_time": "2024-07-10T06:39:27.290Z"
   },
   {
    "duration": 9,
    "start_time": "2024-07-10T06:39:27.487Z"
   },
   {
    "duration": 18,
    "start_time": "2024-07-10T06:39:27.499Z"
   },
   {
    "duration": 138,
    "start_time": "2024-07-10T06:39:27.519Z"
   },
   {
    "duration": 207,
    "start_time": "2024-07-10T06:39:27.660Z"
   },
   {
    "duration": 186,
    "start_time": "2024-07-10T06:39:27.870Z"
   },
   {
    "duration": 190,
    "start_time": "2024-07-10T06:39:28.059Z"
   },
   {
    "duration": 40,
    "start_time": "2024-07-10T06:39:28.252Z"
   },
   {
    "duration": 21,
    "start_time": "2024-07-10T06:39:28.295Z"
   },
   {
    "duration": 18,
    "start_time": "2024-07-10T06:39:28.319Z"
   },
   {
    "duration": 31,
    "start_time": "2024-07-10T06:39:28.367Z"
   },
   {
    "duration": 33,
    "start_time": "2024-07-10T06:39:28.400Z"
   },
   {
    "duration": 68,
    "start_time": "2024-07-10T06:39:28.437Z"
   },
   {
    "duration": 7,
    "start_time": "2024-07-10T06:39:28.508Z"
   },
   {
    "duration": 10,
    "start_time": "2024-07-10T06:39:28.518Z"
   },
   {
    "duration": 43,
    "start_time": "2024-07-10T06:39:28.532Z"
   },
   {
    "duration": 7,
    "start_time": "2024-07-10T06:39:28.581Z"
   },
   {
    "duration": 9,
    "start_time": "2024-07-10T06:39:28.591Z"
   },
   {
    "duration": 9,
    "start_time": "2024-07-10T06:39:28.603Z"
   },
   {
    "duration": 1309,
    "start_time": "2024-07-10T06:39:28.667Z"
   },
   {
    "duration": 1335,
    "start_time": "2024-07-10T06:39:29.979Z"
   },
   {
    "duration": 1144,
    "start_time": "2024-07-10T06:39:31.317Z"
   },
   {
    "duration": 11,
    "start_time": "2024-07-10T06:39:32.463Z"
   },
   {
    "duration": 20,
    "start_time": "2024-07-10T06:39:32.477Z"
   },
   {
    "duration": 11,
    "start_time": "2024-07-10T06:39:32.501Z"
   },
   {
    "duration": 54,
    "start_time": "2024-07-10T06:39:32.515Z"
   },
   {
    "duration": 10,
    "start_time": "2024-07-10T06:39:32.572Z"
   },
   {
    "duration": 10,
    "start_time": "2024-07-10T06:39:32.586Z"
   },
   {
    "duration": 6,
    "start_time": "2024-07-10T06:39:32.599Z"
   },
   {
    "duration": 11,
    "start_time": "2024-07-10T06:39:32.608Z"
   },
   {
    "duration": 12,
    "start_time": "2024-07-10T06:39:32.668Z"
   },
   {
    "duration": 11,
    "start_time": "2024-07-10T06:39:32.683Z"
   },
   {
    "duration": 18,
    "start_time": "2024-07-10T06:39:32.697Z"
   },
   {
    "duration": 5,
    "start_time": "2024-07-10T06:39:32.718Z"
   },
   {
    "duration": 53,
    "start_time": "2024-07-10T06:39:32.725Z"
   },
   {
    "duration": 29,
    "start_time": "2024-07-10T06:39:32.780Z"
   },
   {
    "duration": 68,
    "start_time": "2024-07-10T06:39:32.811Z"
   },
   {
    "duration": 28,
    "start_time": "2024-07-10T06:39:32.882Z"
   },
   {
    "duration": 9,
    "start_time": "2024-07-10T06:39:32.913Z"
   },
   {
    "duration": 3,
    "start_time": "2024-07-10T06:39:32.925Z"
   },
   {
    "duration": 532,
    "start_time": "2024-07-10T06:39:32.969Z"
   },
   {
    "duration": 13,
    "start_time": "2024-07-10T06:39:33.504Z"
   },
   {
    "duration": 127,
    "start_time": "2024-07-10T06:39:33.520Z"
   },
   {
    "duration": 77,
    "start_time": "2024-07-10T06:39:33.649Z"
   },
   {
    "duration": 14,
    "start_time": "2024-07-10T06:39:33.729Z"
   },
   {
    "duration": 585,
    "start_time": "2024-07-10T06:39:33.745Z"
   },
   {
    "duration": 13,
    "start_time": "2024-07-10T06:39:34.333Z"
   },
   {
    "duration": 240,
    "start_time": "2024-07-10T06:39:34.348Z"
   },
   {
    "duration": 7,
    "start_time": "2024-07-10T06:39:34.591Z"
   },
   {
    "duration": 1296,
    "start_time": "2024-07-10T06:39:34.601Z"
   },
   {
    "duration": 214,
    "start_time": "2024-07-10T06:39:35.900Z"
   },
   {
    "duration": 11,
    "start_time": "2024-07-10T06:39:36.117Z"
   },
   {
    "duration": 8,
    "start_time": "2024-07-10T06:39:36.131Z"
   },
   {
    "duration": 7,
    "start_time": "2024-07-10T06:39:36.167Z"
   },
   {
    "duration": 5,
    "start_time": "2024-07-10T06:39:36.176Z"
   },
   {
    "duration": 13,
    "start_time": "2024-07-10T06:39:36.184Z"
   },
   {
    "duration": 5,
    "start_time": "2024-07-10T06:39:36.200Z"
   },
   {
    "duration": 59,
    "start_time": "2024-07-10T06:39:36.208Z"
   },
   {
    "duration": 13,
    "start_time": "2024-07-10T06:39:36.270Z"
   },
   {
    "duration": 431,
    "start_time": "2024-07-10T06:39:36.286Z"
   },
   {
    "duration": 74,
    "start_time": "2024-07-10T06:39:36.720Z"
   },
   {
    "duration": 9,
    "start_time": "2024-07-10T06:39:36.797Z"
   },
   {
    "duration": 357,
    "start_time": "2024-07-10T06:39:36.809Z"
   },
   {
    "duration": 173,
    "start_time": "2024-07-10T06:39:37.170Z"
   },
   {
    "duration": 21,
    "start_time": "2024-07-10T06:39:37.346Z"
   },
   {
    "duration": 28,
    "start_time": "2024-07-10T06:39:37.371Z"
   },
   {
    "duration": 521,
    "start_time": "2024-07-10T06:39:37.405Z"
   },
   {
    "duration": 13,
    "start_time": "2024-07-10T06:39:37.929Z"
   },
   {
    "duration": 1483,
    "start_time": "2024-07-10T06:39:37.945Z"
   },
   {
    "duration": 178,
    "start_time": "2024-07-10T06:39:39.431Z"
   },
   {
    "duration": 95,
    "start_time": "2024-07-10T06:39:39.612Z"
   },
   {
    "duration": 10,
    "start_time": "2024-07-10T06:39:39.710Z"
   },
   {
    "duration": 44,
    "start_time": "2024-07-10T06:39:39.723Z"
   },
   {
    "duration": 27,
    "start_time": "2024-07-10T06:39:39.779Z"
   },
   {
    "duration": 60,
    "start_time": "2024-07-10T06:39:39.809Z"
   },
   {
    "duration": 706,
    "start_time": "2024-07-10T06:39:39.872Z"
   },
   {
    "duration": 334,
    "start_time": "2024-07-10T06:39:40.581Z"
   },
   {
    "duration": 16,
    "start_time": "2024-07-10T06:39:40.918Z"
   },
   {
    "duration": 65,
    "start_time": "2024-07-10T06:39:40.938Z"
   },
   {
    "duration": 203,
    "start_time": "2024-07-10T06:39:41.006Z"
   },
   {
    "duration": 58,
    "start_time": "2024-07-10T06:39:41.212Z"
   },
   {
    "duration": 24,
    "start_time": "2024-07-10T06:39:41.273Z"
   },
   {
    "duration": 25,
    "start_time": "2024-07-10T06:39:41.299Z"
   },
   {
    "duration": 8,
    "start_time": "2024-07-10T06:55:45.943Z"
   },
   {
    "duration": 1517,
    "start_time": "2024-07-10T06:55:54.161Z"
   },
   {
    "duration": 1587,
    "start_time": "2024-07-10T06:59:00.875Z"
   },
   {
    "duration": 1712,
    "start_time": "2024-07-10T07:00:14.994Z"
   },
   {
    "duration": 1546,
    "start_time": "2024-07-10T07:00:33.438Z"
   },
   {
    "duration": 14,
    "start_time": "2024-07-12T17:16:40.251Z"
   },
   {
    "duration": 5,
    "start_time": "2024-07-12T17:16:57.541Z"
   },
   {
    "duration": 5,
    "start_time": "2024-07-12T17:17:11.902Z"
   },
   {
    "duration": 304,
    "start_time": "2024-07-12T17:46:31.101Z"
   },
   {
    "duration": 582,
    "start_time": "2024-07-12T17:47:24.611Z"
   },
   {
    "duration": 1630,
    "start_time": "2024-07-12T17:47:25.196Z"
   },
   {
    "duration": 31,
    "start_time": "2024-07-12T17:47:26.829Z"
   },
   {
    "duration": 23,
    "start_time": "2024-07-12T17:47:26.864Z"
   },
   {
    "duration": 52,
    "start_time": "2024-07-12T17:47:26.890Z"
   },
   {
    "duration": 20,
    "start_time": "2024-07-12T17:47:26.945Z"
   },
   {
    "duration": 58,
    "start_time": "2024-07-12T17:47:26.968Z"
   },
   {
    "duration": 177,
    "start_time": "2024-07-12T17:47:27.028Z"
   },
   {
    "duration": 178,
    "start_time": "2024-07-12T17:47:27.208Z"
   },
   {
    "duration": 10,
    "start_time": "2024-07-12T17:47:27.391Z"
   },
   {
    "duration": 33,
    "start_time": "2024-07-12T17:47:27.404Z"
   },
   {
    "duration": 129,
    "start_time": "2024-07-12T17:47:27.441Z"
   },
   {
    "duration": 193,
    "start_time": "2024-07-12T17:47:27.573Z"
   },
   {
    "duration": 184,
    "start_time": "2024-07-12T17:47:27.768Z"
   },
   {
    "duration": 183,
    "start_time": "2024-07-12T17:47:27.955Z"
   },
   {
    "duration": 24,
    "start_time": "2024-07-12T17:47:28.141Z"
   },
   {
    "duration": 21,
    "start_time": "2024-07-12T17:47:28.168Z"
   },
   {
    "duration": 51,
    "start_time": "2024-07-12T17:47:28.192Z"
   },
   {
    "duration": 29,
    "start_time": "2024-07-12T17:47:28.246Z"
   },
   {
    "duration": 59,
    "start_time": "2024-07-12T17:47:28.278Z"
   },
   {
    "duration": 44,
    "start_time": "2024-07-12T17:47:28.340Z"
   },
   {
    "duration": 7,
    "start_time": "2024-07-12T17:47:28.387Z"
   },
   {
    "duration": 12,
    "start_time": "2024-07-12T17:47:28.425Z"
   },
   {
    "duration": 9,
    "start_time": "2024-07-12T17:47:28.440Z"
   },
   {
    "duration": 10,
    "start_time": "2024-07-12T17:47:28.452Z"
   },
   {
    "duration": 11,
    "start_time": "2024-07-12T17:47:28.465Z"
   },
   {
    "duration": 56,
    "start_time": "2024-07-12T17:47:28.479Z"
   },
   {
    "duration": 1373,
    "start_time": "2024-07-12T17:47:28.547Z"
   },
   {
    "duration": 1340,
    "start_time": "2024-07-12T17:47:29.922Z"
   },
   {
    "duration": 1149,
    "start_time": "2024-07-12T17:47:31.265Z"
   },
   {
    "duration": 15,
    "start_time": "2024-07-12T17:47:32.417Z"
   },
   {
    "duration": 20,
    "start_time": "2024-07-12T17:47:32.435Z"
   },
   {
    "duration": 11,
    "start_time": "2024-07-12T17:47:32.457Z"
   },
   {
    "duration": 55,
    "start_time": "2024-07-12T17:47:32.471Z"
   },
   {
    "duration": 9,
    "start_time": "2024-07-12T17:47:32.529Z"
   },
   {
    "duration": 10,
    "start_time": "2024-07-12T17:47:32.542Z"
   },
   {
    "duration": 7,
    "start_time": "2024-07-12T17:47:32.555Z"
   },
   {
    "duration": 11,
    "start_time": "2024-07-12T17:47:32.566Z"
   },
   {
    "duration": 11,
    "start_time": "2024-07-12T17:47:32.626Z"
   },
   {
    "duration": 11,
    "start_time": "2024-07-12T17:47:32.639Z"
   },
   {
    "duration": 20,
    "start_time": "2024-07-12T17:47:32.653Z"
   },
   {
    "duration": 5,
    "start_time": "2024-07-12T17:47:32.676Z"
   },
   {
    "duration": 13,
    "start_time": "2024-07-12T17:47:32.725Z"
   },
   {
    "duration": 29,
    "start_time": "2024-07-12T17:47:32.742Z"
   },
   {
    "duration": 61,
    "start_time": "2024-07-12T17:47:32.773Z"
   },
   {
    "duration": 28,
    "start_time": "2024-07-12T17:47:32.837Z"
   },
   {
    "duration": 10,
    "start_time": "2024-07-12T17:47:32.867Z"
   },
   {
    "duration": 6,
    "start_time": "2024-07-12T17:47:32.880Z"
   },
   {
    "duration": 538,
    "start_time": "2024-07-12T17:47:32.925Z"
   },
   {
    "duration": 13,
    "start_time": "2024-07-12T17:47:33.466Z"
   },
   {
    "duration": 126,
    "start_time": "2024-07-12T17:47:33.482Z"
   },
   {
    "duration": 330,
    "start_time": "2024-07-12T17:47:33.611Z"
   },
   {
    "duration": 65,
    "start_time": "2024-07-12T17:47:33.943Z"
   },
   {
    "duration": 19,
    "start_time": "2024-07-12T17:47:34.010Z"
   },
   {
    "duration": 0,
    "start_time": "2024-07-12T17:47:34.033Z"
   },
   {
    "duration": 0,
    "start_time": "2024-07-12T17:47:34.035Z"
   },
   {
    "duration": 0,
    "start_time": "2024-07-12T17:47:34.037Z"
   },
   {
    "duration": 0,
    "start_time": "2024-07-12T17:47:34.040Z"
   },
   {
    "duration": 0,
    "start_time": "2024-07-12T17:47:34.042Z"
   },
   {
    "duration": 0,
    "start_time": "2024-07-12T17:47:34.044Z"
   },
   {
    "duration": 0,
    "start_time": "2024-07-12T17:47:34.046Z"
   },
   {
    "duration": 0,
    "start_time": "2024-07-12T17:47:34.049Z"
   },
   {
    "duration": 0,
    "start_time": "2024-07-12T17:47:34.051Z"
   },
   {
    "duration": 0,
    "start_time": "2024-07-12T17:47:34.053Z"
   },
   {
    "duration": 0,
    "start_time": "2024-07-12T17:47:34.055Z"
   },
   {
    "duration": 0,
    "start_time": "2024-07-12T17:47:34.057Z"
   },
   {
    "duration": 0,
    "start_time": "2024-07-12T17:47:34.059Z"
   },
   {
    "duration": 0,
    "start_time": "2024-07-12T17:47:34.061Z"
   },
   {
    "duration": 1,
    "start_time": "2024-07-12T17:47:34.062Z"
   },
   {
    "duration": 0,
    "start_time": "2024-07-12T17:47:34.064Z"
   },
   {
    "duration": 0,
    "start_time": "2024-07-12T17:47:34.066Z"
   },
   {
    "duration": 0,
    "start_time": "2024-07-12T17:47:34.067Z"
   },
   {
    "duration": 0,
    "start_time": "2024-07-12T17:47:34.068Z"
   },
   {
    "duration": 0,
    "start_time": "2024-07-12T17:47:34.125Z"
   },
   {
    "duration": 0,
    "start_time": "2024-07-12T17:47:34.128Z"
   },
   {
    "duration": 0,
    "start_time": "2024-07-12T17:47:34.130Z"
   },
   {
    "duration": 0,
    "start_time": "2024-07-12T17:47:34.132Z"
   },
   {
    "duration": 0,
    "start_time": "2024-07-12T17:47:34.135Z"
   },
   {
    "duration": 0,
    "start_time": "2024-07-12T17:47:34.136Z"
   },
   {
    "duration": 0,
    "start_time": "2024-07-12T17:47:34.139Z"
   },
   {
    "duration": 0,
    "start_time": "2024-07-12T17:47:34.140Z"
   },
   {
    "duration": 0,
    "start_time": "2024-07-12T17:47:34.142Z"
   },
   {
    "duration": 0,
    "start_time": "2024-07-12T17:47:34.144Z"
   },
   {
    "duration": 0,
    "start_time": "2024-07-12T17:47:34.146Z"
   },
   {
    "duration": 0,
    "start_time": "2024-07-12T17:47:34.148Z"
   },
   {
    "duration": 0,
    "start_time": "2024-07-12T17:47:34.150Z"
   },
   {
    "duration": 0,
    "start_time": "2024-07-12T17:47:34.152Z"
   },
   {
    "duration": 0,
    "start_time": "2024-07-12T17:47:34.155Z"
   },
   {
    "duration": 0,
    "start_time": "2024-07-12T17:47:34.157Z"
   },
   {
    "duration": 0,
    "start_time": "2024-07-12T17:47:34.160Z"
   },
   {
    "duration": 0,
    "start_time": "2024-07-12T17:47:34.162Z"
   },
   {
    "duration": 0,
    "start_time": "2024-07-12T17:47:34.164Z"
   },
   {
    "duration": 0,
    "start_time": "2024-07-12T17:47:34.166Z"
   },
   {
    "duration": 346,
    "start_time": "2024-07-12T17:49:32.458Z"
   },
   {
    "duration": 319,
    "start_time": "2024-07-12T17:49:43.881Z"
   },
   {
    "duration": 340,
    "start_time": "2024-07-12T17:51:09.086Z"
   },
   {
    "duration": 321,
    "start_time": "2024-07-12T17:53:22.307Z"
   },
   {
    "duration": 323,
    "start_time": "2024-07-12T17:54:02.936Z"
   },
   {
    "duration": 7,
    "start_time": "2024-07-12T17:54:46.129Z"
   },
   {
    "duration": 320,
    "start_time": "2024-07-12T17:55:32.059Z"
   },
   {
    "duration": 328,
    "start_time": "2024-07-12T18:04:10.591Z"
   },
   {
    "duration": 13,
    "start_time": "2024-07-12T18:04:23.831Z"
   },
   {
    "duration": 569,
    "start_time": "2024-07-12T18:04:33.023Z"
   },
   {
    "duration": 1495,
    "start_time": "2024-07-12T18:04:33.595Z"
   },
   {
    "duration": 38,
    "start_time": "2024-07-12T18:04:35.093Z"
   },
   {
    "duration": 21,
    "start_time": "2024-07-12T18:04:35.138Z"
   },
   {
    "duration": 19,
    "start_time": "2024-07-12T18:04:35.162Z"
   },
   {
    "duration": 58,
    "start_time": "2024-07-12T18:04:35.184Z"
   },
   {
    "duration": 19,
    "start_time": "2024-07-12T18:04:35.245Z"
   },
   {
    "duration": 205,
    "start_time": "2024-07-12T18:04:35.267Z"
   },
   {
    "duration": 183,
    "start_time": "2024-07-12T18:04:35.475Z"
   },
   {
    "duration": 10,
    "start_time": "2024-07-12T18:04:35.663Z"
   },
   {
    "duration": 20,
    "start_time": "2024-07-12T18:04:35.676Z"
   },
   {
    "duration": 109,
    "start_time": "2024-07-12T18:04:35.725Z"
   },
   {
    "duration": 189,
    "start_time": "2024-07-12T18:04:35.836Z"
   },
   {
    "duration": 175,
    "start_time": "2024-07-12T18:04:36.028Z"
   },
   {
    "duration": 173,
    "start_time": "2024-07-12T18:04:36.205Z"
   },
   {
    "duration": 26,
    "start_time": "2024-07-12T18:04:36.381Z"
   },
   {
    "duration": 20,
    "start_time": "2024-07-12T18:04:36.427Z"
   },
   {
    "duration": 18,
    "start_time": "2024-07-12T18:04:36.450Z"
   },
   {
    "duration": 62,
    "start_time": "2024-07-12T18:04:36.472Z"
   },
   {
    "duration": 32,
    "start_time": "2024-07-12T18:04:36.537Z"
   },
   {
    "duration": 64,
    "start_time": "2024-07-12T18:04:36.574Z"
   },
   {
    "duration": 9,
    "start_time": "2024-07-12T18:04:36.641Z"
   },
   {
    "duration": 10,
    "start_time": "2024-07-12T18:04:36.653Z"
   },
   {
    "duration": 9,
    "start_time": "2024-07-12T18:04:36.666Z"
   },
   {
    "duration": 7,
    "start_time": "2024-07-12T18:04:36.679Z"
   },
   {
    "duration": 9,
    "start_time": "2024-07-12T18:04:36.728Z"
   },
   {
    "duration": 9,
    "start_time": "2024-07-12T18:04:36.740Z"
   },
   {
    "duration": 1363,
    "start_time": "2024-07-12T18:04:36.759Z"
   },
   {
    "duration": 1353,
    "start_time": "2024-07-12T18:04:38.127Z"
   },
   {
    "duration": 1184,
    "start_time": "2024-07-12T18:04:39.484Z"
   },
   {
    "duration": 11,
    "start_time": "2024-07-12T18:04:40.672Z"
   },
   {
    "duration": 41,
    "start_time": "2024-07-12T18:04:40.686Z"
   },
   {
    "duration": 12,
    "start_time": "2024-07-12T18:04:40.730Z"
   },
   {
    "duration": 11,
    "start_time": "2024-07-12T18:04:40.745Z"
   },
   {
    "duration": 10,
    "start_time": "2024-07-12T18:04:40.759Z"
   },
   {
    "duration": 54,
    "start_time": "2024-07-12T18:04:40.773Z"
   },
   {
    "duration": 6,
    "start_time": "2024-07-12T18:04:40.831Z"
   },
   {
    "duration": 12,
    "start_time": "2024-07-12T18:04:40.840Z"
   },
   {
    "duration": 12,
    "start_time": "2024-07-12T18:04:40.854Z"
   },
   {
    "duration": 12,
    "start_time": "2024-07-12T18:04:40.868Z"
   },
   {
    "duration": 18,
    "start_time": "2024-07-12T18:04:40.927Z"
   },
   {
    "duration": 5,
    "start_time": "2024-07-12T18:04:40.948Z"
   },
   {
    "duration": 12,
    "start_time": "2024-07-12T18:04:40.957Z"
   },
   {
    "duration": 70,
    "start_time": "2024-07-12T18:04:40.971Z"
   },
   {
    "duration": 28,
    "start_time": "2024-07-12T18:04:41.043Z"
   },
   {
    "duration": 54,
    "start_time": "2024-07-12T18:04:41.073Z"
   },
   {
    "duration": 11,
    "start_time": "2024-07-12T18:04:41.130Z"
   },
   {
    "duration": 4,
    "start_time": "2024-07-12T18:04:41.143Z"
   },
   {
    "duration": 566,
    "start_time": "2024-07-12T18:04:41.149Z"
   },
   {
    "duration": 17,
    "start_time": "2024-07-12T18:04:41.718Z"
   },
   {
    "duration": 122,
    "start_time": "2024-07-12T18:04:41.737Z"
   },
   {
    "duration": 341,
    "start_time": "2024-07-12T18:04:41.862Z"
   },
   {
    "duration": 71,
    "start_time": "2024-07-12T18:04:42.206Z"
   },
   {
    "duration": 13,
    "start_time": "2024-07-12T18:04:42.280Z"
   },
   {
    "duration": 4044,
    "start_time": "2024-07-12T18:04:42.295Z"
   },
   {
    "duration": 13,
    "start_time": "2024-07-12T18:04:46.343Z"
   },
   {
    "duration": 236,
    "start_time": "2024-07-12T18:04:46.358Z"
   },
   {
    "duration": 7,
    "start_time": "2024-07-12T18:04:46.597Z"
   },
   {
    "duration": 1333,
    "start_time": "2024-07-12T18:04:46.627Z"
   },
   {
    "duration": 209,
    "start_time": "2024-07-12T18:04:47.963Z"
   },
   {
    "duration": 12,
    "start_time": "2024-07-12T18:04:48.174Z"
   },
   {
    "duration": 8,
    "start_time": "2024-07-12T18:04:48.188Z"
   },
   {
    "duration": 13,
    "start_time": "2024-07-12T18:04:48.226Z"
   },
   {
    "duration": 5,
    "start_time": "2024-07-12T18:04:48.242Z"
   },
   {
    "duration": 14,
    "start_time": "2024-07-12T18:04:48.250Z"
   },
   {
    "duration": 5,
    "start_time": "2024-07-12T18:04:48.267Z"
   },
   {
    "duration": 55,
    "start_time": "2024-07-12T18:04:48.275Z"
   },
   {
    "duration": 11,
    "start_time": "2024-07-12T18:04:48.334Z"
   },
   {
    "duration": 434,
    "start_time": "2024-07-12T18:04:48.349Z"
   },
   {
    "duration": 77,
    "start_time": "2024-07-12T18:04:48.786Z"
   },
   {
    "duration": 8,
    "start_time": "2024-07-12T18:04:48.866Z"
   },
   {
    "duration": 354,
    "start_time": "2024-07-12T18:04:48.877Z"
   },
   {
    "duration": 168,
    "start_time": "2024-07-12T18:04:49.235Z"
   },
   {
    "duration": 22,
    "start_time": "2024-07-12T18:04:49.407Z"
   },
   {
    "duration": 27,
    "start_time": "2024-07-12T18:04:49.432Z"
   },
   {
    "duration": 520,
    "start_time": "2024-07-12T18:04:49.461Z"
   },
   {
    "duration": 13,
    "start_time": "2024-07-12T18:04:49.984Z"
   },
   {
    "duration": 1609,
    "start_time": "2024-07-12T18:04:50.000Z"
   },
   {
    "duration": 176,
    "start_time": "2024-07-12T18:04:51.612Z"
   },
   {
    "duration": 96,
    "start_time": "2024-07-12T18:04:51.791Z"
   },
   {
    "duration": 10,
    "start_time": "2024-07-12T18:04:51.889Z"
   },
   {
    "duration": 24,
    "start_time": "2024-07-12T18:04:51.928Z"
   },
   {
    "duration": 26,
    "start_time": "2024-07-12T18:04:51.955Z"
   },
   {
    "duration": 65,
    "start_time": "2024-07-12T18:04:51.984Z"
   },
   {
    "duration": 715,
    "start_time": "2024-07-12T18:04:52.052Z"
   },
   {
    "duration": 313,
    "start_time": "2024-07-12T18:04:52.770Z"
   },
   {
    "duration": 16,
    "start_time": "2024-07-12T18:04:53.086Z"
   },
   {
    "duration": 64,
    "start_time": "2024-07-12T18:04:53.104Z"
   },
   {
    "duration": 207,
    "start_time": "2024-07-12T18:04:53.171Z"
   },
   {
    "duration": 63,
    "start_time": "2024-07-12T18:04:53.381Z"
   },
   {
    "duration": 24,
    "start_time": "2024-07-12T18:04:53.447Z"
   },
   {
    "duration": 24,
    "start_time": "2024-07-12T18:04:53.474Z"
   },
   {
    "duration": 12,
    "start_time": "2024-07-12T18:09:14.335Z"
   },
   {
    "duration": 487,
    "start_time": "2024-07-12T18:10:23.924Z"
   },
   {
    "duration": 38,
    "start_time": "2024-07-12T18:10:32.429Z"
   },
   {
    "duration": 322,
    "start_time": "2024-07-12T18:16:25.531Z"
   },
   {
    "duration": 408,
    "start_time": "2024-07-12T18:16:48.037Z"
   },
   {
    "duration": 366,
    "start_time": "2024-07-12T18:19:45.606Z"
   },
   {
    "duration": 8,
    "start_time": "2024-07-12T18:20:50.701Z"
   },
   {
    "duration": 364,
    "start_time": "2024-07-12T18:20:55.804Z"
   },
   {
    "duration": 371,
    "start_time": "2024-07-12T18:23:35.072Z"
   },
   {
    "duration": 184,
    "start_time": "2024-07-12T18:24:40.211Z"
   },
   {
    "duration": 25,
    "start_time": "2024-07-12T18:24:49.760Z"
   },
   {
    "duration": 382,
    "start_time": "2024-07-12T18:24:57.258Z"
   }
  ],
  "colab": {
   "provenance": []
  },
  "kernelspec": {
   "display_name": "Python 3 (ipykernel)",
   "language": "python",
   "name": "python3"
  },
  "language_info": {
   "codemirror_mode": {
    "name": "ipython",
    "version": 3
   },
   "file_extension": ".py",
   "mimetype": "text/x-python",
   "name": "python",
   "nbconvert_exporter": "python",
   "pygments_lexer": "ipython3",
   "version": "3.12.4"
  },
  "toc": {
   "base_numbering": 1,
   "nav_menu": {},
   "number_sections": true,
   "sideBar": true,
   "skip_h1_title": true,
   "title_cell": "Table of Contents",
   "title_sidebar": "Contents",
   "toc_cell": false,
   "toc_position": {},
   "toc_section_display": true,
   "toc_window_display": false
  },
  "vscode": {
   "interpreter": {
    "hash": "01a7be9ec63e704a62cefc5fe7a4756944464ee731be31632bdf42a4cb4688cf"
   }
  }
 },
 "nbformat": 4,
 "nbformat_minor": 5
}
